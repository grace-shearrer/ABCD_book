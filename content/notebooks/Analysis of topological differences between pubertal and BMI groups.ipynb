{
 "cells": [
  {
   "cell_type": "markdown",
   "metadata": {
    "hideCode": true,
    "hidePrompt": true
   },
   "source": [
    "# Notebook for analysis of ABCD data"
   ]
  },
  {
   "cell_type": "markdown",
   "metadata": {
    "hideCode": true,
    "hidePrompt": true
   },
   "source": [
    "This notebook is the outline for the ABCD paper. As such is it divided in to sections as one would see in journal articles"
   ]
  },
  {
   "cell_type": "markdown",
   "metadata": {},
   "source": [
    "# Motivating articles"
   ]
  },
  {
   "cell_type": "markdown",
   "metadata": {},
   "source": [
    "Tooley at al,. 2019  \n",
    "Cohen and D'Esposito, 2015  \n",
    "https://www.sciencedirect.com/science/article/pii/S105381191730109X?via%3Dihub  \n",
    "https://journals.plos.org/plosbiology/article?id=10.1371/journal.pbio.1002328"
   ]
  },
  {
   "cell_type": "markdown",
   "metadata": {
    "hideCode": true,
    "hidePrompt": true
   },
   "source": [
    "## Introduction"
   ]
  },
  {
   "cell_type": "markdown",
   "metadata": {},
   "source": [
    "## Hypotheses\n",
    "#### 1.\tAssess the differences in functional connectivity, modularity, global connectivity, and participation coefficient between overweight, obese, and normal weight adolescents by pubertal status.   \n",
    "a. Hypothesis. Obese children in the prepubertal group will show low functional connectivity between the insula, frontal operculum, left middle temporal cortex, and the dlPFC based on the previous work of Moreno-Lopez. \n",
    "i. Functional connectivity: minimum edge cut  \n",
    "b. Hypothesis. Normal weight late pubertal children will show increased integration of the cingulo-operular/salience network based on the work of Marek  \n",
    "i.\tLouvain algorithm for modularity  \n",
    "ii.\tParticipation coefficient to assess integration   \n",
    "iii.\tANOVA between groups controlling for age and race/ethnicity  \n",
    "c.\tHypothesis. Obese children will show overall lower global efficiency    \n",
    "i.\tGlobal efficiency  \n",
    "ii.\tANOVA to compare BMI groups controlling for age, pubertal status, race/ethnicity  \n",
    "#### 2.\tAssess the relationship between delayed gratification, topological metrics, BMI, and puberty   \n",
    "a.\tHypothesis. Children who are both overweight/obese and in early puberty will show poor delayed gratification and this will be reflected in decreased participation coefficients in the cingulo-opercular cortex   \n",
    "i.\t2 way ANOVA between BMI and puberty with delayed gratification as an outcome measure  \n",
    "ii.\tCorrelate delayed gratification with participation coefficients in the cingulo-opercular cortex  "
   ]
  },
  {
   "cell_type": "markdown",
   "metadata": {},
   "source": [
    "### Preregistered at https://osf.io/9y73t"
   ]
  },
  {
   "cell_type": "markdown",
   "metadata": {
    "hideCode": true,
    "hidePrompt": true
   },
   "source": [
    "## Materials and Methods"
   ]
  },
  {
   "cell_type": "markdown",
   "metadata": {
    "hideCode": true,
    "hidePrompt": true
   },
   "source": [
    "### Participant Sample"
   ]
  },
  {
   "cell_type": "markdown",
   "metadata": {},
   "source": [
    "* We used a random sample from the ABCD dataset. Of the !<TOTAL possible>! we randomly selected 4524 subjects \n",
    "* The data is from the 1.0 release 2/8/2018  \n",
    "* Specifically, we used the Processed MRI Data (used for minimally processed data) fmriresults01 \n",
    "* Participants were excluded if they were missing height, weight, or did not have enough data to determine pubertal compostite score.\n",
    "* Particpants were excluded if they were prepubertal or underweight\n",
    "* In order to get even group sizes, we randomly selected even numbered cells"
   ]
  },
  {
   "cell_type": "markdown",
   "metadata": {},
   "source": [
    "### Missing subjects"
   ]
  },
  {
   "cell_type": "markdown",
   "metadata": {},
   "source": [
    "* 387 were missing pubertal data\n",
    "* 699 were prepubertal\n",
    "* 181 were underweight, of those 25 were both underweight and prepubertal. 84 were underweight and early pubertal, 59 were underweight and midpubertal. None of the late puberal were underweight. \n",
    "* 1568 had scanning data available\n",
    "* A total of 1149 met the above criteria and had a scan data"
   ]
  },
  {
   "cell_type": "markdown",
   "metadata": {},
   "source": [
    "### Measurement of BMI"
   ]
  },
  {
   "cell_type": "markdown",
   "metadata": {},
   "source": [
    "####  Important Notebook"
   ]
  },
  {
   "cell_type": "markdown",
   "metadata": {},
   "source": [
    "Exploring_imaging_data.ipyb"
   ]
  },
  {
   "cell_type": "markdown",
   "metadata": {},
   "source": [
    "To assess BMI we used the average height and average weight variables. We calculated both raw BMI and BMI percentile based on sex and age. "
   ]
  },
  {
   "cell_type": "markdown",
   "metadata": {
    "hideCode": true,
    "hidePrompt": true
   },
   "source": [
    "### Measurement of Puberty"
   ]
  },
  {
   "cell_type": "markdown",
   "metadata": {},
   "source": [
    "### General\n",
    "* pds_ht2_y = Would you say that your growth in height?\n",
    "* pds_skin2_y = Have you noticed any skin changes, especially pimples?\n",
    "* pds_bdyhair_y = And how about the growth of your body hair? (\"Body hair\" means hair any place other than your head, such as under your arms) Would you say that your body hair growth:\n",
    "#### Female specific\n",
    "* pds_f4_2_y = Have you noticed that your breasts have begun to grow?\n",
    "* pds_f5_y = Have you begun to menstruate (started to have your period)?\n",
    "#### Male specific\n",
    "* pds_m4_y = Have you noticed a deepening of your voice?\n",
    "* pds_m5_y = Have you begun to grow hair on your face?\n",
    "### Scoring Algorithms:\n",
    "* For Items 1 through 4 on the girls’ version and all items on the boys’ version, response options were: not yet started (1 point); barely started (2 points); definitely started (3 points); seems complete (4 points); I don’t know (missing). \n",
    "* Yes on the menstruation item = 4 points; no = 1 point. \n",
    "* Point values are averaged for all items to give a Pubertal Development Scale (PDS) score.\n",
    "\n",
    "#### Puberty Category Scores are computed using the criteria of Crockett (1988, unpublished) by totaling the scale values given above.\n",
    "\n",
    "#### To compute Puberty Category Scores for boys use body hair growth, voice change, and facial hair growth as follows:\n",
    "* Prepubertal = 3\n",
    "* Early Pubertal = 4 or 5 (no 3-point responses)\n",
    "* Midpubertal = 6, 7, or 8 (no 4-points)\n",
    "* Late pubertal = 9-11\n",
    "* Postpubertal = 12\n",
    "#### To compute Puberty Category Scores for girls use body hair growth, breast development, and menarche as follows:\n",
    "* Prepubertal = 2 and no menarche\n",
    "* Early Puberty = 3 and no menarche\n",
    "* Midpubertal = > 3 and no menarche\n",
    "* Late Puberty = <= 7 and menarche\n",
    "* Postpubertal = 8 and menarche."
   ]
  },
  {
   "cell_type": "markdown",
   "metadata": {
    "hideCode": true,
    "hidePrompt": true
   },
   "source": [
    "### Imaging Acquistion"
   ]
  },
  {
   "cell_type": "markdown",
   "metadata": {},
   "source": [
    "See Casey et al. 2018 https://doi.org/10.1016/j.dcn.2018.03.001"
   ]
  },
  {
   "cell_type": "markdown",
   "metadata": {
    "hideCode": true,
    "hidePrompt": true
   },
   "source": [
    "### Imaging processing"
   ]
  },
  {
   "cell_type": "markdown",
   "metadata": {},
   "source": [
    "#### Done By ABDC Image processing (common to all fMRI)\n",
    "* head motion corrected by registering  each frame to the first using AFNI’s3dvolreg (Cox, 1996) ",
    "\n",
    "* B0 distortions were corrected using the reversing gradient method (Holland, et al.,2010)  ",
    "\n",
    "* displacement field estimated fromspin-echo fieldmap scans ",
    "\n",
    "* applied to gradient-echo images after adjustment for between-scan head motion  ",
    "\n",
    "* corrected for gradient nonlinearity distortions(Jovicich,etal.,2006) ",
    "\n",
    "* between scan motion correction across all fMRI scans in imaging event ",
    "\n",
    "* registration between T2-weighted, spin-echo B0 calibration scans and T1-weighted  ",
    "\n",
    "* structural images performed using mutual information (Wells, et al., 1996) • rs-fMRI specific pre-processing  ",
    "\n",
    "* removalofinitialvolumes ",
    "\n",
    "#### 3 scanner types\n",
    "*  Siemens: 8 TRs ",
    "\n",
    "*  Philips: 8 TRs ",
    "\n",
    "*  GE DV25: 5 TRs ",
    "\n",
    "*   GE DV26: 16 TRs ",
    "\n",
    "#### normalization and demean ",
    "\n",
    "*  divide by the mean of each voxel, subtract 1, multiply by 100 ",
    "\n",
    "#### regression ",
    "\n",
    "*  linear regression to remove quadratic trends and signals correlated with ",
    "\n",
    "*  motion and mean time courses of cerebral white matter, ventricles, and whole ",
    "\n",
    "*  brain, plus first derivatives (Power, et al., 2014; Satterthwaite, et al., 2012) ",
    "\n",
    "*  motion regression included 6 parameters plus derivatives and squares ",
    "\n",
    "*  frames with displacement > 0.3 mm were excluded from the regression (Power, et al., 2014) ",
    "\n",
    "#### temporalfiltering ",
    "\n",
    "*  band-pass filtered between 0.009 and 0.08 Hz (Hallquist, et al., 2013) o pre-processedtimecoursesweresampledontothecorticalsurface  ",
    "\n",
    "*  projecting 1mm into cortical gray matter along surface normal vector ",
    "\n",
    "* motion censoring to reduce residual effects of head (Power, et al., 2012; Power, et ",
    "al., 2014) ",
    "\n",
    "*  motion estimates filtered to attenuate signals (0.31 - 0.43 Hz) associated with respiration (18.6 - 25.7 respirations / minute) ",
    "\n",
    "*  time points with FD > 0.2 mm excluded from variance and correlation calculations ",
    "\n",
    "*  time periods with < 5 contiguous, sub-threshold time points also excluded ",
    "\n",
    "*  time points that were outliers in standard deviation across ROIs also excluded "
   ]
  },
  {
   "cell_type": "markdown",
   "metadata": {},
   "source": [
    "### Python/FSL Resting State Pipeline and Network Construction\n",
    "wrapped in makinCorrelations.py  \n",
    "Chou et al. AJNAR(2012), May; 33(5): 833–838  \n",
    "https://wiki.biac.duke.edu/biac:analysis:resting_pipeline  \n",
    "\n",
    "#### Step 3\n",
    "* The functional run is meaned across time with fslmaths, then bet is applied. the resulting mask is then applied to the entire run of data\n",
    "* if provided T1 anatomical is skull stripped. –anatbetfval is used to control intensity threshold, the default is 0.5 (same as feat)\n",
    "\n",
    "#### Step 4\n",
    "* normalize the data using flirt\n",
    "* if no options are specified, then the default is the standard MNI152_T1_2mm_brain used in feat\n",
    "* if you have a specific template, you can define it with –ref (ie: a kid brain, or study specific template)\n",
    "* if your subject has already been normalized during standard pre-processing of other runs, please provide the flirt matrix from pre-stats with –flirtmat ( most likely example_func2standard.mat)\n",
    "* this will apply the previously determined flirt matrix to your functional data instead of trying to calculate a new matrix based on the functionals. the matrix from pre-stats was likely calculated using a high-resolution anatomical, also this will assure that your resting state runs are in the same space as the other runs from your subject.\n",
    "* if you've provided at T1 anatomical image then this sequence is followed: func-2-t1 t1-2-standard\n",
    "* flirt matrices are concatenated to create func-2-standard\n",
    "* if no T1 is provided, then the functional is used for the flirt normalization\n",
    "\n",
    "\n",
    "#### Step 7\n",
    "* if defaults are used, then the aal_MNI_V4 label file is used to extract the average timeseries for each of the 116 regions\n",
    "* FOR THIS ANALYSIS WE USED THE POWER ATLAS\n",
    "* cross correlation coefficients are found for the entire matrix of 116×116 regions\n",
    "* this step produces 4 files:\n",
    "-- “subject.graphml” : graphml format with regions timecourse, zr_vals, r_vals  \n",
    "-- “corrlabel_ts.txt”: extracted time series for each region  \n",
    "-- “r_matrix.nii.gz”: the correlation coefficients  \n",
    "-- “zr_matrix.nii.gz”: normalized correlation coefficients  \n",
    "-- “mask_matrix.nii.gz”: an inclusion mask for everything below the intersect of the regions, which can be used at a higher level  \n",
    "* since they are saved as nifti, then can be loaded into fslview.\n",
    "* if the default labels are used, then you can load a custom atlas ( “AAL116 Correlation Atlas” ) into fslview which will allow you to see which regions each “voxel” represents\n",
    "* this is loaded through the Atlas Toolbar, the atlas is installed on the cluster, but it can be provided with instructions to install elsewhere.\n",
    "* if you want to provide your own label file, the –corrlabel option can be used.\n",
    "* The input to this step would be a 3D image of ROIs the same size as your normalized data.\n",
    "* Each individual ROI needs to have a unique intensity value for the timecourse extraction ( ie: 5 ROIs with intergers as values from 1-5 ).\n",
    "* This would be the standard type of thing saved from the pickatlas\n",
    "* Also provide a label text –corrtext file with your labels intensity value and label name in tab delimited format\n",
    "* If your space is different from mni please provide the anterior commissure point –refacpoint for centroid/XYZ conversion\n",
    "* The correlation matrix would then be NumRois X NumRois and point 1,4 would be the corrcoef or zscore of the ROI with values 2 and 5 ( these are indexed starting at zero )"
   ]
  },
  {
   "cell_type": "markdown",
   "metadata": {},
   "source": [
    "### Network Statistics\n",
    "Important notebooks\n",
    "* ABCD_graph_analysis"
   ]
  },
  {
   "cell_type": "markdown",
   "metadata": {},
   "source": [
    "#### Functional Connectivity"
   ]
  },
  {
   "cell_type": "markdown",
   "metadata": {},
   "source": [
    "#### Clustering coefficient\n",
    "A measure of local segregation"
   ]
  },
  {
   "cell_type": "markdown",
   "metadata": {},
   "source": [
    "#### Modularity\n",
    "Used the community best partition value"
   ]
  },
  {
   "cell_type": "markdown",
   "metadata": {},
   "source": [
    "#### Participation coefficient\n",
    "Partition networks into the modules, calculate the PC per node within each group. Higher PC indicates more distributed between network connectivity, while a PC of 0 signifies a node’s links are completely within its home network (within network)."
   ]
  },
  {
   "cell_type": "markdown",
   "metadata": {},
   "source": [
    "#### Examine within larger scale networks\n",
    "YEO et al. 2011 \n",
    "Caluclare the average clustering coefficient across nodes with in each parcel \n"
   ]
  },
  {
   "cell_type": "markdown",
   "metadata": {},
   "source": [
    "### Network Null Models"
   ]
  },
  {
   "cell_type": "markdown",
   "metadata": {},
   "source": [
    "A conservative null model that preserved both the degree and strength distributions, suitable for use in complex functional brain networks. This model preserves both the sign and approximate weight of connections when permuting edges. We generated a total of 100 instantiations of each null model per participant. "
   ]
  },
  {
   "cell_type": "markdown",
   "metadata": {},
   "source": [
    "### Statistical Modeling and testing"
   ]
  },
  {
   "cell_type": "markdown",
   "metadata": {},
   "source": [
    "#### Test for non-linear effects"
   ]
  },
  {
   "cell_type": "markdown",
   "metadata": {},
   "source": [
    "#### Test for linear effects"
   ]
  },
  {
   "cell_type": "markdown",
   "metadata": {},
   "source": [
    "#### Test for the effect of distance"
   ]
  },
  {
   "cell_type": "markdown",
   "metadata": {
    "hideCode": true,
    "hidePrompt": true
   },
   "source": [
    "## Results"
   ]
  },
  {
   "cell_type": "markdown",
   "metadata": {},
   "source": [
    "On average there were 3.7 scans per subject\n",
    "1045 subjects\n"
   ]
  },
  {
   "cell_type": "markdown",
   "metadata": {
    "hideCode": true,
    "hidePrompt": true
   },
   "source": [
    "## Discussion "
   ]
  },
  {
   "cell_type": "code",
   "execution_count": null,
   "metadata": {
    "hideCode": true,
    "hidePrompt": true
   },
   "outputs": [],
   "source": []
  }
 ],
 "metadata": {
  "hide_code_all_hidden": true,
  "kernelspec": {
   "display_name": "Python 3",
   "language": "python",
   "name": "python3"
  },
  "language_info": {
   "codemirror_mode": {
    "name": "ipython",
    "version": 3
   },
   "file_extension": ".py",
   "mimetype": "text/x-python",
   "name": "python",
   "nbconvert_exporter": "python",
   "pygments_lexer": "ipython3",
   "version": "3.6.5"
  }
 },
 "nbformat": 4,
 "nbformat_minor": 2
}
