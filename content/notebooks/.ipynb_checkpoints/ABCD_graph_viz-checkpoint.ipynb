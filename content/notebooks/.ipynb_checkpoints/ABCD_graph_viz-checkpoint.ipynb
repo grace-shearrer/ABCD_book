{
 "cells": [
  {
   "cell_type": "markdown",
   "metadata": {},
   "source": [
    "# Visualization of Network Analysis for ABCD data"
   ]
  },
  {
   "cell_type": "markdown",
   "metadata": {},
   "source": [
    "http://dx.plos.org/10.1371/journal.pbio.1002328  \n",
    "https://www.sciencedirect.com/science/article/pii/S105381191730109X?via%3Dihub  \n",
    "http://visbrain.org/index.html"
   ]
  },
  {
   "cell_type": "code",
   "execution_count": 1,
   "metadata": {},
   "outputs": [
    {
     "name": "stderr",
     "output_type": "stream",
     "text": [
      "/Users/gracer/.local/lib/python3.6/site-packages/vispy/visuals/isocurve.py:22: UserWarning: VisPy is not yet compatible with matplotlib 2.2+\n",
      "  warnings.warn(\"VisPy is not yet compatible with matplotlib 2.2+\")\n"
     ]
    }
   ],
   "source": [
    "import networkx as nx\n",
    "import numpy as np\n",
    "import pandas as pd\n",
    "import community\n",
    "from sklearn.metrics.cluster import normalized_mutual_info_score\n",
    "import pickle\n",
    "import pdb\n",
    "import statistics\n",
    "import matplotlib\n",
    "matplotlib.use(\"Qt5Agg\")\n",
    "import matplotlib.pyplot as plt\n",
    "\n",
    "from visbrain.objects import ConnectObj, SceneObj, SourceObj, BrainObj\n",
    "from visbrain.io import download_file\n",
    "\n",
    "import bct"
   ]
  },
  {
   "cell_type": "markdown",
   "metadata": {},
   "source": [
    "## Define functions"
   ]
  },
  {
   "cell_type": "code",
   "execution_count": 2,
   "metadata": {},
   "outputs": [],
   "source": [
    "def create_corr_network(G, corr_direction, min_correlation):\n",
    "    ##Creates a copy of the graph\n",
    "    H = G.copy()\n",
    "    \n",
    "    ##Checks all the edges and removes some based on corr_direction\n",
    "    for stock1, stock2, weight in list(G.edges(data=True)):\n",
    "        ##if we only want to see the positive correlations we then delete the edges with weight smaller than 0        \n",
    "        if corr_direction == \"positive\":\n",
    "            ####it adds a minimum value for correlation. \n",
    "            ####If correlation weaker than the min, then it deletes the edge\n",
    "            if weight[\"weight\"] <0 or weight[\"weight\"] < min_correlation:\n",
    "                H.remove_edge(stock1, stock2)\n",
    "        ##this part runs if the corr_direction is negative and removes edges with weights equal or largen than 0\n",
    "        else:\n",
    "            ####it adds a minimum value for correlation. \n",
    "            ####If correlation weaker than the min, then it deletes the edge\n",
    "            if weight[\"weight\"] >=0 or weight[\"weight\"] > min_correlation:\n",
    "                H.remove_edge(stock1, stock2)\n",
    "                \n",
    "    \n",
    "    #crates a list for edges and for the weights\n",
    "    edges,weights = zip(*nx.get_edge_attributes(H,'weight').items())\n",
    "    \n",
    "    ### increases the value of weights, so that they are more visible in the graph\n",
    "    weights = tuple([(1+abs(x))**1 for x in weights])\n",
    "    \n",
    "    #####calculates the degree of each node\n",
    "    d = nx.degree(H)\n",
    "    #####creates list of nodes and a list their degrees that will be used later for their sizes\n",
    "    nodelist, node_sizes = zip(*list(d))\n",
    "    return(H)"
   ]
  },
  {
   "cell_type": "code",
   "execution_count": 3,
   "metadata": {},
   "outputs": [],
   "source": [
    "def create_corr_network_1(G):\n",
    "    #crates a list for edges and for the weights\n",
    "    edges,weights = zip(*nx.get_edge_attributes(G,'weight').items())\n",
    "\n",
    "    #positions\n",
    "    positions=nx.circular_layout(G)\n",
    "    \n",
    "    #Figure size\n",
    "    plt.figure(figsize=(15,15))\n",
    "\n",
    "    #draws nodes\n",
    "    nx.draw_networkx_nodes(G,positions,node_color='#DA70D6',\n",
    "                           node_size=500,alpha=0.8)\n",
    "    \n",
    "    #Styling for labels\n",
    "    nx.draw_networkx_labels(G, positions, font_size=8, \n",
    "                            font_family='sans-serif')\n",
    "        \n",
    "    #draws the edges\n",
    "    nx.draw_networkx_edges(G, positions, edge_list=edges,style='solid')\n",
    "    \n",
    "    # displays the graph without axis\n",
    "    plt.axis('off')\n",
    "    #saves image\n",
    "    plt.savefig(\"part1.png\", format=\"PNG\")\n",
    "    plt.show() \n",
    "\n",
    "#create_corr_network_1(G)"
   ]
  },
  {
   "cell_type": "markdown",
   "metadata": {},
   "source": [
    "## Read in data"
   ]
  },
  {
   "cell_type": "code",
   "execution_count": 4,
   "metadata": {},
   "outputs": [],
   "source": [
    "import pickle\n",
    "with open('/Users/gracer/Google Drive/ABCD/tmp/mini4viz', 'rb') as pickle_file:\n",
    "    try:\n",
    "        while True:\n",
    "            GRAPHS = pickle.load(pickle_file)\n",
    "    except EOFError:\n",
    "        pass"
   ]
  },
  {
   "cell_type": "code",
   "execution_count": 5,
   "metadata": {
    "scrolled": true
   },
   "outputs": [
    {
     "data": {
      "text/plain": [
       "dict_keys(['edges', 'correlations', 'mean_FC', 'graphs', 'BIGdf', 'unthresh', 'thresh', 'partitions', 'labels', 'categories', 'mean_correlations'])"
      ]
     },
     "execution_count": 5,
     "metadata": {},
     "output_type": "execute_result"
    }
   ],
   "source": [
    "GRAPHS.keys()"
   ]
  },
  {
   "cell_type": "code",
   "execution_count": 6,
   "metadata": {},
   "outputs": [],
   "source": [
    "color_dic = {0:'blue',1:'red',2:'green',3:'purple',4:'yellow',5:'pink',6:'black',7:'orange', 8:'cyan'}"
   ]
  },
  {
   "cell_type": "code",
   "execution_count": 7,
   "metadata": {},
   "outputs": [
    {
     "name": "stdout",
     "output_type": "stream",
     "text": [
      "noPART\n",
      "ovPART\n",
      "obPART\n",
      "earlyPART\n",
      "midPART\n",
      "latePART\n"
     ]
    }
   ],
   "source": [
    "for key,value in GRAPHS['partitions'].items():\n",
    "    print(key)\n",
    "    for k, v in GRAPHS['partitions'][key].items():\n",
    "        try:\n",
    "            GRAPHS['partitions'][key][k]=(color_dic[v])\n",
    "        except:\n",
    "            pass"
   ]
  },
  {
   "cell_type": "code",
   "execution_count": 8,
   "metadata": {},
   "outputs": [],
   "source": [
    "for i in range(len(list(GRAPHS['partitions'].keys()))):\n",
    "    for key, value in GRAPHS['partitions'].items():\n",
    "        for k, v in GRAPHS['partitions'][key].items():\n",
    "            list(GRAPHS['thresh'].values())[i].node(data=True)[k].update({'color':v})\n"
   ]
  },
  {
   "cell_type": "code",
   "execution_count": 9,
   "metadata": {},
   "outputs": [],
   "source": [
    "no_edge_weights=[]\n",
    "ov_edge_weights=[]\n",
    "ob_edge_weights=[]\n",
    "early_edge_weights=[]\n",
    "mid_edge_weights=[]\n",
    "late_edge_weights=[]\n",
    "weights={'no_edge_weights':no_edge_weights, 'ov_edge_weights':ov_edge_weights, 'ob_edge_weights':ob_edge_weights, 'early_edge_weights':early_edge_weights, 'mid_edge_weights':mid_edge_weights, 'late_edge_weights':late_edge_weights}\n",
    "\n",
    "no_node_colors = {}\n",
    "ov_node_colors = {}\n",
    "ob_node_colors = {}\n",
    "early_node_colors = {}\n",
    "mid_node_colors = {}\n",
    "late_node_colors = {}\n",
    "node_cols = {'no_node_colors':no_node_colors, 'ov_node_colors':ov_node_colors, 'ob_node_colors':ob_node_colors, 'early_node_colors':early_node_colors, 'mid_node_colors':mid_node_colors, 'late_node_colors':late_node_colors}\n",
    "\n",
    "\n",
    "mats=['NOmat', 'OVmat', 'OBmat', 'EARLYmat', 'MIDmat', 'LATEmat']\n",
    "PCs=['PCno','PCov','PCob','PCearly','PCmid','PClate']"
   ]
  },
  {
   "cell_type": "code",
   "execution_count": 10,
   "metadata": {},
   "outputs": [
    {
     "name": "stdout",
     "output_type": "stream",
     "text": [
      "hello world\n"
     ]
    }
   ],
   "source": [
    "print('hello world')"
   ]
  },
  {
   "cell_type": "code",
   "execution_count": 11,
   "metadata": {
    "scrolled": true
   },
   "outputs": [
    {
     "name": "stdout",
     "output_type": "stream",
     "text": [
      "0\n",
      "no_edge_weights\n",
      "no_node_colors\n",
      "noH\n",
      "NOmat\n",
      "1\n",
      "ov_edge_weights\n",
      "ov_node_colors\n",
      "ovH\n",
      "OVmat\n",
      "2\n",
      "ob_edge_weights\n",
      "ob_node_colors\n",
      "obH\n",
      "OBmat\n",
      "3\n",
      "early_edge_weights\n",
      "early_node_colors\n",
      "earlyH\n",
      "EARLYmat\n",
      "4\n",
      "mid_edge_weights\n",
      "mid_node_colors\n",
      "midH\n",
      "MIDmat\n",
      "5\n",
      "late_edge_weights\n",
      "late_node_colors\n",
      "lateH\n",
      "LATEmat\n"
     ]
    }
   ],
   "source": [
    "matrices = {}\n",
    "PC = {}\n",
    "for i in range(len(weights)):\n",
    "    print(i)\n",
    "    print(list(weights.keys())[i])\n",
    "    print(list(node_cols.keys())[i])\n",
    "    print(list(GRAPHS['thresh'].keys())[i])\n",
    "    for key, value in weights.items():\n",
    "        for e in list(GRAPHS['thresh'].values())[i].edges(data=True):\n",
    "            value.append(e[2]['weight'])\n",
    "    for key, value in node_cols.items():\n",
    "        for node in list(GRAPHS['thresh'].values())[i].nodes(data=True):\n",
    "            value[node[0]]=node[1]['color']\n",
    "    G=list(GRAPHS['unthresh'].values())[i]\n",
    "    PARTvalues = list(list(GRAPHS['partitions'].values())[i].values())\n",
    "    print(mats[i])\n",
    "    matrices[mats[i]]=nx.to_numpy_array(G=G)\n",
    "    PC[PCs[i]] = bct.participation_coef(W=nx.to_numpy_array(G=G), ci= PARTvalues)\n",
    "#     pdb.set_trace()"
   ]
  },
  {
   "cell_type": "code",
   "execution_count": 12,
   "metadata": {},
   "outputs": [],
   "source": [
    "GRAPHS['participation_coef']=PC"
   ]
  },
  {
   "cell_type": "code",
   "execution_count": 13,
   "metadata": {},
   "outputs": [
    {
     "data": {
      "text/plain": [
       "(264,)"
      ]
     },
     "execution_count": 13,
     "metadata": {},
     "output_type": "execute_result"
    }
   ],
   "source": [
    "# node_cols['no_node_colors']['hi']=10\n",
    "PC['PCearly'].shape"
   ]
  },
  {
   "cell_type": "code",
   "execution_count": 14,
   "metadata": {},
   "outputs": [],
   "source": [
    "node_positions = {node[0]: (node[1]['X'], node[1]['Y'],node[1]['Z']) for node in GRAPHS['thresh']['noH'].nodes(data=True)}"
   ]
  },
  {
   "cell_type": "markdown",
   "metadata": {},
   "source": [
    "## Participation Coefficient\n",
    "Partition networks into the modules, calculate the PC per node within each group. Higher PC indicates more distributed between network connectivity, while a PC of 0 signifies a node’s links are completely within its home network (within network)."
   ]
  },
  {
   "cell_type": "code",
   "execution_count": 15,
   "metadata": {},
   "outputs": [],
   "source": [
    "# #drawing\n",
    "# size = float(len(set(earlyPART.values())))\n",
    "# print(size)\n",
    "# pos = nx.spring_layout(earlyH)\n",
    "# count = 0.\n",
    "# for com in set(earlyPART.values()) :\n",
    "#     print(com)\n",
    "#     count = count + 1.\n",
    "#     list_nodes = [nodes for nodes in earlyPART.keys()\n",
    "#                                 if earlyPART[nodes] == com]\n",
    "#     nx.draw_networkx_nodes(earlyH, pos, list_nodes, node_size = 20,edge_vmin = 0.5, \n",
    "#                                 node_color = no_list_colors)\n",
    "\n",
    "\n",
    "# nx.draw_networkx_edges(earlyH, pos, alpha=0.5, edgelist=early_edge_keep)\n",
    "# plt.show()"
   ]
  },
  {
   "cell_type": "code",
   "execution_count": 16,
   "metadata": {},
   "outputs": [],
   "source": [
    "# # Define node positions data structure (dict) for plotting\n",
    "# node_positions = {node[0]: (node[1]['X'], -node[1]['Y']) for node in H.nodes(data=True)}\n",
    "# node_colors = {node[0]: (node[1]['color']) for node in H.nodes(data=True)}\n",
    "\n",
    "# # Preview of node_positions with a bit of hack (there is no head/slice method for dictionaries).\n",
    "# #dict(list(node_colors.items())[0:5])\n",
    "# #print(G.node(data=True))\n",
    "# list_colors=list(node_colors.values())"
   ]
  },
  {
   "cell_type": "code",
   "execution_count": 17,
   "metadata": {
    "scrolled": false
   },
   "outputs": [],
   "source": [
    "# plt.figure(figsize=(8, 6))\n",
    "# nx.draw(noH, pos=no_node_positions,  node_size=20,  edge_color = \"lightgrey\", node_color = no_list_colors)\n",
    "# plt.title('normal', size=15)\n",
    "# plt.show()"
   ]
  },
  {
   "cell_type": "code",
   "execution_count": 18,
   "metadata": {
    "scrolled": false
   },
   "outputs": [],
   "source": [
    "# plt.figure(figsize=(8, 6))\n",
    "# nx.draw(earlyH, pos=early_node_positions,  node_size=20,  edge_color = \"lightgrey\", node_color = early_list_colors)\n",
    "# plt.title('early', size=15)\n",
    "# plt.show()"
   ]
  },
  {
   "cell_type": "code",
   "execution_count": 19,
   "metadata": {
    "scrolled": false
   },
   "outputs": [],
   "source": [
    "# plt.figure(figsize=(8, 6))\n",
    "# nx.draw(obH, pos=ob_node_positions,  node_size=20,  edge_color = \"lightgrey\", node_color = ob_list_colors)\n",
    "# plt.title('obese', size=15)\n",
    "# plt.show()"
   ]
  },
  {
   "cell_type": "code",
   "execution_count": 20,
   "metadata": {
    "scrolled": false
   },
   "outputs": [],
   "source": [
    "# plt.figure(figsize=(8, 6))\n",
    "# nx.draw(midH, pos=mid_node_positions,  node_size=20,  edge_color = \"lightgrey\", node_color = mid_list_colors)\n",
    "# plt.title('Mid', size=15)\n",
    "# plt.show()"
   ]
  },
  {
   "cell_type": "code",
   "execution_count": 21,
   "metadata": {
    "scrolled": false
   },
   "outputs": [],
   "source": [
    "# plt.figure(figsize=(8, 6))\n",
    "# nx.draw(lateH, pos=late_node_positions,  node_size=20,  edge_color = \"lightgrey\", node_color = late_list_colors)\n",
    "# plt.title('Late', size=15)\n",
    "# plt.show()"
   ]
  },
  {
   "cell_type": "code",
   "execution_count": 22,
   "metadata": {},
   "outputs": [
    {
     "name": "stderr",
     "output_type": "stream",
     "text": [
      "WARNING: QCoreApplication::exec: The event loop is already running\n"
     ]
    }
   ],
   "source": [
    "nog=community.induced_graph(GRAPHS['partitions']['ovPART'],GRAPHS['thresh']['ovH'])\n",
    "create_corr_network_1(G=nog)"
   ]
  },
  {
   "cell_type": "markdown",
   "metadata": {},
   "source": [
    "### Summmary of results so far... \n",
    "Looks like the obese have one less module compared to the overweight and the normal weight \n",
    "Need to assess what each node is comprised of  \n"
   ]
  },
  {
   "cell_type": "markdown",
   "metadata": {},
   "source": [
    "# Visualizations"
   ]
  },
  {
   "cell_type": "markdown",
   "metadata": {},
   "source": [
    "## Initialize the graph area "
   ]
  },
  {
   "cell_type": "code",
   "execution_count": 23,
   "metadata": {},
   "outputs": [
    {
     "name": "stderr",
     "output_type": "stream",
     "text": [
      "Creation of a scene\n"
     ]
    }
   ],
   "source": [
    "test = SceneObj(size=(1500/2, 600/2))"
   ]
  },
  {
   "cell_type": "code",
   "execution_count": 24,
   "metadata": {},
   "outputs": [
    {
     "name": "stdout",
     "output_type": "stream",
     "text": [
      "hello world\n"
     ]
    }
   ],
   "source": [
    "print('hello world')"
   ]
  },
  {
   "cell_type": "markdown",
   "metadata": {},
   "source": [
    "## Making normal weight graph"
   ]
  },
  {
   "cell_type": "code",
   "execution_count": 25,
   "metadata": {},
   "outputs": [
    {
     "name": "stderr",
     "output_type": "stream",
     "text": [
      "ConnectObj(name='default') created\n",
      "    264 nodes detected\n",
      "    strength coloring method for connectivity\n",
      "    4 connectivity links displayed\n",
      "SourceObj(name='sources') created\n",
      "    264 sources detected\n",
      "    ConnectObj(name='default') added to the scene\n",
      "    SourceObj(name='sources') added to the scene\n",
      "BrainObj(name='B3') created\n",
      "    BrainObj(name='B3') added to the scene\n"
     ]
    }
   ],
   "source": [
    "no_nodes, no_edges = np.asarray(list(node_positions.values())), GRAPHS['mean_correlations']['mean_no']\n",
    "\n",
    "no_edges_copy = no_edges.copy()\n",
    "\n",
    "no_edges_copy[no_edges_copy >= 1.4] = 4.\n",
    "no_edges_copy[np.logical_and(no_edges_copy >= 1.1, no_edges_copy < 1.4)] = 3.\n",
    "no_edges_copy[np.logical_and(no_edges_copy >= 1., no_edges_copy < 1.1)] = 2.\n",
    "# Now we use a dctionary to set one color per value.\n",
    "ccol = {\n",
    "    None: 'lightgray',\n",
    "    2.: 'blue',\n",
    "    3.: 'orange',\n",
    "    4.: 'red'\n",
    "}\n",
    "# Define the connectivity object\n",
    "no_default = ConnectObj('default', no_nodes, no_edges_copy, line_width=5., custom_colors=ccol, select = no_edges > 1.5)\n",
    "# Then, we define the sources\n",
    "no_obj = SourceObj('sources', no_nodes, data=np.asarray(PC['PCno']) ,color=list(no_node_colors.values()), radius_max= 20, radius_min=1)\n",
    "\n",
    "test.add_to_subplot(no_default, title='Healthy weight subjects')\n",
    "# And add connect, source and brain objects to the scene\n",
    "test.add_to_subplot(no_obj)\n",
    "test.add_to_subplot(BrainObj('B3'), use_this_cam=True)"
   ]
  },
  {
   "cell_type": "code",
   "execution_count": 26,
   "metadata": {},
   "outputs": [
    {
     "name": "stderr",
     "output_type": "stream",
     "text": [
      "ConnectObj(name='default') created\n",
      "    264 nodes detected\n",
      "    strength coloring method for connectivity\n",
      "    124 connectivity links displayed\n",
      "SourceObj(name='sources') created\n",
      "    264 sources detected\n",
      "    ConnectObj(name='default') added to the scene\n",
      "    SourceObj(name='sources') added to the scene\n",
      "BrainObj(name='B3') created\n",
      "    BrainObj(name='B3') added to the scene\n"
     ]
    }
   ],
   "source": [
    "ov_nodes, ov_edges = np.asarray(list(node_positions.values())), GRAPHS['mean_correlations']['mean_ov']\n",
    "\n",
    "ov_edges_copy = ov_edges.copy()\n",
    "\n",
    "ov_edges_copy[ov_edges_copy >= 1.4] = 4.\n",
    "ov_edges_copy[np.logical_and(ov_edges_copy >= 1.1, ov_edges_copy < 1.4)] = 3.\n",
    "ov_edges_copy[np.logical_and(ov_edges_copy >= 1., ov_edges_copy < 1.1)] = 2.\n",
    "# Now we use a dctionary to set one color per value.\n",
    "ccol = {\n",
    "    None: 'lightgray',\n",
    "    2.: 'blue',\n",
    "    3.: 'orange',\n",
    "    4.: 'red'\n",
    "}\n",
    "# Define the connectivity object\n",
    "ov_default = ConnectObj('default', ov_nodes, ov_edges_copy, line_width=5., custom_colors=ccol, select = ov_edges > 1.5)\n",
    "# Then, we define the sources\n",
    "ov_obj = SourceObj('sources', ov_nodes, data=np.asarray(PC['PCov']) ,color=list(ov_node_colors.values()), radius_max= 20, radius_min=1)\n",
    "\n",
    "test.add_to_subplot(ov_default,row=0, col=1, title='Overweight weight subjects')\n",
    "test.add_to_subplot(ov_obj, use_this_cam=True, row=0, col=1)\n",
    "test.add_to_subplot(BrainObj('B3'), use_this_cam=True, row=0, col=1)\n"
   ]
  },
  {
   "cell_type": "code",
   "execution_count": 27,
   "metadata": {},
   "outputs": [
    {
     "name": "stderr",
     "output_type": "stream",
     "text": [
      "ConnectObj(name='default') created\n",
      "    264 nodes detected\n",
      "    strength coloring method for connectivity\n",
      "    30 connectivity links displayed\n",
      "SourceObj(name='sources') created\n",
      "    264 sources detected\n",
      "    ConnectObj(name='default') added to the scene\n",
      "    SourceObj(name='sources') added to the scene\n",
      "BrainObj(name='B3') created\n",
      "    BrainObj(name='B3') added to the scene\n"
     ]
    }
   ],
   "source": [
    "ob_nodes, ob_edges = np.asarray(list(node_positions.values())), GRAPHS['mean_correlations']['mean_ob']\n",
    "\n",
    "ob_edges_copy = ob_edges.copy()\n",
    "\n",
    "ob_edges_copy[ob_edges_copy >= 1.4] = 4.\n",
    "ob_edges_copy[np.logical_and(ob_edges_copy >= 1.1, ob_edges_copy < 1.4)] = 3.\n",
    "ob_edges_copy[np.logical_and(ob_edges_copy >= 1., ob_edges_copy < 1.1)] = 2.\n",
    "# Now we use a dctionary to set one color per value.\n",
    "ccol = {\n",
    "    None: 'lightgray',\n",
    "    2.: 'blue',\n",
    "    3.: 'orange',\n",
    "    4.: 'red'\n",
    "}\n",
    "# Define the connectivity object\n",
    "ob_default = ConnectObj('default', ob_nodes, ob_edges_copy, line_width=5., custom_colors=ccol, select = ob_edges > 1.5)\n",
    "# Then, we define the sources\n",
    "ob_obj = SourceObj('sources', ob_nodes, data=np.asarray(PC['PCob']) ,color=list(ob_node_colors.values()), radius_max= 20, radius_min=1)\n",
    "\n",
    "test.add_to_subplot(ob_default,row=0, col=2, title='Obese weight subjects')\n",
    "test.add_to_subplot(ob_obj, use_this_cam=True, row=0, col=2)\n",
    "test.add_to_subplot(BrainObj('B3'), use_this_cam=True, row=0, col=2)\n"
   ]
  },
  {
   "cell_type": "code",
   "execution_count": 28,
   "metadata": {},
   "outputs": [
    {
     "data": {
      "text/plain": [
       "['red', 'purple', 'pink', 'green', 'blue', 'yellow', 'black']"
      ]
     },
     "execution_count": 28,
     "metadata": {},
     "output_type": "execute_result"
    }
   ],
   "source": [
    "mylist=list(set(list(ob_node_colors.values())))\n",
    "mylist"
   ]
  },
  {
   "cell_type": "code",
   "execution_count": 29,
   "metadata": {},
   "outputs": [],
   "source": [
    "# Finally, display the scene\n",
    "test.preview()\n",
    "# test.screenshot('/Users/gracer/Google Drive/ABCD/tmp/figlayout.png', dpi=600)"
   ]
  },
  {
   "cell_type": "markdown",
   "metadata": {},
   "source": [
    "## PCS"
   ]
  },
  {
   "cell_type": "code",
   "execution_count": 30,
   "metadata": {},
   "outputs": [
    {
     "data": {
      "text/plain": [
       "array([[4.34129024, 0.81470769, 0.85554923, ..., 0.56277038, 0.6997858 ,\n",
       "        0.66208138],\n",
       "       [0.81470769, 4.59926605, 1.1776029 , ..., 0.66080671, 0.76010705,\n",
       "        0.79222238],\n",
       "       [0.85554923, 1.1776029 , 5.58426468, ..., 0.65157798, 0.75636795,\n",
       "        0.80536117],\n",
       "       ...,\n",
       "       [0.56277038, 0.66080671, 0.65157798, ..., 4.3360786 , 0.7279292 ,\n",
       "        0.66922957],\n",
       "       [0.6997858 , 0.76010705, 0.75636795, ..., 0.7279292 , 5.71716131,\n",
       "        1.10609449],\n",
       "       [0.66208138, 0.79222238, 0.80536117, ..., 0.66922957, 1.10609449,\n",
       "        5.5868705 ]])"
      ]
     },
     "execution_count": 30,
     "metadata": {},
     "output_type": "execute_result"
    }
   ],
   "source": [
    "GRAPHS['mean_correlations']['mean_early']"
   ]
  },
  {
   "cell_type": "code",
   "execution_count": 31,
   "metadata": {},
   "outputs": [
    {
     "name": "stderr",
     "output_type": "stream",
     "text": [
      "Creation of a scene\n"
     ]
    }
   ],
   "source": [
    "test = SceneObj(size=(1500/2, 600/2))"
   ]
  },
  {
   "cell_type": "code",
   "execution_count": 32,
   "metadata": {},
   "outputs": [
    {
     "name": "stderr",
     "output_type": "stream",
     "text": [
      "ConnectObj(name='default') created\n",
      "    264 nodes detected\n",
      "    strength coloring method for connectivity\n",
      "    8 connectivity links displayed\n",
      "SourceObj(name='sources') created\n",
      "    264 sources detected\n",
      "    ConnectObj(name='default') added to the scene\n",
      "    SourceObj(name='sources') added to the scene\n",
      "BrainObj(name='B3') created\n",
      "    BrainObj(name='B3') added to the scene\n"
     ]
    }
   ],
   "source": [
    "no_nodes, no_edges = np.asarray(list(node_positions.values())), GRAPHS['mean_correlations']['mean_early']\n",
    "\n",
    "no_edges_copy = no_edges.copy()\n",
    "\n",
    "no_edges_copy[no_edges_copy >= 1.4] = 4.\n",
    "no_edges_copy[np.logical_and(no_edges_copy >= 1.1, no_edges_copy < 1.4)] = 3.\n",
    "no_edges_copy[np.logical_and(no_edges_copy >= 1., no_edges_copy < 1.1)] = 2.\n",
    "# Now we use a dctionary to set one color per value.\n",
    "ccol = {\n",
    "    None: 'lightgray',\n",
    "    2.: 'blue',\n",
    "    3.: 'orange',\n",
    "    4.: 'red'\n",
    "}\n",
    "# Define the connectivity object\n",
    "no_default = ConnectObj('default', no_nodes, no_edges_copy, line_width=5., custom_colors=ccol, select = no_edges > 1.5)\n",
    "# Then, we define the sources\n",
    "no_obj = SourceObj('sources', no_nodes, data=np.asarray(PC['PCearly']) ,color=list(early_node_colors.values()), radius_max= 20, radius_min=1)\n",
    "\n",
    "test.add_to_subplot(no_default, title='Early subjects subjects')\n",
    "# And add connect, source and brain objects to the scene\n",
    "test.add_to_subplot(no_obj)\n",
    "test.add_to_subplot(BrainObj('B3'), use_this_cam=True)"
   ]
  },
  {
   "cell_type": "code",
   "execution_count": 33,
   "metadata": {},
   "outputs": [
    {
     "name": "stderr",
     "output_type": "stream",
     "text": [
      "ConnectObj(name='default') created\n",
      "    264 nodes detected\n",
      "    strength coloring method for connectivity\n",
      "    38 connectivity links displayed\n",
      "SourceObj(name='sources') created\n",
      "    264 sources detected\n",
      "    ConnectObj(name='default') added to the scene\n",
      "    SourceObj(name='sources') added to the scene\n",
      "BrainObj(name='B3') created\n",
      "    BrainObj(name='B3') added to the scene\n"
     ]
    }
   ],
   "source": [
    "ov_nodes, ov_edges = np.asarray(list(node_positions.values())), GRAPHS['mean_correlations']['mean_mid']\n",
    "\n",
    "ov_edges_copy = ov_edges.copy()\n",
    "\n",
    "ov_edges_copy[ov_edges_copy >= 1.4] = 4.\n",
    "ov_edges_copy[np.logical_and(ov_edges_copy >= 1.1, ov_edges_copy < 1.4)] = 3.\n",
    "ov_edges_copy[np.logical_and(ov_edges_copy >= 1., ov_edges_copy < 1.1)] = 2.\n",
    "# Now we use a dctionary to set one color per value.\n",
    "ccol = {\n",
    "    None: 'lightgray',\n",
    "    2.: 'blue',\n",
    "    3.: 'orange',\n",
    "    4.: 'red'\n",
    "}\n",
    "# Define the connectivity object\n",
    "ov_default = ConnectObj('default', ov_nodes, ov_edges_copy, line_width=5., custom_colors=ccol, select = ov_edges > 1.5)\n",
    "# Then, we define the sources\n",
    "ov_obj = SourceObj('sources', ov_nodes, data=np.asarray(PC['PCmid']) ,color=list(mid_node_colors.values()), radius_max= 20, radius_min=1)\n",
    "\n",
    "test.add_to_subplot(ov_default,row=0, col=1, title='Mid subjects')\n",
    "test.add_to_subplot(ov_obj, use_this_cam=True, row=0, col=1)\n",
    "test.add_to_subplot(BrainObj('B3'), use_this_cam=True, row=0, col=1)\n"
   ]
  },
  {
   "cell_type": "code",
   "execution_count": 34,
   "metadata": {},
   "outputs": [
    {
     "name": "stderr",
     "output_type": "stream",
     "text": [
      "ConnectObj(name='default') created\n",
      "    264 nodes detected\n",
      "    strength coloring method for connectivity\n",
      "    32 connectivity links displayed\n",
      "SourceObj(name='sources') created\n",
      "    264 sources detected\n",
      "    ConnectObj(name='default') added to the scene\n",
      "    SourceObj(name='sources') added to the scene\n",
      "BrainObj(name='B3') created\n",
      "    BrainObj(name='B3') added to the scene\n"
     ]
    }
   ],
   "source": [
    "ob_nodes, ob_edges = np.asarray(list(node_positions.values())), GRAPHS['mean_correlations']['mean_late']\n",
    "\n",
    "ob_edges_copy = ob_edges.copy()\n",
    "\n",
    "ob_edges_copy[ob_edges_copy >= 1.4] = 4.\n",
    "ob_edges_copy[np.logical_and(ob_edges_copy >= 1.1, ob_edges_copy < 1.4)] = 3.\n",
    "ob_edges_copy[np.logical_and(ob_edges_copy >= 1., ob_edges_copy < 1.1)] = 2.\n",
    "# Now we use a dctionary to set one color per value.\n",
    "ccol = {\n",
    "    None: 'lightgray',\n",
    "    2.: 'blue',\n",
    "    3.: 'orange',\n",
    "    4.: 'red'\n",
    "}\n",
    "# Define the connectivity object\n",
    "ob_default = ConnectObj('default', ob_nodes, ob_edges_copy, line_width=5., custom_colors=ccol, select = ob_edges > 1.5)\n",
    "# Then, we define the sources\n",
    "ob_obj = SourceObj('sources', ob_nodes, data=np.asarray(PC['PClate']) ,color=list(late_node_colors.values()), radius_max= 20, radius_min=1)\n",
    "\n",
    "test.add_to_subplot(ob_default,row=0, col=2, title='Late subjects')\n",
    "test.add_to_subplot(ob_obj, use_this_cam=True, row=0, col=2)\n",
    "test.add_to_subplot(BrainObj('B3'), use_this_cam=True, row=0, col=2)\n"
   ]
  },
  {
   "cell_type": "code",
   "execution_count": 35,
   "metadata": {},
   "outputs": [],
   "source": [
    "# Finally, display the scene\n",
    "test.preview()\n",
    "# test.screenshot('/Users/gracer/Google Drive/ABCD/tmp/figlayout.png', dpi=600)"
   ]
  },
  {
   "cell_type": "markdown",
   "metadata": {},
   "source": [
    "## Individual and Group Matrices\n",
    "Network-level analysis will be performed with inividual correltion matrices"
   ]
  },
  {
   "cell_type": "markdown",
   "metadata": {},
   "source": [
    "## Thresholding\n",
    "In accordance with van den Heuvel et al. 2017, we will examine and test statistical differences in functional connectivity (FC) defined as the mean of the correlation matrix. FC will be included in statistical tests between groups."
   ]
  },
  {
   "cell_type": "markdown",
   "metadata": {},
   "source": [
    "## Partitioning\n",
    "Will partition full 264 connectome into modules using louvain algorithm. "
   ]
  },
  {
   "cell_type": "markdown",
   "metadata": {},
   "source": [
    "## Check the partition\n",
    "Will use normalized mutual information to assess similarity between network assignments. NMI measures information shared between two probability distribution functions, specifically measuring how much knowing one distribution leads to certainty ofthe other. Permuted the labels of individual matrices between contrasts 1,000 times to generate a null distribution of NMI values for each contrast. Matrices between groups were randomly shuffled and partitioned into functional networks, and NMI was calculated.   \n",
    "https://scikit-learn.org/stable/modules/generated/sklearn.metrics.normalized_mutual_info_score.html#sklearn.metrics.normalized_mutual_info_score"
   ]
  },
  {
   "cell_type": "markdown",
   "metadata": {},
   "source": [
    "## Connectivity Strength\n",
    "Caluclate Euclidean distance for each ROI-ROI pair. Linear regression with distance as a predictor of connectivity strength between groups.  \n",
    "https://scikit-learn.org/stable/modules/generated/sklearn.metrics.pairwise.euclidean_distances.html"
   ]
  },
  {
   "cell_type": "code",
   "execution_count": 36,
   "metadata": {},
   "outputs": [
    {
     "name": "stdout",
     "output_type": "stream",
     "text": [
      "[[0, 1], [1, 1]]\n"
     ]
    },
    {
     "data": {
      "text/plain": [
       "array([[0., 1.],\n",
       "       [1., 0.]])"
      ]
     },
     "execution_count": 36,
     "metadata": {},
     "output_type": "execute_result"
    }
   ],
   "source": [
    "from sklearn.metrics.pairwise import euclidean_distances\n",
    "X = [[0, 1], [1, 1]]\n",
    "print(X)\n",
    "# distance between rows of X\n",
    "euclidean_distances(X, X)\n",
    "\n",
    "# get distance to origin\n",
    "# euclidean_distances(X, [[0, 0]])"
   ]
  },
  {
   "cell_type": "markdown",
   "metadata": {},
   "source": [
    "### Within network changes\n",
    "All within network pairwise relationships were averaged per group. Two-tailed T-test to assess differences. Bonferroni corrections as needed."
   ]
  },
  {
   "cell_type": "markdown",
   "metadata": {},
   "source": [
    "### Between network changes\n",
    "Average connectivity is calculated per network. Compare the between network interactions. "
   ]
  },
  {
   "cell_type": "markdown",
   "metadata": {},
   "source": [
    "## Pickling data to save it"
   ]
  },
  {
   "cell_type": "code",
   "execution_count": 37,
   "metadata": {},
   "outputs": [],
   "source": [
    "# GRAPHS['BIGdf'] = BIGdf\n",
    "# GRAPHS['maxes'] = maxes\n",
    "# pickle.dump(saveme, open('/Users/gracer/Google Drive/ABCD/tmp/just_mean', 'wb'), protocol=4)"
   ]
  },
  {
   "cell_type": "code",
   "execution_count": null,
   "metadata": {},
   "outputs": [],
   "source": []
  }
 ],
 "metadata": {
  "kernelspec": {
   "display_name": "Python 3",
   "language": "python",
   "name": "python3"
  },
  "language_info": {
   "codemirror_mode": {
    "name": "ipython",
    "version": 3
   },
   "file_extension": ".py",
   "mimetype": "text/x-python",
   "name": "python",
   "nbconvert_exporter": "python",
   "pygments_lexer": "ipython3",
   "version": "3.6.5"
  }
 },
 "nbformat": 4,
 "nbformat_minor": 2
}
