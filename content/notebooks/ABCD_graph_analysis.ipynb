{
 "cells": [
  {
   "cell_type": "markdown",
   "metadata": {},
   "source": [
    "# Network Analysis for ABCD data"
   ]
  },
  {
   "cell_type": "markdown",
   "metadata": {},
   "source": [
    "http://dx.plos.org/10.1371/journal.pbio.1002328  \n",
    "https://www.sciencedirect.com/science/article/pii/S105381191730109X?via%3Dihub"
   ]
  },
  {
   "cell_type": "code",
   "execution_count": null,
   "metadata": {},
   "outputs": [],
   "source": [
    "# ! pip install python-louvain"
   ]
  },
  {
   "cell_type": "code",
   "execution_count": 1,
   "metadata": {},
   "outputs": [
    {
     "name": "stderr",
     "output_type": "stream",
     "text": [
      "/Users/gracer/.local/lib/python3.6/site-packages/vispy/visuals/isocurve.py:22: UserWarning: VisPy is not yet compatible with matplotlib 2.2+\n",
      "  warnings.warn(\"VisPy is not yet compatible with matplotlib 2.2+\")\n"
     ]
    }
   ],
   "source": [
    "import glob\n",
    "import os\n",
    "import networkx as nx\n",
    "import numpy as np\n",
    "import pandas as pd\n",
    "import community\n",
    "from sklearn.metrics.cluster import normalized_mutual_info_score\n",
    "import pickle\n",
    "import pdb\n",
    "import statistics\n",
    "import matplotlib\n",
    "matplotlib.use(\"Qt5Agg\")\n",
    "import matplotlib.pyplot as plt\n",
    "\n",
    "from visbrain.objects import ConnectObj, SceneObj, SourceObj, BrainObj\n",
    "from visbrain.io import download_file"
   ]
  },
  {
   "cell_type": "markdown",
   "metadata": {},
   "source": [
    "## Data of interest (from R notebook)"
   ]
  },
  {
   "cell_type": "markdown",
   "metadata": {},
   "source": [
    "### Read in labels"
   ]
  },
  {
   "cell_type": "code",
   "execution_count": 2,
   "metadata": {},
   "outputs": [],
   "source": [
    "labels = pd.read_csv('/Users/gracer/Google Drive/ABCD/important_txt/locations.csv', sep=\",\")"
   ]
  },
  {
   "cell_type": "code",
   "execution_count": 3,
   "metadata": {
    "scrolled": false
   },
   "outputs": [],
   "source": [
    "interest =  pd.read_csv('/Users/gracer/Google Drive/ABCD/important_txt/data4analysis.txt', sep=\" \", header=None, \n",
    "                 index_col=False)\n",
    "subs=interest[0]"
   ]
  },
  {
   "cell_type": "markdown",
   "metadata": {},
   "source": [
    "## Get data"
   ]
  },
  {
   "cell_type": "code",
   "execution_count": 4,
   "metadata": {},
   "outputs": [],
   "source": [
    "data = glob.glob('/Users/gracer/Google Drive/ABCD/ABCD_puberty/_data/ABCDworking/sub-*/keep/sub-NDAR*_ses-baselineYear1Arm1_task-rest_run-0*_bold_brain_norm_zr_matrix.csv')"
   ]
  },
  {
   "cell_type": "code",
   "execution_count": 5,
   "metadata": {
    "scrolled": true
   },
   "outputs": [
    {
     "data": {
      "text/plain": [
       "['/Users/gracer/Google Drive/ABCD/ABCD_puberty/_data/ABCDworking/sub-NDARINVKCU1HRMA/keep/sub-NDARINVKCU1HRMA_ses-baselineYear1Arm1_task-rest_run-01_bold_brain_norm_zr_matrix.csv',\n",
       " '/Users/gracer/Google Drive/ABCD/ABCD_puberty/_data/ABCDworking/sub-NDARINVKCU1HRMA/keep/sub-NDARINVKCU1HRMA_ses-baselineYear1Arm1_task-rest_run-02_bold_brain_norm_zr_matrix.csv',\n",
       " '/Users/gracer/Google Drive/ABCD/ABCD_puberty/_data/ABCDworking/sub-NDARINV20CNYBBC/keep/sub-NDARINV20CNYBBC_ses-baselineYear1Arm1_task-rest_run-02_bold_brain_norm_zr_matrix.csv',\n",
       " '/Users/gracer/Google Drive/ABCD/ABCD_puberty/_data/ABCDworking/sub-NDARINV20CNYBBC/keep/sub-NDARINV20CNYBBC_ses-baselineYear1Arm1_task-rest_run-03_bold_brain_norm_zr_matrix.csv',\n",
       " '/Users/gracer/Google Drive/ABCD/ABCD_puberty/_data/ABCDworking/sub-NDARINV20CNYBBC/keep/sub-NDARINV20CNYBBC_ses-baselineYear1Arm1_task-rest_run-01_bold_brain_norm_zr_matrix.csv',\n",
       " '/Users/gracer/Google Drive/ABCD/ABCD_puberty/_data/ABCDworking/sub-NDARINVJ67B8F0J/keep/sub-NDARINVJ67B8F0J_ses-baselineYear1Arm1_task-rest_run-04_bold_brain_norm_zr_matrix.csv',\n",
       " '/Users/gracer/Google Drive/ABCD/ABCD_puberty/_data/ABCDworking/sub-NDARINVJ67B8F0J/keep/sub-NDARINVJ67B8F0J_ses-baselineYear1Arm1_task-rest_run-03_bold_brain_norm_zr_matrix.csv',\n",
       " '/Users/gracer/Google Drive/ABCD/ABCD_puberty/_data/ABCDworking/sub-NDARINVJ67B8F0J/keep/sub-NDARINVJ67B8F0J_ses-baselineYear1Arm1_task-rest_run-02_bold_brain_norm_zr_matrix.csv',\n",
       " '/Users/gracer/Google Drive/ABCD/ABCD_puberty/_data/ABCDworking/sub-NDARINVJ67B8F0J/keep/sub-NDARINVJ67B8F0J_ses-baselineYear1Arm1_task-rest_run-01_bold_brain_norm_zr_matrix.csv',\n",
       " '/Users/gracer/Google Drive/ABCD/ABCD_puberty/_data/ABCDworking/sub-NDARINVH8HNJZD4/keep/sub-NDARINVH8HNJZD4_ses-baselineYear1Arm1_task-rest_run-02_bold_brain_norm_zr_matrix.csv']"
      ]
     },
     "execution_count": 5,
     "metadata": {},
     "output_type": "execute_result"
    }
   ],
   "source": [
    "data[0:10]"
   ]
  },
  {
   "cell_type": "markdown",
   "metadata": {},
   "source": [
    "#### Make a dictonary to store the path and subject ID"
   ]
  },
  {
   "cell_type": "code",
   "execution_count": 6,
   "metadata": {
    "scrolled": false
   },
   "outputs": [],
   "source": [
    "my_dict={}\n",
    "for item in data:\n",
    "    name=item.split('/')[8]\n",
    "    my_dict.setdefault(name, []).append(item)"
   ]
  },
  {
   "cell_type": "markdown",
   "metadata": {},
   "source": [
    "### Make a dictonary of all the file paths common to the subject list "
   ]
  },
  {
   "cell_type": "code",
   "execution_count": 7,
   "metadata": {},
   "outputs": [],
   "source": [
    "path_dict = {k: my_dict[k] for k in subs if k in my_dict}"
   ]
  },
  {
   "cell_type": "markdown",
   "metadata": {},
   "source": [
    "### Make a dictonary to read in the files"
   ]
  },
  {
   "cell_type": "code",
   "execution_count": 8,
   "metadata": {},
   "outputs": [
    {
     "data": {
      "text/plain": [
       "{'sub-NDARINV019DXLU4': ['/Users/gracer/Google Drive/ABCD/ABCD_puberty/_data/ABCDworking/sub-NDARINV019DXLU4/keep/sub-NDARINV019DXLU4_ses-baselineYear1Arm1_task-rest_run-02_bold_brain_norm_zr_matrix.csv',\n",
       "  '/Users/gracer/Google Drive/ABCD/ABCD_puberty/_data/ABCDworking/sub-NDARINV019DXLU4/keep/sub-NDARINV019DXLU4_ses-baselineYear1Arm1_task-rest_run-03_bold_brain_norm_zr_matrix.csv',\n",
       "  '/Users/gracer/Google Drive/ABCD/ABCD_puberty/_data/ABCDworking/sub-NDARINV019DXLU4/keep/sub-NDARINV019DXLU4_ses-baselineYear1Arm1_task-rest_run-04_bold_brain_norm_zr_matrix.csv',\n",
       "  '/Users/gracer/Google Drive/ABCD/ABCD_puberty/_data/ABCDworking/sub-NDARINV019DXLU4/keep/sub-NDARINV019DXLU4_ses-baselineYear1Arm1_task-rest_run-01_bold_brain_norm_zr_matrix.csv'],\n",
       " 'sub-NDARINV030W95VP': ['/Users/gracer/Google Drive/ABCD/ABCD_puberty/_data/ABCDworking/sub-NDARINV030W95VP/keep/sub-NDARINV030W95VP_ses-baselineYear1Arm1_task-rest_run-01_bold_brain_norm_zr_matrix.csv',\n",
       "  '/Users/gracer/Google Drive/ABCD/ABCD_puberty/_data/ABCDworking/sub-NDARINV030W95VP/keep/sub-NDARINV030W95VP_ses-baselineYear1Arm1_task-rest_run-04_bold_brain_norm_zr_matrix.csv',\n",
       "  '/Users/gracer/Google Drive/ABCD/ABCD_puberty/_data/ABCDworking/sub-NDARINV030W95VP/keep/sub-NDARINV030W95VP_ses-baselineYear1Arm1_task-rest_run-03_bold_brain_norm_zr_matrix.csv',\n",
       "  '/Users/gracer/Google Drive/ABCD/ABCD_puberty/_data/ABCDworking/sub-NDARINV030W95VP/keep/sub-NDARINV030W95VP_ses-baselineYear1Arm1_task-rest_run-02_bold_brain_norm_zr_matrix.csv'],\n",
       " 'sub-NDARINV08FUB58A': ['/Users/gracer/Google Drive/ABCD/ABCD_puberty/_data/ABCDworking/sub-NDARINV08FUB58A/keep/sub-NDARINV08FUB58A_ses-baselineYear1Arm1_task-rest_run-01_bold_brain_norm_zr_matrix.csv',\n",
       "  '/Users/gracer/Google Drive/ABCD/ABCD_puberty/_data/ABCDworking/sub-NDARINV08FUB58A/keep/sub-NDARINV08FUB58A_ses-baselineYear1Arm1_task-rest_run-04_bold_brain_norm_zr_matrix.csv',\n",
       "  '/Users/gracer/Google Drive/ABCD/ABCD_puberty/_data/ABCDworking/sub-NDARINV08FUB58A/keep/sub-NDARINV08FUB58A_ses-baselineYear1Arm1_task-rest_run-03_bold_brain_norm_zr_matrix.csv',\n",
       "  '/Users/gracer/Google Drive/ABCD/ABCD_puberty/_data/ABCDworking/sub-NDARINV08FUB58A/keep/sub-NDARINV08FUB58A_ses-baselineYear1Arm1_task-rest_run-02_bold_brain_norm_zr_matrix.csv'],\n",
       " 'sub-NDARINV0A4ZDYNL': ['/Users/gracer/Google Drive/ABCD/ABCD_puberty/_data/ABCDworking/sub-NDARINV0A4ZDYNL/keep/sub-NDARINV0A4ZDYNL_ses-baselineYear1Arm1_task-rest_run-01_bold_brain_norm_zr_matrix.csv',\n",
       "  '/Users/gracer/Google Drive/ABCD/ABCD_puberty/_data/ABCDworking/sub-NDARINV0A4ZDYNL/keep/sub-NDARINV0A4ZDYNL_ses-baselineYear1Arm1_task-rest_run-03_bold_brain_norm_zr_matrix.csv',\n",
       "  '/Users/gracer/Google Drive/ABCD/ABCD_puberty/_data/ABCDworking/sub-NDARINV0A4ZDYNL/keep/sub-NDARINV0A4ZDYNL_ses-baselineYear1Arm1_task-rest_run-04_bold_brain_norm_zr_matrix.csv',\n",
       "  '/Users/gracer/Google Drive/ABCD/ABCD_puberty/_data/ABCDworking/sub-NDARINV0A4ZDYNL/keep/sub-NDARINV0A4ZDYNL_ses-baselineYear1Arm1_task-rest_run-02_bold_brain_norm_zr_matrix.csv'],\n",
       " 'sub-NDARINV0CKA3YZX': ['/Users/gracer/Google Drive/ABCD/ABCD_puberty/_data/ABCDworking/sub-NDARINV0CKA3YZX/keep/sub-NDARINV0CKA3YZX_ses-baselineYear1Arm1_task-rest_run-02_bold_brain_norm_zr_matrix.csv',\n",
       "  '/Users/gracer/Google Drive/ABCD/ABCD_puberty/_data/ABCDworking/sub-NDARINV0CKA3YZX/keep/sub-NDARINV0CKA3YZX_ses-baselineYear1Arm1_task-rest_run-04_bold_brain_norm_zr_matrix.csv',\n",
       "  '/Users/gracer/Google Drive/ABCD/ABCD_puberty/_data/ABCDworking/sub-NDARINV0CKA3YZX/keep/sub-NDARINV0CKA3YZX_ses-baselineYear1Arm1_task-rest_run-03_bold_brain_norm_zr_matrix.csv',\n",
       "  '/Users/gracer/Google Drive/ABCD/ABCD_puberty/_data/ABCDworking/sub-NDARINV0CKA3YZX/keep/sub-NDARINV0CKA3YZX_ses-baselineYear1Arm1_task-rest_run-01_bold_brain_norm_zr_matrix.csv'],\n",
       " 'sub-NDARINV0FUC15ZB': ['/Users/gracer/Google Drive/ABCD/ABCD_puberty/_data/ABCDworking/sub-NDARINV0FUC15ZB/keep/sub-NDARINV0FUC15ZB_ses-baselineYear1Arm1_task-rest_run-04_bold_brain_norm_zr_matrix.csv',\n",
       "  '/Users/gracer/Google Drive/ABCD/ABCD_puberty/_data/ABCDworking/sub-NDARINV0FUC15ZB/keep/sub-NDARINV0FUC15ZB_ses-baselineYear1Arm1_task-rest_run-03_bold_brain_norm_zr_matrix.csv',\n",
       "  '/Users/gracer/Google Drive/ABCD/ABCD_puberty/_data/ABCDworking/sub-NDARINV0FUC15ZB/keep/sub-NDARINV0FUC15ZB_ses-baselineYear1Arm1_task-rest_run-02_bold_brain_norm_zr_matrix.csv',\n",
       "  '/Users/gracer/Google Drive/ABCD/ABCD_puberty/_data/ABCDworking/sub-NDARINV0FUC15ZB/keep/sub-NDARINV0FUC15ZB_ses-baselineYear1Arm1_task-rest_run-01_bold_brain_norm_zr_matrix.csv'],\n",
       " 'sub-NDARINV0HXXANFJ': ['/Users/gracer/Google Drive/ABCD/ABCD_puberty/_data/ABCDworking/sub-NDARINV0HXXANFJ/keep/sub-NDARINV0HXXANFJ_ses-baselineYear1Arm1_task-rest_run-02_bold_brain_norm_zr_matrix.csv',\n",
       "  '/Users/gracer/Google Drive/ABCD/ABCD_puberty/_data/ABCDworking/sub-NDARINV0HXXANFJ/keep/sub-NDARINV0HXXANFJ_ses-baselineYear1Arm1_task-rest_run-03_bold_brain_norm_zr_matrix.csv',\n",
       "  '/Users/gracer/Google Drive/ABCD/ABCD_puberty/_data/ABCDworking/sub-NDARINV0HXXANFJ/keep/sub-NDARINV0HXXANFJ_ses-baselineYear1Arm1_task-rest_run-04_bold_brain_norm_zr_matrix.csv',\n",
       "  '/Users/gracer/Google Drive/ABCD/ABCD_puberty/_data/ABCDworking/sub-NDARINV0HXXANFJ/keep/sub-NDARINV0HXXANFJ_ses-baselineYear1Arm1_task-rest_run-01_bold_brain_norm_zr_matrix.csv'],\n",
       " 'sub-NDARINV0L7XB3AW': ['/Users/gracer/Google Drive/ABCD/ABCD_puberty/_data/ABCDworking/sub-NDARINV0L7XB3AW/keep/sub-NDARINV0L7XB3AW_ses-baselineYear1Arm1_task-rest_run-01_bold_brain_norm_zr_matrix.csv',\n",
       "  '/Users/gracer/Google Drive/ABCD/ABCD_puberty/_data/ABCDworking/sub-NDARINV0L7XB3AW/keep/sub-NDARINV0L7XB3AW_ses-baselineYear1Arm1_task-rest_run-04_bold_brain_norm_zr_matrix.csv',\n",
       "  '/Users/gracer/Google Drive/ABCD/ABCD_puberty/_data/ABCDworking/sub-NDARINV0L7XB3AW/keep/sub-NDARINV0L7XB3AW_ses-baselineYear1Arm1_task-rest_run-03_bold_brain_norm_zr_matrix.csv',\n",
       "  '/Users/gracer/Google Drive/ABCD/ABCD_puberty/_data/ABCDworking/sub-NDARINV0L7XB3AW/keep/sub-NDARINV0L7XB3AW_ses-baselineYear1Arm1_task-rest_run-02_bold_brain_norm_zr_matrix.csv'],\n",
       " 'sub-NDARINV0MCARYLD': ['/Users/gracer/Google Drive/ABCD/ABCD_puberty/_data/ABCDworking/sub-NDARINV0MCARYLD/keep/sub-NDARINV0MCARYLD_ses-baselineYear1Arm1_task-rest_run-03_bold_brain_norm_zr_matrix.csv',\n",
       "  '/Users/gracer/Google Drive/ABCD/ABCD_puberty/_data/ABCDworking/sub-NDARINV0MCARYLD/keep/sub-NDARINV0MCARYLD_ses-baselineYear1Arm1_task-rest_run-04_bold_brain_norm_zr_matrix.csv',\n",
       "  '/Users/gracer/Google Drive/ABCD/ABCD_puberty/_data/ABCDworking/sub-NDARINV0MCARYLD/keep/sub-NDARINV0MCARYLD_ses-baselineYear1Arm1_task-rest_run-02_bold_brain_norm_zr_matrix.csv',\n",
       "  '/Users/gracer/Google Drive/ABCD/ABCD_puberty/_data/ABCDworking/sub-NDARINV0MCARYLD/keep/sub-NDARINV0MCARYLD_ses-baselineYear1Arm1_task-rest_run-01_bold_brain_norm_zr_matrix.csv'],\n",
       " 'sub-NDARINV0NR55WME': ['/Users/gracer/Google Drive/ABCD/ABCD_puberty/_data/ABCDworking/sub-NDARINV0NR55WME/keep/sub-NDARINV0NR55WME_ses-baselineYear1Arm1_task-rest_run-01_bold_brain_norm_zr_matrix.csv',\n",
       "  '/Users/gracer/Google Drive/ABCD/ABCD_puberty/_data/ABCDworking/sub-NDARINV0NR55WME/keep/sub-NDARINV0NR55WME_ses-baselineYear1Arm1_task-rest_run-03_bold_brain_norm_zr_matrix.csv',\n",
       "  '/Users/gracer/Google Drive/ABCD/ABCD_puberty/_data/ABCDworking/sub-NDARINV0NR55WME/keep/sub-NDARINV0NR55WME_ses-baselineYear1Arm1_task-rest_run-04_bold_brain_norm_zr_matrix.csv',\n",
       "  '/Users/gracer/Google Drive/ABCD/ABCD_puberty/_data/ABCDworking/sub-NDARINV0NR55WME/keep/sub-NDARINV0NR55WME_ses-baselineYear1Arm1_task-rest_run-02_bold_brain_norm_zr_matrix.csv'],\n",
       " 'sub-NDARINV0VBJ9TP2': ['/Users/gracer/Google Drive/ABCD/ABCD_puberty/_data/ABCDworking/sub-NDARINV0VBJ9TP2/keep/sub-NDARINV0VBJ9TP2_ses-baselineYear1Arm1_task-rest_run-01_bold_brain_norm_zr_matrix.csv',\n",
       "  '/Users/gracer/Google Drive/ABCD/ABCD_puberty/_data/ABCDworking/sub-NDARINV0VBJ9TP2/keep/sub-NDARINV0VBJ9TP2_ses-baselineYear1Arm1_task-rest_run-03_bold_brain_norm_zr_matrix.csv',\n",
       "  '/Users/gracer/Google Drive/ABCD/ABCD_puberty/_data/ABCDworking/sub-NDARINV0VBJ9TP2/keep/sub-NDARINV0VBJ9TP2_ses-baselineYear1Arm1_task-rest_run-04_bold_brain_norm_zr_matrix.csv',\n",
       "  '/Users/gracer/Google Drive/ABCD/ABCD_puberty/_data/ABCDworking/sub-NDARINV0VBJ9TP2/keep/sub-NDARINV0VBJ9TP2_ses-baselineYear1Arm1_task-rest_run-02_bold_brain_norm_zr_matrix.csv'],\n",
       " 'sub-NDARINV0W00RU2X': ['/Users/gracer/Google Drive/ABCD/ABCD_puberty/_data/ABCDworking/sub-NDARINV0W00RU2X/keep/sub-NDARINV0W00RU2X_ses-baselineYear1Arm1_task-rest_run-04_bold_brain_norm_zr_matrix.csv',\n",
       "  '/Users/gracer/Google Drive/ABCD/ABCD_puberty/_data/ABCDworking/sub-NDARINV0W00RU2X/keep/sub-NDARINV0W00RU2X_ses-baselineYear1Arm1_task-rest_run-03_bold_brain_norm_zr_matrix.csv',\n",
       "  '/Users/gracer/Google Drive/ABCD/ABCD_puberty/_data/ABCDworking/sub-NDARINV0W00RU2X/keep/sub-NDARINV0W00RU2X_ses-baselineYear1Arm1_task-rest_run-02_bold_brain_norm_zr_matrix.csv',\n",
       "  '/Users/gracer/Google Drive/ABCD/ABCD_puberty/_data/ABCDworking/sub-NDARINV0W00RU2X/keep/sub-NDARINV0W00RU2X_ses-baselineYear1Arm1_task-rest_run-01_bold_brain_norm_zr_matrix.csv'],\n",
       " 'sub-NDARINV0X02CUCY': ['/Users/gracer/Google Drive/ABCD/ABCD_puberty/_data/ABCDworking/sub-NDARINV0X02CUCY/keep/sub-NDARINV0X02CUCY_ses-baselineYear1Arm1_task-rest_run-01_bold_brain_norm_zr_matrix.csv',\n",
       "  '/Users/gracer/Google Drive/ABCD/ABCD_puberty/_data/ABCDworking/sub-NDARINV0X02CUCY/keep/sub-NDARINV0X02CUCY_ses-baselineYear1Arm1_task-rest_run-04_bold_brain_norm_zr_matrix.csv',\n",
       "  '/Users/gracer/Google Drive/ABCD/ABCD_puberty/_data/ABCDworking/sub-NDARINV0X02CUCY/keep/sub-NDARINV0X02CUCY_ses-baselineYear1Arm1_task-rest_run-03_bold_brain_norm_zr_matrix.csv',\n",
       "  '/Users/gracer/Google Drive/ABCD/ABCD_puberty/_data/ABCDworking/sub-NDARINV0X02CUCY/keep/sub-NDARINV0X02CUCY_ses-baselineYear1Arm1_task-rest_run-02_bold_brain_norm_zr_matrix.csv'],\n",
       " 'sub-NDARINV10ZLTFJZ': ['/Users/gracer/Google Drive/ABCD/ABCD_puberty/_data/ABCDworking/sub-NDARINV10ZLTFJZ/keep/sub-NDARINV10ZLTFJZ_ses-baselineYear1Arm1_task-rest_run-01_bold_brain_norm_zr_matrix.csv',\n",
       "  '/Users/gracer/Google Drive/ABCD/ABCD_puberty/_data/ABCDworking/sub-NDARINV10ZLTFJZ/keep/sub-NDARINV10ZLTFJZ_ses-baselineYear1Arm1_task-rest_run-03_bold_brain_norm_zr_matrix.csv',\n",
       "  '/Users/gracer/Google Drive/ABCD/ABCD_puberty/_data/ABCDworking/sub-NDARINV10ZLTFJZ/keep/sub-NDARINV10ZLTFJZ_ses-baselineYear1Arm1_task-rest_run-04_bold_brain_norm_zr_matrix.csv',\n",
       "  '/Users/gracer/Google Drive/ABCD/ABCD_puberty/_data/ABCDworking/sub-NDARINV10ZLTFJZ/keep/sub-NDARINV10ZLTFJZ_ses-baselineYear1Arm1_task-rest_run-02_bold_brain_norm_zr_matrix.csv'],\n",
       " 'sub-NDARINV1MKWVMP1': ['/Users/gracer/Google Drive/ABCD/ABCD_puberty/_data/ABCDworking/sub-NDARINV1MKWVMP1/keep/sub-NDARINV1MKWVMP1_ses-baselineYear1Arm1_task-rest_run-02_bold_brain_norm_zr_matrix.csv',\n",
       "  '/Users/gracer/Google Drive/ABCD/ABCD_puberty/_data/ABCDworking/sub-NDARINV1MKWVMP1/keep/sub-NDARINV1MKWVMP1_ses-baselineYear1Arm1_task-rest_run-04_bold_brain_norm_zr_matrix.csv',\n",
       "  '/Users/gracer/Google Drive/ABCD/ABCD_puberty/_data/ABCDworking/sub-NDARINV1MKWVMP1/keep/sub-NDARINV1MKWVMP1_ses-baselineYear1Arm1_task-rest_run-03_bold_brain_norm_zr_matrix.csv',\n",
       "  '/Users/gracer/Google Drive/ABCD/ABCD_puberty/_data/ABCDworking/sub-NDARINV1MKWVMP1/keep/sub-NDARINV1MKWVMP1_ses-baselineYear1Arm1_task-rest_run-01_bold_brain_norm_zr_matrix.csv'],\n",
       " 'sub-NDARINV1NJK6BVY': ['/Users/gracer/Google Drive/ABCD/ABCD_puberty/_data/ABCDworking/sub-NDARINV1NJK6BVY/keep/sub-NDARINV1NJK6BVY_ses-baselineYear1Arm1_task-rest_run-04_bold_brain_norm_zr_matrix.csv',\n",
       "  '/Users/gracer/Google Drive/ABCD/ABCD_puberty/_data/ABCDworking/sub-NDARINV1NJK6BVY/keep/sub-NDARINV1NJK6BVY_ses-baselineYear1Arm1_task-rest_run-03_bold_brain_norm_zr_matrix.csv',\n",
       "  '/Users/gracer/Google Drive/ABCD/ABCD_puberty/_data/ABCDworking/sub-NDARINV1NJK6BVY/keep/sub-NDARINV1NJK6BVY_ses-baselineYear1Arm1_task-rest_run-02_bold_brain_norm_zr_matrix.csv',\n",
       "  '/Users/gracer/Google Drive/ABCD/ABCD_puberty/_data/ABCDworking/sub-NDARINV1NJK6BVY/keep/sub-NDARINV1NJK6BVY_ses-baselineYear1Arm1_task-rest_run-01_bold_brain_norm_zr_matrix.csv'],\n",
       " 'sub-NDARINV1NZMD6UK': ['/Users/gracer/Google Drive/ABCD/ABCD_puberty/_data/ABCDworking/sub-NDARINV1NZMD6UK/keep/sub-NDARINV1NZMD6UK_ses-baselineYear1Arm1_task-rest_run-02_bold_brain_norm_zr_matrix.csv',\n",
       "  '/Users/gracer/Google Drive/ABCD/ABCD_puberty/_data/ABCDworking/sub-NDARINV1NZMD6UK/keep/sub-NDARINV1NZMD6UK_ses-baselineYear1Arm1_task-rest_run-03_bold_brain_norm_zr_matrix.csv',\n",
       "  '/Users/gracer/Google Drive/ABCD/ABCD_puberty/_data/ABCDworking/sub-NDARINV1NZMD6UK/keep/sub-NDARINV1NZMD6UK_ses-baselineYear1Arm1_task-rest_run-04_bold_brain_norm_zr_matrix.csv',\n",
       "  '/Users/gracer/Google Drive/ABCD/ABCD_puberty/_data/ABCDworking/sub-NDARINV1NZMD6UK/keep/sub-NDARINV1NZMD6UK_ses-baselineYear1Arm1_task-rest_run-01_bold_brain_norm_zr_matrix.csv'],\n",
       " 'sub-NDARINV1T4GDEXG': ['/Users/gracer/Google Drive/ABCD/ABCD_puberty/_data/ABCDworking/sub-NDARINV1T4GDEXG/keep/sub-NDARINV1T4GDEXG_ses-baselineYear1Arm1_task-rest_run-01_bold_brain_norm_zr_matrix.csv',\n",
       "  '/Users/gracer/Google Drive/ABCD/ABCD_puberty/_data/ABCDworking/sub-NDARINV1T4GDEXG/keep/sub-NDARINV1T4GDEXG_ses-baselineYear1Arm1_task-rest_run-02_bold_brain_norm_zr_matrix.csv',\n",
       "  '/Users/gracer/Google Drive/ABCD/ABCD_puberty/_data/ABCDworking/sub-NDARINV1T4GDEXG/keep/sub-NDARINV1T4GDEXG_ses-baselineYear1Arm1_task-rest_run-03_bold_brain_norm_zr_matrix.csv'],\n",
       " 'sub-NDARINV1Y1Z29D0': ['/Users/gracer/Google Drive/ABCD/ABCD_puberty/_data/ABCDworking/sub-NDARINV1Y1Z29D0/keep/sub-NDARINV1Y1Z29D0_ses-baselineYear1Arm1_task-rest_run-01_bold_brain_norm_zr_matrix.csv',\n",
       "  '/Users/gracer/Google Drive/ABCD/ABCD_puberty/_data/ABCDworking/sub-NDARINV1Y1Z29D0/keep/sub-NDARINV1Y1Z29D0_ses-baselineYear1Arm1_task-rest_run-03_bold_brain_norm_zr_matrix.csv',\n",
       "  '/Users/gracer/Google Drive/ABCD/ABCD_puberty/_data/ABCDworking/sub-NDARINV1Y1Z29D0/keep/sub-NDARINV1Y1Z29D0_ses-baselineYear1Arm1_task-rest_run-04_bold_brain_norm_zr_matrix.csv',\n",
       "  '/Users/gracer/Google Drive/ABCD/ABCD_puberty/_data/ABCDworking/sub-NDARINV1Y1Z29D0/keep/sub-NDARINV1Y1Z29D0_ses-baselineYear1Arm1_task-rest_run-02_bold_brain_norm_zr_matrix.csv'],\n",
       " 'sub-NDARINV227DRH6R': ['/Users/gracer/Google Drive/ABCD/ABCD_puberty/_data/ABCDworking/sub-NDARINV227DRH6R/keep/sub-NDARINV227DRH6R_ses-baselineYear1Arm1_task-rest_run-01_bold_brain_norm_zr_matrix.csv',\n",
       "  '/Users/gracer/Google Drive/ABCD/ABCD_puberty/_data/ABCDworking/sub-NDARINV227DRH6R/keep/sub-NDARINV227DRH6R_ses-baselineYear1Arm1_task-rest_run-02_bold_brain_norm_zr_matrix.csv',\n",
       "  '/Users/gracer/Google Drive/ABCD/ABCD_puberty/_data/ABCDworking/sub-NDARINV227DRH6R/keep/sub-NDARINV227DRH6R_ses-baselineYear1Arm1_task-rest_run-03_bold_brain_norm_zr_matrix.csv'],\n",
       " 'sub-NDARINV23XZD51D': ['/Users/gracer/Google Drive/ABCD/ABCD_puberty/_data/ABCDworking/sub-NDARINV23XZD51D/keep/sub-NDARINV23XZD51D_ses-baselineYear1Arm1_task-rest_run-02_bold_brain_norm_zr_matrix.csv',\n",
       "  '/Users/gracer/Google Drive/ABCD/ABCD_puberty/_data/ABCDworking/sub-NDARINV23XZD51D/keep/sub-NDARINV23XZD51D_ses-baselineYear1Arm1_task-rest_run-03_bold_brain_norm_zr_matrix.csv',\n",
       "  '/Users/gracer/Google Drive/ABCD/ABCD_puberty/_data/ABCDworking/sub-NDARINV23XZD51D/keep/sub-NDARINV23XZD51D_ses-baselineYear1Arm1_task-rest_run-04_bold_brain_norm_zr_matrix.csv',\n",
       "  '/Users/gracer/Google Drive/ABCD/ABCD_puberty/_data/ABCDworking/sub-NDARINV23XZD51D/keep/sub-NDARINV23XZD51D_ses-baselineYear1Arm1_task-rest_run-01_bold_brain_norm_zr_matrix.csv'],\n",
       " 'sub-NDARINV24MJ2521': ['/Users/gracer/Google Drive/ABCD/ABCD_puberty/_data/ABCDworking/sub-NDARINV24MJ2521/keep/sub-NDARINV24MJ2521_ses-baselineYear1Arm1_task-rest_run-01_bold_brain_norm_zr_matrix.csv',\n",
       "  '/Users/gracer/Google Drive/ABCD/ABCD_puberty/_data/ABCDworking/sub-NDARINV24MJ2521/keep/sub-NDARINV24MJ2521_ses-baselineYear1Arm1_task-rest_run-03_bold_brain_norm_zr_matrix.csv',\n",
       "  '/Users/gracer/Google Drive/ABCD/ABCD_puberty/_data/ABCDworking/sub-NDARINV24MJ2521/keep/sub-NDARINV24MJ2521_ses-baselineYear1Arm1_task-rest_run-04_bold_brain_norm_zr_matrix.csv',\n",
       "  '/Users/gracer/Google Drive/ABCD/ABCD_puberty/_data/ABCDworking/sub-NDARINV24MJ2521/keep/sub-NDARINV24MJ2521_ses-baselineYear1Arm1_task-rest_run-02_bold_brain_norm_zr_matrix.csv'],\n",
       " 'sub-NDARINV25L6LKK7': ['/Users/gracer/Google Drive/ABCD/ABCD_puberty/_data/ABCDworking/sub-NDARINV25L6LKK7/keep/sub-NDARINV25L6LKK7_ses-baselineYear1Arm1_task-rest_run-01_bold_brain_norm_zr_matrix.csv',\n",
       "  '/Users/gracer/Google Drive/ABCD/ABCD_puberty/_data/ABCDworking/sub-NDARINV25L6LKK7/keep/sub-NDARINV25L6LKK7_ses-baselineYear1Arm1_task-rest_run-02_bold_brain_norm_zr_matrix.csv'],\n",
       " 'sub-NDARINV26E5WLZL': ['/Users/gracer/Google Drive/ABCD/ABCD_puberty/_data/ABCDworking/sub-NDARINV26E5WLZL/keep/sub-NDARINV26E5WLZL_ses-baselineYear1Arm1_task-rest_run-02_bold_brain_norm_zr_matrix.csv',\n",
       "  '/Users/gracer/Google Drive/ABCD/ABCD_puberty/_data/ABCDworking/sub-NDARINV26E5WLZL/keep/sub-NDARINV26E5WLZL_ses-baselineYear1Arm1_task-rest_run-04_bold_brain_norm_zr_matrix.csv',\n",
       "  '/Users/gracer/Google Drive/ABCD/ABCD_puberty/_data/ABCDworking/sub-NDARINV26E5WLZL/keep/sub-NDARINV26E5WLZL_ses-baselineYear1Arm1_task-rest_run-03_bold_brain_norm_zr_matrix.csv',\n",
       "  '/Users/gracer/Google Drive/ABCD/ABCD_puberty/_data/ABCDworking/sub-NDARINV26E5WLZL/keep/sub-NDARINV26E5WLZL_ses-baselineYear1Arm1_task-rest_run-01_bold_brain_norm_zr_matrix.csv'],\n",
       " 'sub-NDARINV2BKVEFL8': ['/Users/gracer/Google Drive/ABCD/ABCD_puberty/_data/ABCDworking/sub-NDARINV2BKVEFL8/keep/sub-NDARINV2BKVEFL8_ses-baselineYear1Arm1_task-rest_run-01_bold_brain_norm_zr_matrix.csv',\n",
       "  '/Users/gracer/Google Drive/ABCD/ABCD_puberty/_data/ABCDworking/sub-NDARINV2BKVEFL8/keep/sub-NDARINV2BKVEFL8_ses-baselineYear1Arm1_task-rest_run-02_bold_brain_norm_zr_matrix.csv',\n",
       "  '/Users/gracer/Google Drive/ABCD/ABCD_puberty/_data/ABCDworking/sub-NDARINV2BKVEFL8/keep/sub-NDARINV2BKVEFL8_ses-baselineYear1Arm1_task-rest_run-03_bold_brain_norm_zr_matrix.csv',\n",
       "  '/Users/gracer/Google Drive/ABCD/ABCD_puberty/_data/ABCDworking/sub-NDARINV2BKVEFL8/keep/sub-NDARINV2BKVEFL8_ses-baselineYear1Arm1_task-rest_run-04_bold_brain_norm_zr_matrix.csv'],\n",
       " 'sub-NDARINV2EW24V3A': ['/Users/gracer/Google Drive/ABCD/ABCD_puberty/_data/ABCDworking/sub-NDARINV2EW24V3A/keep/sub-NDARINV2EW24V3A_ses-baselineYear1Arm1_task-rest_run-01_bold_brain_norm_zr_matrix.csv',\n",
       "  '/Users/gracer/Google Drive/ABCD/ABCD_puberty/_data/ABCDworking/sub-NDARINV2EW24V3A/keep/sub-NDARINV2EW24V3A_ses-baselineYear1Arm1_task-rest_run-02_bold_brain_norm_zr_matrix.csv',\n",
       "  '/Users/gracer/Google Drive/ABCD/ABCD_puberty/_data/ABCDworking/sub-NDARINV2EW24V3A/keep/sub-NDARINV2EW24V3A_ses-baselineYear1Arm1_task-rest_run-03_bold_brain_norm_zr_matrix.csv'],\n",
       " 'sub-NDARINV2GRXYP02': ['/Users/gracer/Google Drive/ABCD/ABCD_puberty/_data/ABCDworking/sub-NDARINV2GRXYP02/keep/sub-NDARINV2GRXYP02_ses-baselineYear1Arm1_task-rest_run-02_bold_brain_norm_zr_matrix.csv',\n",
       "  '/Users/gracer/Google Drive/ABCD/ABCD_puberty/_data/ABCDworking/sub-NDARINV2GRXYP02/keep/sub-NDARINV2GRXYP02_ses-baselineYear1Arm1_task-rest_run-03_bold_brain_norm_zr_matrix.csv',\n",
       "  '/Users/gracer/Google Drive/ABCD/ABCD_puberty/_data/ABCDworking/sub-NDARINV2GRXYP02/keep/sub-NDARINV2GRXYP02_ses-baselineYear1Arm1_task-rest_run-04_bold_brain_norm_zr_matrix.csv',\n",
       "  '/Users/gracer/Google Drive/ABCD/ABCD_puberty/_data/ABCDworking/sub-NDARINV2GRXYP02/keep/sub-NDARINV2GRXYP02_ses-baselineYear1Arm1_task-rest_run-01_bold_brain_norm_zr_matrix.csv'],\n",
       " 'sub-NDARINV2NVERUP6': ['/Users/gracer/Google Drive/ABCD/ABCD_puberty/_data/ABCDworking/sub-NDARINV2NVERUP6/keep/sub-NDARINV2NVERUP6_ses-baselineYear1Arm1_task-rest_run-01_bold_brain_norm_zr_matrix.csv',\n",
       "  '/Users/gracer/Google Drive/ABCD/ABCD_puberty/_data/ABCDworking/sub-NDARINV2NVERUP6/keep/sub-NDARINV2NVERUP6_ses-baselineYear1Arm1_task-rest_run-02_bold_brain_norm_zr_matrix.csv',\n",
       "  '/Users/gracer/Google Drive/ABCD/ABCD_puberty/_data/ABCDworking/sub-NDARINV2NVERUP6/keep/sub-NDARINV2NVERUP6_ses-baselineYear1Arm1_task-rest_run-04_bold_brain_norm_zr_matrix.csv',\n",
       "  '/Users/gracer/Google Drive/ABCD/ABCD_puberty/_data/ABCDworking/sub-NDARINV2NVERUP6/keep/sub-NDARINV2NVERUP6_ses-baselineYear1Arm1_task-rest_run-03_bold_brain_norm_zr_matrix.csv'],\n",
       " 'sub-NDARINV39Z1U19N': ['/Users/gracer/Google Drive/ABCD/ABCD_puberty/_data/ABCDworking/sub-NDARINV39Z1U19N/keep/sub-NDARINV39Z1U19N_ses-baselineYear1Arm1_task-rest_run-03_bold_brain_norm_zr_matrix.csv',\n",
       "  '/Users/gracer/Google Drive/ABCD/ABCD_puberty/_data/ABCDworking/sub-NDARINV39Z1U19N/keep/sub-NDARINV39Z1U19N_ses-baselineYear1Arm1_task-rest_run-02_bold_brain_norm_zr_matrix.csv',\n",
       "  '/Users/gracer/Google Drive/ABCD/ABCD_puberty/_data/ABCDworking/sub-NDARINV39Z1U19N/keep/sub-NDARINV39Z1U19N_ses-baselineYear1Arm1_task-rest_run-01_bold_brain_norm_zr_matrix.csv'],\n",
       " 'sub-NDARINV3D91RVW4': ['/Users/gracer/Google Drive/ABCD/ABCD_puberty/_data/ABCDworking/sub-NDARINV3D91RVW4/keep/sub-NDARINV3D91RVW4_ses-baselineYear1Arm1_task-rest_run-01_bold_brain_norm_zr_matrix.csv',\n",
       "  '/Users/gracer/Google Drive/ABCD/ABCD_puberty/_data/ABCDworking/sub-NDARINV3D91RVW4/keep/sub-NDARINV3D91RVW4_ses-baselineYear1Arm1_task-rest_run-03_bold_brain_norm_zr_matrix.csv',\n",
       "  '/Users/gracer/Google Drive/ABCD/ABCD_puberty/_data/ABCDworking/sub-NDARINV3D91RVW4/keep/sub-NDARINV3D91RVW4_ses-baselineYear1Arm1_task-rest_run-04_bold_brain_norm_zr_matrix.csv',\n",
       "  '/Users/gracer/Google Drive/ABCD/ABCD_puberty/_data/ABCDworking/sub-NDARINV3D91RVW4/keep/sub-NDARINV3D91RVW4_ses-baselineYear1Arm1_task-rest_run-02_bold_brain_norm_zr_matrix.csv'],\n",
       " 'sub-NDARINV3KBYKMJ2': ['/Users/gracer/Google Drive/ABCD/ABCD_puberty/_data/ABCDworking/sub-NDARINV3KBYKMJ2/keep/sub-NDARINV3KBYKMJ2_ses-baselineYear1Arm1_task-rest_run-02_bold_brain_norm_zr_matrix.csv',\n",
       "  '/Users/gracer/Google Drive/ABCD/ABCD_puberty/_data/ABCDworking/sub-NDARINV3KBYKMJ2/keep/sub-NDARINV3KBYKMJ2_ses-baselineYear1Arm1_task-rest_run-03_bold_brain_norm_zr_matrix.csv',\n",
       "  '/Users/gracer/Google Drive/ABCD/ABCD_puberty/_data/ABCDworking/sub-NDARINV3KBYKMJ2/keep/sub-NDARINV3KBYKMJ2_ses-baselineYear1Arm1_task-rest_run-04_bold_brain_norm_zr_matrix.csv',\n",
       "  '/Users/gracer/Google Drive/ABCD/ABCD_puberty/_data/ABCDworking/sub-NDARINV3KBYKMJ2/keep/sub-NDARINV3KBYKMJ2_ses-baselineYear1Arm1_task-rest_run-01_bold_brain_norm_zr_matrix.csv'],\n",
       " 'sub-NDARINV3XL11J4W': ['/Users/gracer/Google Drive/ABCD/ABCD_puberty/_data/ABCDworking/sub-NDARINV3XL11J4W/keep/sub-NDARINV3XL11J4W_ses-baselineYear1Arm1_task-rest_run-04_bold_brain_norm_zr_matrix.csv',\n",
       "  '/Users/gracer/Google Drive/ABCD/ABCD_puberty/_data/ABCDworking/sub-NDARINV3XL11J4W/keep/sub-NDARINV3XL11J4W_ses-baselineYear1Arm1_task-rest_run-03_bold_brain_norm_zr_matrix.csv',\n",
       "  '/Users/gracer/Google Drive/ABCD/ABCD_puberty/_data/ABCDworking/sub-NDARINV3XL11J4W/keep/sub-NDARINV3XL11J4W_ses-baselineYear1Arm1_task-rest_run-02_bold_brain_norm_zr_matrix.csv',\n",
       "  '/Users/gracer/Google Drive/ABCD/ABCD_puberty/_data/ABCDworking/sub-NDARINV3XL11J4W/keep/sub-NDARINV3XL11J4W_ses-baselineYear1Arm1_task-rest_run-01_bold_brain_norm_zr_matrix.csv'],\n",
       " 'sub-NDARINV415JRYRK': ['/Users/gracer/Google Drive/ABCD/ABCD_puberty/_data/ABCDworking/sub-NDARINV415JRYRK/keep/sub-NDARINV415JRYRK_ses-baselineYear1Arm1_task-rest_run-03_bold_brain_norm_zr_matrix.csv',\n",
       "  '/Users/gracer/Google Drive/ABCD/ABCD_puberty/_data/ABCDworking/sub-NDARINV415JRYRK/keep/sub-NDARINV415JRYRK_ses-baselineYear1Arm1_task-rest_run-04_bold_brain_norm_zr_matrix.csv',\n",
       "  '/Users/gracer/Google Drive/ABCD/ABCD_puberty/_data/ABCDworking/sub-NDARINV415JRYRK/keep/sub-NDARINV415JRYRK_ses-baselineYear1Arm1_task-rest_run-02_bold_brain_norm_zr_matrix.csv',\n",
       "  '/Users/gracer/Google Drive/ABCD/ABCD_puberty/_data/ABCDworking/sub-NDARINV415JRYRK/keep/sub-NDARINV415JRYRK_ses-baselineYear1Arm1_task-rest_run-01_bold_brain_norm_zr_matrix.csv'],\n",
       " 'sub-NDARINV45HV5L52': ['/Users/gracer/Google Drive/ABCD/ABCD_puberty/_data/ABCDworking/sub-NDARINV45HV5L52/keep/sub-NDARINV45HV5L52_ses-baselineYear1Arm1_task-rest_run-01_bold_brain_norm_zr_matrix.csv',\n",
       "  '/Users/gracer/Google Drive/ABCD/ABCD_puberty/_data/ABCDworking/sub-NDARINV45HV5L52/keep/sub-NDARINV45HV5L52_ses-baselineYear1Arm1_task-rest_run-04_bold_brain_norm_zr_matrix.csv',\n",
       "  '/Users/gracer/Google Drive/ABCD/ABCD_puberty/_data/ABCDworking/sub-NDARINV45HV5L52/keep/sub-NDARINV45HV5L52_ses-baselineYear1Arm1_task-rest_run-03_bold_brain_norm_zr_matrix.csv',\n",
       "  '/Users/gracer/Google Drive/ABCD/ABCD_puberty/_data/ABCDworking/sub-NDARINV45HV5L52/keep/sub-NDARINV45HV5L52_ses-baselineYear1Arm1_task-rest_run-02_bold_brain_norm_zr_matrix.csv'],\n",
       " 'sub-NDARINV4878W3DV': ['/Users/gracer/Google Drive/ABCD/ABCD_puberty/_data/ABCDworking/sub-NDARINV4878W3DV/keep/sub-NDARINV4878W3DV_ses-baselineYear1Arm1_task-rest_run-02_bold_brain_norm_zr_matrix.csv',\n",
       "  '/Users/gracer/Google Drive/ABCD/ABCD_puberty/_data/ABCDworking/sub-NDARINV4878W3DV/keep/sub-NDARINV4878W3DV_ses-baselineYear1Arm1_task-rest_run-03_bold_brain_norm_zr_matrix.csv',\n",
       "  '/Users/gracer/Google Drive/ABCD/ABCD_puberty/_data/ABCDworking/sub-NDARINV4878W3DV/keep/sub-NDARINV4878W3DV_ses-baselineYear1Arm1_task-rest_run-01_bold_brain_norm_zr_matrix.csv'],\n",
       " 'sub-NDARINV4D622NWA': ['/Users/gracer/Google Drive/ABCD/ABCD_puberty/_data/ABCDworking/sub-NDARINV4D622NWA/keep/sub-NDARINV4D622NWA_ses-baselineYear1Arm1_task-rest_run-01_bold_brain_norm_zr_matrix.csv',\n",
       "  '/Users/gracer/Google Drive/ABCD/ABCD_puberty/_data/ABCDworking/sub-NDARINV4D622NWA/keep/sub-NDARINV4D622NWA_ses-baselineYear1Arm1_task-rest_run-03_bold_brain_norm_zr_matrix.csv',\n",
       "  '/Users/gracer/Google Drive/ABCD/ABCD_puberty/_data/ABCDworking/sub-NDARINV4D622NWA/keep/sub-NDARINV4D622NWA_ses-baselineYear1Arm1_task-rest_run-02_bold_brain_norm_zr_matrix.csv'],\n",
       " 'sub-NDARINV4EKBZJTW': ['/Users/gracer/Google Drive/ABCD/ABCD_puberty/_data/ABCDworking/sub-NDARINV4EKBZJTW/keep/sub-NDARINV4EKBZJTW_ses-baselineYear1Arm1_task-rest_run-04_bold_brain_norm_zr_matrix.csv',\n",
       "  '/Users/gracer/Google Drive/ABCD/ABCD_puberty/_data/ABCDworking/sub-NDARINV4EKBZJTW/keep/sub-NDARINV4EKBZJTW_ses-baselineYear1Arm1_task-rest_run-03_bold_brain_norm_zr_matrix.csv',\n",
       "  '/Users/gracer/Google Drive/ABCD/ABCD_puberty/_data/ABCDworking/sub-NDARINV4EKBZJTW/keep/sub-NDARINV4EKBZJTW_ses-baselineYear1Arm1_task-rest_run-02_bold_brain_norm_zr_matrix.csv',\n",
       "  '/Users/gracer/Google Drive/ABCD/ABCD_puberty/_data/ABCDworking/sub-NDARINV4EKBZJTW/keep/sub-NDARINV4EKBZJTW_ses-baselineYear1Arm1_task-rest_run-01_bold_brain_norm_zr_matrix.csv'],\n",
       " 'sub-NDARINV4HWVY2FD': ['/Users/gracer/Google Drive/ABCD/ABCD_puberty/_data/ABCDworking/sub-NDARINV4HWVY2FD/keep/sub-NDARINV4HWVY2FD_ses-baselineYear1Arm1_task-rest_run-03_bold_brain_norm_zr_matrix.csv',\n",
       "  '/Users/gracer/Google Drive/ABCD/ABCD_puberty/_data/ABCDworking/sub-NDARINV4HWVY2FD/keep/sub-NDARINV4HWVY2FD_ses-baselineYear1Arm1_task-rest_run-04_bold_brain_norm_zr_matrix.csv',\n",
       "  '/Users/gracer/Google Drive/ABCD/ABCD_puberty/_data/ABCDworking/sub-NDARINV4HWVY2FD/keep/sub-NDARINV4HWVY2FD_ses-baselineYear1Arm1_task-rest_run-02_bold_brain_norm_zr_matrix.csv',\n",
       "  '/Users/gracer/Google Drive/ABCD/ABCD_puberty/_data/ABCDworking/sub-NDARINV4HWVY2FD/keep/sub-NDARINV4HWVY2FD_ses-baselineYear1Arm1_task-rest_run-01_bold_brain_norm_zr_matrix.csv'],\n",
       " 'sub-NDARINV4PR3H6ZL': ['/Users/gracer/Google Drive/ABCD/ABCD_puberty/_data/ABCDworking/sub-NDARINV4PR3H6ZL/keep/sub-NDARINV4PR3H6ZL_ses-baselineYear1Arm1_task-rest_run-04_bold_brain_norm_zr_matrix.csv',\n",
       "  '/Users/gracer/Google Drive/ABCD/ABCD_puberty/_data/ABCDworking/sub-NDARINV4PR3H6ZL/keep/sub-NDARINV4PR3H6ZL_ses-baselineYear1Arm1_task-rest_run-03_bold_brain_norm_zr_matrix.csv',\n",
       "  '/Users/gracer/Google Drive/ABCD/ABCD_puberty/_data/ABCDworking/sub-NDARINV4PR3H6ZL/keep/sub-NDARINV4PR3H6ZL_ses-baselineYear1Arm1_task-rest_run-02_bold_brain_norm_zr_matrix.csv',\n",
       "  '/Users/gracer/Google Drive/ABCD/ABCD_puberty/_data/ABCDworking/sub-NDARINV4PR3H6ZL/keep/sub-NDARINV4PR3H6ZL_ses-baselineYear1Arm1_task-rest_run-01_bold_brain_norm_zr_matrix.csv'],\n",
       " 'sub-NDARINV4UZ9DDJH': ['/Users/gracer/Google Drive/ABCD/ABCD_puberty/_data/ABCDworking/sub-NDARINV4UZ9DDJH/keep/sub-NDARINV4UZ9DDJH_ses-baselineYear1Arm1_task-rest_run-01_bold_brain_norm_zr_matrix.csv',\n",
       "  '/Users/gracer/Google Drive/ABCD/ABCD_puberty/_data/ABCDworking/sub-NDARINV4UZ9DDJH/keep/sub-NDARINV4UZ9DDJH_ses-baselineYear1Arm1_task-rest_run-03_bold_brain_norm_zr_matrix.csv',\n",
       "  '/Users/gracer/Google Drive/ABCD/ABCD_puberty/_data/ABCDworking/sub-NDARINV4UZ9DDJH/keep/sub-NDARINV4UZ9DDJH_ses-baselineYear1Arm1_task-rest_run-04_bold_brain_norm_zr_matrix.csv',\n",
       "  '/Users/gracer/Google Drive/ABCD/ABCD_puberty/_data/ABCDworking/sub-NDARINV4UZ9DDJH/keep/sub-NDARINV4UZ9DDJH_ses-baselineYear1Arm1_task-rest_run-02_bold_brain_norm_zr_matrix.csv'],\n",
       " 'sub-NDARINV4Z38T1RY': ['/Users/gracer/Google Drive/ABCD/ABCD_puberty/_data/ABCDworking/sub-NDARINV4Z38T1RY/keep/sub-NDARINV4Z38T1RY_ses-baselineYear1Arm1_task-rest_run-03_bold_brain_norm_zr_matrix.csv',\n",
       "  '/Users/gracer/Google Drive/ABCD/ABCD_puberty/_data/ABCDworking/sub-NDARINV4Z38T1RY/keep/sub-NDARINV4Z38T1RY_ses-baselineYear1Arm1_task-rest_run-04_bold_brain_norm_zr_matrix.csv',\n",
       "  '/Users/gracer/Google Drive/ABCD/ABCD_puberty/_data/ABCDworking/sub-NDARINV4Z38T1RY/keep/sub-NDARINV4Z38T1RY_ses-baselineYear1Arm1_task-rest_run-02_bold_brain_norm_zr_matrix.csv',\n",
       "  '/Users/gracer/Google Drive/ABCD/ABCD_puberty/_data/ABCDworking/sub-NDARINV4Z38T1RY/keep/sub-NDARINV4Z38T1RY_ses-baselineYear1Arm1_task-rest_run-01_bold_brain_norm_zr_matrix.csv'],\n",
       " 'sub-NDARINV4Z6WBWBG': ['/Users/gracer/Google Drive/ABCD/ABCD_puberty/_data/ABCDworking/sub-NDARINV4Z6WBWBG/keep/sub-NDARINV4Z6WBWBG_ses-baselineYear1Arm1_task-rest_run-01_bold_brain_norm_zr_matrix.csv',\n",
       "  '/Users/gracer/Google Drive/ABCD/ABCD_puberty/_data/ABCDworking/sub-NDARINV4Z6WBWBG/keep/sub-NDARINV4Z6WBWBG_ses-baselineYear1Arm1_task-rest_run-04_bold_brain_norm_zr_matrix.csv',\n",
       "  '/Users/gracer/Google Drive/ABCD/ABCD_puberty/_data/ABCDworking/sub-NDARINV4Z6WBWBG/keep/sub-NDARINV4Z6WBWBG_ses-baselineYear1Arm1_task-rest_run-03_bold_brain_norm_zr_matrix.csv',\n",
       "  '/Users/gracer/Google Drive/ABCD/ABCD_puberty/_data/ABCDworking/sub-NDARINV4Z6WBWBG/keep/sub-NDARINV4Z6WBWBG_ses-baselineYear1Arm1_task-rest_run-02_bold_brain_norm_zr_matrix.csv'],\n",
       " 'sub-NDARINV50K76F6L': ['/Users/gracer/Google Drive/ABCD/ABCD_puberty/_data/ABCDworking/sub-NDARINV50K76F6L/keep/sub-NDARINV50K76F6L_ses-baselineYear1Arm1_task-rest_run-03_bold_brain_norm_zr_matrix.csv',\n",
       "  '/Users/gracer/Google Drive/ABCD/ABCD_puberty/_data/ABCDworking/sub-NDARINV50K76F6L/keep/sub-NDARINV50K76F6L_ses-baselineYear1Arm1_task-rest_run-02_bold_brain_norm_zr_matrix.csv',\n",
       "  '/Users/gracer/Google Drive/ABCD/ABCD_puberty/_data/ABCDworking/sub-NDARINV50K76F6L/keep/sub-NDARINV50K76F6L_ses-baselineYear1Arm1_task-rest_run-01_bold_brain_norm_zr_matrix.csv'],\n",
       " 'sub-NDARINV56YBTJHF': ['/Users/gracer/Google Drive/ABCD/ABCD_puberty/_data/ABCDworking/sub-NDARINV56YBTJHF/keep/sub-NDARINV56YBTJHF_ses-baselineYear1Arm1_task-rest_run-01_bold_brain_norm_zr_matrix.csv',\n",
       "  '/Users/gracer/Google Drive/ABCD/ABCD_puberty/_data/ABCDworking/sub-NDARINV56YBTJHF/keep/sub-NDARINV56YBTJHF_ses-baselineYear1Arm1_task-rest_run-02_bold_brain_norm_zr_matrix.csv',\n",
       "  '/Users/gracer/Google Drive/ABCD/ABCD_puberty/_data/ABCDworking/sub-NDARINV56YBTJHF/keep/sub-NDARINV56YBTJHF_ses-baselineYear1Arm1_task-rest_run-03_bold_brain_norm_zr_matrix.csv',\n",
       "  '/Users/gracer/Google Drive/ABCD/ABCD_puberty/_data/ABCDworking/sub-NDARINV56YBTJHF/keep/sub-NDARINV56YBTJHF_ses-baselineYear1Arm1_task-rest_run-04_bold_brain_norm_zr_matrix.csv'],\n",
       " 'sub-NDARINV578DB0G5': ['/Users/gracer/Google Drive/ABCD/ABCD_puberty/_data/ABCDworking/sub-NDARINV578DB0G5/keep/sub-NDARINV578DB0G5_ses-baselineYear1Arm1_task-rest_run-01_bold_brain_norm_zr_matrix.csv',\n",
       "  '/Users/gracer/Google Drive/ABCD/ABCD_puberty/_data/ABCDworking/sub-NDARINV578DB0G5/keep/sub-NDARINV578DB0G5_ses-baselineYear1Arm1_task-rest_run-02_bold_brain_norm_zr_matrix.csv',\n",
       "  '/Users/gracer/Google Drive/ABCD/ABCD_puberty/_data/ABCDworking/sub-NDARINV578DB0G5/keep/sub-NDARINV578DB0G5_ses-baselineYear1Arm1_task-rest_run-04_bold_brain_norm_zr_matrix.csv',\n",
       "  '/Users/gracer/Google Drive/ABCD/ABCD_puberty/_data/ABCDworking/sub-NDARINV578DB0G5/keep/sub-NDARINV578DB0G5_ses-baselineYear1Arm1_task-rest_run-03_bold_brain_norm_zr_matrix.csv'],\n",
       " 'sub-NDARINV5AC9TVN4': ['/Users/gracer/Google Drive/ABCD/ABCD_puberty/_data/ABCDworking/sub-NDARINV5AC9TVN4/keep/sub-NDARINV5AC9TVN4_ses-baselineYear1Arm1_task-rest_run-02_bold_brain_norm_zr_matrix.csv',\n",
       "  '/Users/gracer/Google Drive/ABCD/ABCD_puberty/_data/ABCDworking/sub-NDARINV5AC9TVN4/keep/sub-NDARINV5AC9TVN4_ses-baselineYear1Arm1_task-rest_run-04_bold_brain_norm_zr_matrix.csv',\n",
       "  '/Users/gracer/Google Drive/ABCD/ABCD_puberty/_data/ABCDworking/sub-NDARINV5AC9TVN4/keep/sub-NDARINV5AC9TVN4_ses-baselineYear1Arm1_task-rest_run-03_bold_brain_norm_zr_matrix.csv',\n",
       "  '/Users/gracer/Google Drive/ABCD/ABCD_puberty/_data/ABCDworking/sub-NDARINV5AC9TVN4/keep/sub-NDARINV5AC9TVN4_ses-baselineYear1Arm1_task-rest_run-01_bold_brain_norm_zr_matrix.csv'],\n",
       " 'sub-NDARINV5CAVZWXG': ['/Users/gracer/Google Drive/ABCD/ABCD_puberty/_data/ABCDworking/sub-NDARINV5CAVZWXG/keep/sub-NDARINV5CAVZWXG_ses-baselineYear1Arm1_task-rest_run-02_bold_brain_norm_zr_matrix.csv',\n",
       "  '/Users/gracer/Google Drive/ABCD/ABCD_puberty/_data/ABCDworking/sub-NDARINV5CAVZWXG/keep/sub-NDARINV5CAVZWXG_ses-baselineYear1Arm1_task-rest_run-04_bold_brain_norm_zr_matrix.csv',\n",
       "  '/Users/gracer/Google Drive/ABCD/ABCD_puberty/_data/ABCDworking/sub-NDARINV5CAVZWXG/keep/sub-NDARINV5CAVZWXG_ses-baselineYear1Arm1_task-rest_run-03_bold_brain_norm_zr_matrix.csv',\n",
       "  '/Users/gracer/Google Drive/ABCD/ABCD_puberty/_data/ABCDworking/sub-NDARINV5CAVZWXG/keep/sub-NDARINV5CAVZWXG_ses-baselineYear1Arm1_task-rest_run-01_bold_brain_norm_zr_matrix.csv'],\n",
       " 'sub-NDARINV61VX090A': ['/Users/gracer/Google Drive/ABCD/ABCD_puberty/_data/ABCDworking/sub-NDARINV61VX090A/keep/sub-NDARINV61VX090A_ses-baselineYear1Arm1_task-rest_run-02_bold_brain_norm_zr_matrix.csv',\n",
       "  '/Users/gracer/Google Drive/ABCD/ABCD_puberty/_data/ABCDworking/sub-NDARINV61VX090A/keep/sub-NDARINV61VX090A_ses-baselineYear1Arm1_task-rest_run-04_bold_brain_norm_zr_matrix.csv',\n",
       "  '/Users/gracer/Google Drive/ABCD/ABCD_puberty/_data/ABCDworking/sub-NDARINV61VX090A/keep/sub-NDARINV61VX090A_ses-baselineYear1Arm1_task-rest_run-03_bold_brain_norm_zr_matrix.csv',\n",
       "  '/Users/gracer/Google Drive/ABCD/ABCD_puberty/_data/ABCDworking/sub-NDARINV61VX090A/keep/sub-NDARINV61VX090A_ses-baselineYear1Arm1_task-rest_run-01_bold_brain_norm_zr_matrix.csv'],\n",
       " 'sub-NDARINV637CGUEV': ['/Users/gracer/Google Drive/ABCD/ABCD_puberty/_data/ABCDworking/sub-NDARINV637CGUEV/keep/sub-NDARINV637CGUEV_ses-baselineYear1Arm1_task-rest_run-02_bold_brain_norm_zr_matrix.csv',\n",
       "  '/Users/gracer/Google Drive/ABCD/ABCD_puberty/_data/ABCDworking/sub-NDARINV637CGUEV/keep/sub-NDARINV637CGUEV_ses-baselineYear1Arm1_task-rest_run-03_bold_brain_norm_zr_matrix.csv',\n",
       "  '/Users/gracer/Google Drive/ABCD/ABCD_puberty/_data/ABCDworking/sub-NDARINV637CGUEV/keep/sub-NDARINV637CGUEV_ses-baselineYear1Arm1_task-rest_run-01_bold_brain_norm_zr_matrix.csv'],\n",
       " 'sub-NDARINV65CU9XVH': ['/Users/gracer/Google Drive/ABCD/ABCD_puberty/_data/ABCDworking/sub-NDARINV65CU9XVH/keep/sub-NDARINV65CU9XVH_ses-baselineYear1Arm1_task-rest_run-04_bold_brain_norm_zr_matrix.csv',\n",
       "  '/Users/gracer/Google Drive/ABCD/ABCD_puberty/_data/ABCDworking/sub-NDARINV65CU9XVH/keep/sub-NDARINV65CU9XVH_ses-baselineYear1Arm1_task-rest_run-03_bold_brain_norm_zr_matrix.csv',\n",
       "  '/Users/gracer/Google Drive/ABCD/ABCD_puberty/_data/ABCDworking/sub-NDARINV65CU9XVH/keep/sub-NDARINV65CU9XVH_ses-baselineYear1Arm1_task-rest_run-02_bold_brain_norm_zr_matrix.csv',\n",
       "  '/Users/gracer/Google Drive/ABCD/ABCD_puberty/_data/ABCDworking/sub-NDARINV65CU9XVH/keep/sub-NDARINV65CU9XVH_ses-baselineYear1Arm1_task-rest_run-01_bold_brain_norm_zr_matrix.csv'],\n",
       " 'sub-NDARINV66708YNC': ['/Users/gracer/Google Drive/ABCD/ABCD_puberty/_data/ABCDworking/sub-NDARINV66708YNC/keep/sub-NDARINV66708YNC_ses-baselineYear1Arm1_task-rest_run-01_bold_brain_norm_zr_matrix.csv',\n",
       "  '/Users/gracer/Google Drive/ABCD/ABCD_puberty/_data/ABCDworking/sub-NDARINV66708YNC/keep/sub-NDARINV66708YNC_ses-baselineYear1Arm1_task-rest_run-02_bold_brain_norm_zr_matrix.csv',\n",
       "  '/Users/gracer/Google Drive/ABCD/ABCD_puberty/_data/ABCDworking/sub-NDARINV66708YNC/keep/sub-NDARINV66708YNC_ses-baselineYear1Arm1_task-rest_run-03_bold_brain_norm_zr_matrix.csv',\n",
       "  '/Users/gracer/Google Drive/ABCD/ABCD_puberty/_data/ABCDworking/sub-NDARINV66708YNC/keep/sub-NDARINV66708YNC_ses-baselineYear1Arm1_task-rest_run-04_bold_brain_norm_zr_matrix.csv'],\n",
       " 'sub-NDARINV66D8NKUD': ['/Users/gracer/Google Drive/ABCD/ABCD_puberty/_data/ABCDworking/sub-NDARINV66D8NKUD/keep/sub-NDARINV66D8NKUD_ses-baselineYear1Arm1_task-rest_run-04_bold_brain_norm_zr_matrix.csv',\n",
       "  '/Users/gracer/Google Drive/ABCD/ABCD_puberty/_data/ABCDworking/sub-NDARINV66D8NKUD/keep/sub-NDARINV66D8NKUD_ses-baselineYear1Arm1_task-rest_run-03_bold_brain_norm_zr_matrix.csv',\n",
       "  '/Users/gracer/Google Drive/ABCD/ABCD_puberty/_data/ABCDworking/sub-NDARINV66D8NKUD/keep/sub-NDARINV66D8NKUD_ses-baselineYear1Arm1_task-rest_run-02_bold_brain_norm_zr_matrix.csv',\n",
       "  '/Users/gracer/Google Drive/ABCD/ABCD_puberty/_data/ABCDworking/sub-NDARINV66D8NKUD/keep/sub-NDARINV66D8NKUD_ses-baselineYear1Arm1_task-rest_run-01_bold_brain_norm_zr_matrix.csv'],\n",
       " 'sub-NDARINV6HTEC707': ['/Users/gracer/Google Drive/ABCD/ABCD_puberty/_data/ABCDworking/sub-NDARINV6HTEC707/keep/sub-NDARINV6HTEC707_ses-baselineYear1Arm1_task-rest_run-01_bold_brain_norm_zr_matrix.csv',\n",
       "  '/Users/gracer/Google Drive/ABCD/ABCD_puberty/_data/ABCDworking/sub-NDARINV6HTEC707/keep/sub-NDARINV6HTEC707_ses-baselineYear1Arm1_task-rest_run-04_bold_brain_norm_zr_matrix.csv',\n",
       "  '/Users/gracer/Google Drive/ABCD/ABCD_puberty/_data/ABCDworking/sub-NDARINV6HTEC707/keep/sub-NDARINV6HTEC707_ses-baselineYear1Arm1_task-rest_run-03_bold_brain_norm_zr_matrix.csv',\n",
       "  '/Users/gracer/Google Drive/ABCD/ABCD_puberty/_data/ABCDworking/sub-NDARINV6HTEC707/keep/sub-NDARINV6HTEC707_ses-baselineYear1Arm1_task-rest_run-02_bold_brain_norm_zr_matrix.csv'],\n",
       " 'sub-NDARINV6LJL1R97': ['/Users/gracer/Google Drive/ABCD/ABCD_puberty/_data/ABCDworking/sub-NDARINV6LJL1R97/keep/sub-NDARINV6LJL1R97_ses-baselineYear1Arm1_task-rest_run-01_bold_brain_norm_zr_matrix.csv',\n",
       "  '/Users/gracer/Google Drive/ABCD/ABCD_puberty/_data/ABCDworking/sub-NDARINV6LJL1R97/keep/sub-NDARINV6LJL1R97_ses-baselineYear1Arm1_task-rest_run-03_bold_brain_norm_zr_matrix.csv',\n",
       "  '/Users/gracer/Google Drive/ABCD/ABCD_puberty/_data/ABCDworking/sub-NDARINV6LJL1R97/keep/sub-NDARINV6LJL1R97_ses-baselineYear1Arm1_task-rest_run-02_bold_brain_norm_zr_matrix.csv'],\n",
       " 'sub-NDARINV6UPZCK82': ['/Users/gracer/Google Drive/ABCD/ABCD_puberty/_data/ABCDworking/sub-NDARINV6UPZCK82/keep/sub-NDARINV6UPZCK82_ses-baselineYear1Arm1_task-rest_run-04_bold_brain_norm_zr_matrix.csv',\n",
       "  '/Users/gracer/Google Drive/ABCD/ABCD_puberty/_data/ABCDworking/sub-NDARINV6UPZCK82/keep/sub-NDARINV6UPZCK82_ses-baselineYear1Arm1_task-rest_run-03_bold_brain_norm_zr_matrix.csv',\n",
       "  '/Users/gracer/Google Drive/ABCD/ABCD_puberty/_data/ABCDworking/sub-NDARINV6UPZCK82/keep/sub-NDARINV6UPZCK82_ses-baselineYear1Arm1_task-rest_run-02_bold_brain_norm_zr_matrix.csv',\n",
       "  '/Users/gracer/Google Drive/ABCD/ABCD_puberty/_data/ABCDworking/sub-NDARINV6UPZCK82/keep/sub-NDARINV6UPZCK82_ses-baselineYear1Arm1_task-rest_run-01_bold_brain_norm_zr_matrix.csv'],\n",
       " 'sub-NDARINV71N5JHR2': ['/Users/gracer/Google Drive/ABCD/ABCD_puberty/_data/ABCDworking/sub-NDARINV71N5JHR2/keep/sub-NDARINV71N5JHR2_ses-baselineYear1Arm1_task-rest_run-03_bold_brain_norm_zr_matrix.csv',\n",
       "  '/Users/gracer/Google Drive/ABCD/ABCD_puberty/_data/ABCDworking/sub-NDARINV71N5JHR2/keep/sub-NDARINV71N5JHR2_ses-baselineYear1Arm1_task-rest_run-04_bold_brain_norm_zr_matrix.csv',\n",
       "  '/Users/gracer/Google Drive/ABCD/ABCD_puberty/_data/ABCDworking/sub-NDARINV71N5JHR2/keep/sub-NDARINV71N5JHR2_ses-baselineYear1Arm1_task-rest_run-02_bold_brain_norm_zr_matrix.csv',\n",
       "  '/Users/gracer/Google Drive/ABCD/ABCD_puberty/_data/ABCDworking/sub-NDARINV71N5JHR2/keep/sub-NDARINV71N5JHR2_ses-baselineYear1Arm1_task-rest_run-01_bold_brain_norm_zr_matrix.csv'],\n",
       " 'sub-NDARINV72MV78KG': ['/Users/gracer/Google Drive/ABCD/ABCD_puberty/_data/ABCDworking/sub-NDARINV72MV78KG/keep/sub-NDARINV72MV78KG_ses-baselineYear1Arm1_task-rest_run-01_bold_brain_norm_zr_matrix.csv',\n",
       "  '/Users/gracer/Google Drive/ABCD/ABCD_puberty/_data/ABCDworking/sub-NDARINV72MV78KG/keep/sub-NDARINV72MV78KG_ses-baselineYear1Arm1_task-rest_run-04_bold_brain_norm_zr_matrix.csv',\n",
       "  '/Users/gracer/Google Drive/ABCD/ABCD_puberty/_data/ABCDworking/sub-NDARINV72MV78KG/keep/sub-NDARINV72MV78KG_ses-baselineYear1Arm1_task-rest_run-03_bold_brain_norm_zr_matrix.csv',\n",
       "  '/Users/gracer/Google Drive/ABCD/ABCD_puberty/_data/ABCDworking/sub-NDARINV72MV78KG/keep/sub-NDARINV72MV78KG_ses-baselineYear1Arm1_task-rest_run-02_bold_brain_norm_zr_matrix.csv'],\n",
       " 'sub-NDARINV8JTY86NW': ['/Users/gracer/Google Drive/ABCD/ABCD_puberty/_data/ABCDworking/sub-NDARINV8JTY86NW/keep/sub-NDARINV8JTY86NW_ses-baselineYear1Arm1_task-rest_run-01_bold_brain_norm_zr_matrix.csv',\n",
       "  '/Users/gracer/Google Drive/ABCD/ABCD_puberty/_data/ABCDworking/sub-NDARINV8JTY86NW/keep/sub-NDARINV8JTY86NW_ses-baselineYear1Arm1_task-rest_run-03_bold_brain_norm_zr_matrix.csv',\n",
       "  '/Users/gracer/Google Drive/ABCD/ABCD_puberty/_data/ABCDworking/sub-NDARINV8JTY86NW/keep/sub-NDARINV8JTY86NW_ses-baselineYear1Arm1_task-rest_run-02_bold_brain_norm_zr_matrix.csv'],\n",
       " 'sub-NDARINV8PD9CRDR': ['/Users/gracer/Google Drive/ABCD/ABCD_puberty/_data/ABCDworking/sub-NDARINV8PD9CRDR/keep/sub-NDARINV8PD9CRDR_ses-baselineYear1Arm1_task-rest_run-01_bold_brain_norm_zr_matrix.csv',\n",
       "  '/Users/gracer/Google Drive/ABCD/ABCD_puberty/_data/ABCDworking/sub-NDARINV8PD9CRDR/keep/sub-NDARINV8PD9CRDR_ses-baselineYear1Arm1_task-rest_run-04_bold_brain_norm_zr_matrix.csv',\n",
       "  '/Users/gracer/Google Drive/ABCD/ABCD_puberty/_data/ABCDworking/sub-NDARINV8PD9CRDR/keep/sub-NDARINV8PD9CRDR_ses-baselineYear1Arm1_task-rest_run-03_bold_brain_norm_zr_matrix.csv',\n",
       "  '/Users/gracer/Google Drive/ABCD/ABCD_puberty/_data/ABCDworking/sub-NDARINV8PD9CRDR/keep/sub-NDARINV8PD9CRDR_ses-baselineYear1Arm1_task-rest_run-02_bold_brain_norm_zr_matrix.csv'],\n",
       " 'sub-NDARINV8PHEF3UH': ['/Users/gracer/Google Drive/ABCD/ABCD_puberty/_data/ABCDworking/sub-NDARINV8PHEF3UH/keep/sub-NDARINV8PHEF3UH_ses-baselineYear1Arm1_task-rest_run-02_bold_brain_norm_zr_matrix.csv',\n",
       "  '/Users/gracer/Google Drive/ABCD/ABCD_puberty/_data/ABCDworking/sub-NDARINV8PHEF3UH/keep/sub-NDARINV8PHEF3UH_ses-baselineYear1Arm1_task-rest_run-03_bold_brain_norm_zr_matrix.csv',\n",
       "  '/Users/gracer/Google Drive/ABCD/ABCD_puberty/_data/ABCDworking/sub-NDARINV8PHEF3UH/keep/sub-NDARINV8PHEF3UH_ses-baselineYear1Arm1_task-rest_run-04_bold_brain_norm_zr_matrix.csv',\n",
       "  '/Users/gracer/Google Drive/ABCD/ABCD_puberty/_data/ABCDworking/sub-NDARINV8PHEF3UH/keep/sub-NDARINV8PHEF3UH_ses-baselineYear1Arm1_task-rest_run-01_bold_brain_norm_zr_matrix.csv'],\n",
       " 'sub-NDARINV9AMTA922': ['/Users/gracer/Google Drive/ABCD/ABCD_puberty/_data/ABCDworking/sub-NDARINV9AMTA922/keep/sub-NDARINV9AMTA922_ses-baselineYear1Arm1_task-rest_run-02_bold_brain_norm_zr_matrix.csv',\n",
       "  '/Users/gracer/Google Drive/ABCD/ABCD_puberty/_data/ABCDworking/sub-NDARINV9AMTA922/keep/sub-NDARINV9AMTA922_ses-baselineYear1Arm1_task-rest_run-04_bold_brain_norm_zr_matrix.csv',\n",
       "  '/Users/gracer/Google Drive/ABCD/ABCD_puberty/_data/ABCDworking/sub-NDARINV9AMTA922/keep/sub-NDARINV9AMTA922_ses-baselineYear1Arm1_task-rest_run-03_bold_brain_norm_zr_matrix.csv',\n",
       "  '/Users/gracer/Google Drive/ABCD/ABCD_puberty/_data/ABCDworking/sub-NDARINV9AMTA922/keep/sub-NDARINV9AMTA922_ses-baselineYear1Arm1_task-rest_run-01_bold_brain_norm_zr_matrix.csv'],\n",
       " 'sub-NDARINVAWG2NZC4': ['/Users/gracer/Google Drive/ABCD/ABCD_puberty/_data/ABCDworking/sub-NDARINVAWG2NZC4/keep/sub-NDARINVAWG2NZC4_ses-baselineYear1Arm1_task-rest_run-02_bold_brain_norm_zr_matrix.csv',\n",
       "  '/Users/gracer/Google Drive/ABCD/ABCD_puberty/_data/ABCDworking/sub-NDARINVAWG2NZC4/keep/sub-NDARINVAWG2NZC4_ses-baselineYear1Arm1_task-rest_run-03_bold_brain_norm_zr_matrix.csv',\n",
       "  '/Users/gracer/Google Drive/ABCD/ABCD_puberty/_data/ABCDworking/sub-NDARINVAWG2NZC4/keep/sub-NDARINVAWG2NZC4_ses-baselineYear1Arm1_task-rest_run-04_bold_brain_norm_zr_matrix.csv',\n",
       "  '/Users/gracer/Google Drive/ABCD/ABCD_puberty/_data/ABCDworking/sub-NDARINVAWG2NZC4/keep/sub-NDARINVAWG2NZC4_ses-baselineYear1Arm1_task-rest_run-01_bold_brain_norm_zr_matrix.csv'],\n",
       " 'sub-NDARINVC624EF1K': ['/Users/gracer/Google Drive/ABCD/ABCD_puberty/_data/ABCDworking/sub-NDARINVC624EF1K/keep/sub-NDARINVC624EF1K_ses-baselineYear1Arm1_task-rest_run-01_bold_brain_norm_zr_matrix.csv',\n",
       "  '/Users/gracer/Google Drive/ABCD/ABCD_puberty/_data/ABCDworking/sub-NDARINVC624EF1K/keep/sub-NDARINVC624EF1K_ses-baselineYear1Arm1_task-rest_run-04_bold_brain_norm_zr_matrix.csv',\n",
       "  '/Users/gracer/Google Drive/ABCD/ABCD_puberty/_data/ABCDworking/sub-NDARINVC624EF1K/keep/sub-NDARINVC624EF1K_ses-baselineYear1Arm1_task-rest_run-03_bold_brain_norm_zr_matrix.csv',\n",
       "  '/Users/gracer/Google Drive/ABCD/ABCD_puberty/_data/ABCDworking/sub-NDARINVC624EF1K/keep/sub-NDARINVC624EF1K_ses-baselineYear1Arm1_task-rest_run-02_bold_brain_norm_zr_matrix.csv'],\n",
       " 'sub-NDARINVCX4YJGUW': ['/Users/gracer/Google Drive/ABCD/ABCD_puberty/_data/ABCDworking/sub-NDARINVCX4YJGUW/keep/sub-NDARINVCX4YJGUW_ses-baselineYear1Arm1_task-rest_run-01_bold_brain_norm_zr_matrix.csv',\n",
       "  '/Users/gracer/Google Drive/ABCD/ABCD_puberty/_data/ABCDworking/sub-NDARINVCX4YJGUW/keep/sub-NDARINVCX4YJGUW_ses-baselineYear1Arm1_task-rest_run-02_bold_brain_norm_zr_matrix.csv',\n",
       "  '/Users/gracer/Google Drive/ABCD/ABCD_puberty/_data/ABCDworking/sub-NDARINVCX4YJGUW/keep/sub-NDARINVCX4YJGUW_ses-baselineYear1Arm1_task-rest_run-03_bold_brain_norm_zr_matrix.csv',\n",
       "  '/Users/gracer/Google Drive/ABCD/ABCD_puberty/_data/ABCDworking/sub-NDARINVCX4YJGUW/keep/sub-NDARINVCX4YJGUW_ses-baselineYear1Arm1_task-rest_run-04_bold_brain_norm_zr_matrix.csv'],\n",
       " 'sub-NDARINVCXW3Y64K': ['/Users/gracer/Google Drive/ABCD/ABCD_puberty/_data/ABCDworking/sub-NDARINVCXW3Y64K/keep/sub-NDARINVCXW3Y64K_ses-baselineYear1Arm1_task-rest_run-02_bold_brain_norm_zr_matrix.csv',\n",
       "  '/Users/gracer/Google Drive/ABCD/ABCD_puberty/_data/ABCDworking/sub-NDARINVCXW3Y64K/keep/sub-NDARINVCXW3Y64K_ses-baselineYear1Arm1_task-rest_run-03_bold_brain_norm_zr_matrix.csv',\n",
       "  '/Users/gracer/Google Drive/ABCD/ABCD_puberty/_data/ABCDworking/sub-NDARINVCXW3Y64K/keep/sub-NDARINVCXW3Y64K_ses-baselineYear1Arm1_task-rest_run-01_bold_brain_norm_zr_matrix.csv'],\n",
       " 'sub-NDARINVD9L81NY5': ['/Users/gracer/Google Drive/ABCD/ABCD_puberty/_data/ABCDworking/sub-NDARINVD9L81NY5/keep/sub-NDARINVD9L81NY5_ses-baselineYear1Arm1_task-rest_run-02_bold_brain_norm_zr_matrix.csv',\n",
       "  '/Users/gracer/Google Drive/ABCD/ABCD_puberty/_data/ABCDworking/sub-NDARINVD9L81NY5/keep/sub-NDARINVD9L81NY5_ses-baselineYear1Arm1_task-rest_run-01_bold_brain_norm_zr_matrix.csv'],\n",
       " 'sub-NDARINVEVN2CFJL': ['/Users/gracer/Google Drive/ABCD/ABCD_puberty/_data/ABCDworking/sub-NDARINVEVN2CFJL/keep/sub-NDARINVEVN2CFJL_ses-baselineYear1Arm1_task-rest_run-01_bold_brain_norm_zr_matrix.csv',\n",
       "  '/Users/gracer/Google Drive/ABCD/ABCD_puberty/_data/ABCDworking/sub-NDARINVEVN2CFJL/keep/sub-NDARINVEVN2CFJL_ses-baselineYear1Arm1_task-rest_run-03_bold_brain_norm_zr_matrix.csv',\n",
       "  '/Users/gracer/Google Drive/ABCD/ABCD_puberty/_data/ABCDworking/sub-NDARINVEVN2CFJL/keep/sub-NDARINVEVN2CFJL_ses-baselineYear1Arm1_task-rest_run-04_bold_brain_norm_zr_matrix.csv',\n",
       "  '/Users/gracer/Google Drive/ABCD/ABCD_puberty/_data/ABCDworking/sub-NDARINVEVN2CFJL/keep/sub-NDARINVEVN2CFJL_ses-baselineYear1Arm1_task-rest_run-02_bold_brain_norm_zr_matrix.csv'],\n",
       " 'sub-NDARINVFMV7H24T': ['/Users/gracer/Google Drive/ABCD/ABCD_puberty/_data/ABCDworking/sub-NDARINVFMV7H24T/keep/sub-NDARINVFMV7H24T_ses-baselineYear1Arm1_task-rest_run-01_bold_brain_norm_zr_matrix.csv',\n",
       "  '/Users/gracer/Google Drive/ABCD/ABCD_puberty/_data/ABCDworking/sub-NDARINVFMV7H24T/keep/sub-NDARINVFMV7H24T_ses-baselineYear1Arm1_task-rest_run-02_bold_brain_norm_zr_matrix.csv',\n",
       "  '/Users/gracer/Google Drive/ABCD/ABCD_puberty/_data/ABCDworking/sub-NDARINVFMV7H24T/keep/sub-NDARINVFMV7H24T_ses-baselineYear1Arm1_task-rest_run-03_bold_brain_norm_zr_matrix.csv',\n",
       "  '/Users/gracer/Google Drive/ABCD/ABCD_puberty/_data/ABCDworking/sub-NDARINVFMV7H24T/keep/sub-NDARINVFMV7H24T_ses-baselineYear1Arm1_task-rest_run-04_bold_brain_norm_zr_matrix.csv'],\n",
       " 'sub-NDARINVFV0JWJ60': ['/Users/gracer/Google Drive/ABCD/ABCD_puberty/_data/ABCDworking/sub-NDARINVFV0JWJ60/keep/sub-NDARINVFV0JWJ60_ses-baselineYear1Arm1_task-rest_run-01_bold_brain_norm_zr_matrix.csv',\n",
       "  '/Users/gracer/Google Drive/ABCD/ABCD_puberty/_data/ABCDworking/sub-NDARINVFV0JWJ60/keep/sub-NDARINVFV0JWJ60_ses-baselineYear1Arm1_task-rest_run-03_bold_brain_norm_zr_matrix.csv',\n",
       "  '/Users/gracer/Google Drive/ABCD/ABCD_puberty/_data/ABCDworking/sub-NDARINVFV0JWJ60/keep/sub-NDARINVFV0JWJ60_ses-baselineYear1Arm1_task-rest_run-04_bold_brain_norm_zr_matrix.csv',\n",
       "  '/Users/gracer/Google Drive/ABCD/ABCD_puberty/_data/ABCDworking/sub-NDARINVFV0JWJ60/keep/sub-NDARINVFV0JWJ60_ses-baselineYear1Arm1_task-rest_run-02_bold_brain_norm_zr_matrix.csv'],\n",
       " 'sub-NDARINVG3MW0943': ['/Users/gracer/Google Drive/ABCD/ABCD_puberty/_data/ABCDworking/sub-NDARINVG3MW0943/keep/sub-NDARINVG3MW0943_ses-baselineYear1Arm1_task-rest_run-02_bold_brain_norm_zr_matrix.csv',\n",
       "  '/Users/gracer/Google Drive/ABCD/ABCD_puberty/_data/ABCDworking/sub-NDARINVG3MW0943/keep/sub-NDARINVG3MW0943_ses-baselineYear1Arm1_task-rest_run-03_bold_brain_norm_zr_matrix.csv',\n",
       "  '/Users/gracer/Google Drive/ABCD/ABCD_puberty/_data/ABCDworking/sub-NDARINVG3MW0943/keep/sub-NDARINVG3MW0943_ses-baselineYear1Arm1_task-rest_run-04_bold_brain_norm_zr_matrix.csv',\n",
       "  '/Users/gracer/Google Drive/ABCD/ABCD_puberty/_data/ABCDworking/sub-NDARINVG3MW0943/keep/sub-NDARINVG3MW0943_ses-baselineYear1Arm1_task-rest_run-01_bold_brain_norm_zr_matrix.csv'],\n",
       " 'sub-NDARINVG7TMENCV': ['/Users/gracer/Google Drive/ABCD/ABCD_puberty/_data/ABCDworking/sub-NDARINVG7TMENCV/keep/sub-NDARINVG7TMENCV_ses-baselineYear1Arm1_task-rest_run-01_bold_brain_norm_zr_matrix.csv',\n",
       "  '/Users/gracer/Google Drive/ABCD/ABCD_puberty/_data/ABCDworking/sub-NDARINVG7TMENCV/keep/sub-NDARINVG7TMENCV_ses-baselineYear1Arm1_task-rest_run-02_bold_brain_norm_zr_matrix.csv',\n",
       "  '/Users/gracer/Google Drive/ABCD/ABCD_puberty/_data/ABCDworking/sub-NDARINVG7TMENCV/keep/sub-NDARINVG7TMENCV_ses-baselineYear1Arm1_task-rest_run-04_bold_brain_norm_zr_matrix.csv',\n",
       "  '/Users/gracer/Google Drive/ABCD/ABCD_puberty/_data/ABCDworking/sub-NDARINVG7TMENCV/keep/sub-NDARINVG7TMENCV_ses-baselineYear1Arm1_task-rest_run-03_bold_brain_norm_zr_matrix.csv'],\n",
       " 'sub-NDARINVGALZWY31': ['/Users/gracer/Google Drive/ABCD/ABCD_puberty/_data/ABCDworking/sub-NDARINVGALZWY31/keep/sub-NDARINVGALZWY31_ses-baselineYear1Arm1_task-rest_run-04_bold_brain_norm_zr_matrix.csv',\n",
       "  '/Users/gracer/Google Drive/ABCD/ABCD_puberty/_data/ABCDworking/sub-NDARINVGALZWY31/keep/sub-NDARINVGALZWY31_ses-baselineYear1Arm1_task-rest_run-03_bold_brain_norm_zr_matrix.csv',\n",
       "  '/Users/gracer/Google Drive/ABCD/ABCD_puberty/_data/ABCDworking/sub-NDARINVGALZWY31/keep/sub-NDARINVGALZWY31_ses-baselineYear1Arm1_task-rest_run-02_bold_brain_norm_zr_matrix.csv',\n",
       "  '/Users/gracer/Google Drive/ABCD/ABCD_puberty/_data/ABCDworking/sub-NDARINVGALZWY31/keep/sub-NDARINVGALZWY31_ses-baselineYear1Arm1_task-rest_run-01_bold_brain_norm_zr_matrix.csv'],\n",
       " 'sub-NDARINVGE15ZEP5': ['/Users/gracer/Google Drive/ABCD/ABCD_puberty/_data/ABCDworking/sub-NDARINVGE15ZEP5/keep/sub-NDARINVGE15ZEP5_ses-baselineYear1Arm1_task-rest_run-01_bold_brain_norm_zr_matrix.csv',\n",
       "  '/Users/gracer/Google Drive/ABCD/ABCD_puberty/_data/ABCDworking/sub-NDARINVGE15ZEP5/keep/sub-NDARINVGE15ZEP5_ses-baselineYear1Arm1_task-rest_run-03_bold_brain_norm_zr_matrix.csv',\n",
       "  '/Users/gracer/Google Drive/ABCD/ABCD_puberty/_data/ABCDworking/sub-NDARINVGE15ZEP5/keep/sub-NDARINVGE15ZEP5_ses-baselineYear1Arm1_task-rest_run-02_bold_brain_norm_zr_matrix.csv'],\n",
       " 'sub-NDARINVH0016MVZ': ['/Users/gracer/Google Drive/ABCD/ABCD_puberty/_data/ABCDworking/sub-NDARINVH0016MVZ/keep/sub-NDARINVH0016MVZ_ses-baselineYear1Arm1_task-rest_run-01_bold_brain_norm_zr_matrix.csv',\n",
       "  '/Users/gracer/Google Drive/ABCD/ABCD_puberty/_data/ABCDworking/sub-NDARINVH0016MVZ/keep/sub-NDARINVH0016MVZ_ses-baselineYear1Arm1_task-rest_run-02_bold_brain_norm_zr_matrix.csv',\n",
       "  '/Users/gracer/Google Drive/ABCD/ABCD_puberty/_data/ABCDworking/sub-NDARINVH0016MVZ/keep/sub-NDARINVH0016MVZ_ses-baselineYear1Arm1_task-rest_run-03_bold_brain_norm_zr_matrix.csv',\n",
       "  '/Users/gracer/Google Drive/ABCD/ABCD_puberty/_data/ABCDworking/sub-NDARINVH0016MVZ/keep/sub-NDARINVH0016MVZ_ses-baselineYear1Arm1_task-rest_run-04_bold_brain_norm_zr_matrix.csv'],\n",
       " 'sub-NDARINVH2N0P8GY': ['/Users/gracer/Google Drive/ABCD/ABCD_puberty/_data/ABCDworking/sub-NDARINVH2N0P8GY/keep/sub-NDARINVH2N0P8GY_ses-baselineYear1Arm1_task-rest_run-01_bold_brain_norm_zr_matrix.csv',\n",
       "  '/Users/gracer/Google Drive/ABCD/ABCD_puberty/_data/ABCDworking/sub-NDARINVH2N0P8GY/keep/sub-NDARINVH2N0P8GY_ses-baselineYear1Arm1_task-rest_run-02_bold_brain_norm_zr_matrix.csv',\n",
       "  '/Users/gracer/Google Drive/ABCD/ABCD_puberty/_data/ABCDworking/sub-NDARINVH2N0P8GY/keep/sub-NDARINVH2N0P8GY_ses-baselineYear1Arm1_task-rest_run-04_bold_brain_norm_zr_matrix.csv',\n",
       "  '/Users/gracer/Google Drive/ABCD/ABCD_puberty/_data/ABCDworking/sub-NDARINVH2N0P8GY/keep/sub-NDARINVH2N0P8GY_ses-baselineYear1Arm1_task-rest_run-03_bold_brain_norm_zr_matrix.csv'],\n",
       " 'sub-NDARINVH3WNU4JB': ['/Users/gracer/Google Drive/ABCD/ABCD_puberty/_data/ABCDworking/sub-NDARINVH3WNU4JB/keep/sub-NDARINVH3WNU4JB_ses-baselineYear1Arm1_task-rest_run-01_bold_brain_norm_zr_matrix.csv',\n",
       "  '/Users/gracer/Google Drive/ABCD/ABCD_puberty/_data/ABCDworking/sub-NDARINVH3WNU4JB/keep/sub-NDARINVH3WNU4JB_ses-baselineYear1Arm1_task-rest_run-02_bold_brain_norm_zr_matrix.csv',\n",
       "  '/Users/gracer/Google Drive/ABCD/ABCD_puberty/_data/ABCDworking/sub-NDARINVH3WNU4JB/keep/sub-NDARINVH3WNU4JB_ses-baselineYear1Arm1_task-rest_run-03_bold_brain_norm_zr_matrix.csv'],\n",
       " 'sub-NDARINVH52P6NHR': ['/Users/gracer/Google Drive/ABCD/ABCD_puberty/_data/ABCDworking/sub-NDARINVH52P6NHR/keep/sub-NDARINVH52P6NHR_ses-baselineYear1Arm1_task-rest_run-01_bold_brain_norm_zr_matrix.csv',\n",
       "  '/Users/gracer/Google Drive/ABCD/ABCD_puberty/_data/ABCDworking/sub-NDARINVH52P6NHR/keep/sub-NDARINVH52P6NHR_ses-baselineYear1Arm1_task-rest_run-04_bold_brain_norm_zr_matrix.csv',\n",
       "  '/Users/gracer/Google Drive/ABCD/ABCD_puberty/_data/ABCDworking/sub-NDARINVH52P6NHR/keep/sub-NDARINVH52P6NHR_ses-baselineYear1Arm1_task-rest_run-03_bold_brain_norm_zr_matrix.csv',\n",
       "  '/Users/gracer/Google Drive/ABCD/ABCD_puberty/_data/ABCDworking/sub-NDARINVH52P6NHR/keep/sub-NDARINVH52P6NHR_ses-baselineYear1Arm1_task-rest_run-02_bold_brain_norm_zr_matrix.csv'],\n",
       " 'sub-NDARINVH6K9F426': ['/Users/gracer/Google Drive/ABCD/ABCD_puberty/_data/ABCDworking/sub-NDARINVH6K9F426/keep/sub-NDARINVH6K9F426_ses-baselineYear1Arm1_task-rest_run-01_bold_brain_norm_zr_matrix.csv',\n",
       "  '/Users/gracer/Google Drive/ABCD/ABCD_puberty/_data/ABCDworking/sub-NDARINVH6K9F426/keep/sub-NDARINVH6K9F426_ses-baselineYear1Arm1_task-rest_run-03_bold_brain_norm_zr_matrix.csv',\n",
       "  '/Users/gracer/Google Drive/ABCD/ABCD_puberty/_data/ABCDworking/sub-NDARINVH6K9F426/keep/sub-NDARINVH6K9F426_ses-baselineYear1Arm1_task-rest_run-04_bold_brain_norm_zr_matrix.csv',\n",
       "  '/Users/gracer/Google Drive/ABCD/ABCD_puberty/_data/ABCDworking/sub-NDARINVH6K9F426/keep/sub-NDARINVH6K9F426_ses-baselineYear1Arm1_task-rest_run-02_bold_brain_norm_zr_matrix.csv'],\n",
       " 'sub-NDARINVHEFP90K0': ['/Users/gracer/Google Drive/ABCD/ABCD_puberty/_data/ABCDworking/sub-NDARINVHEFP90K0/keep/sub-NDARINVHEFP90K0_ses-baselineYear1Arm1_task-rest_run-02_bold_brain_norm_zr_matrix.csv',\n",
       "  '/Users/gracer/Google Drive/ABCD/ABCD_puberty/_data/ABCDworking/sub-NDARINVHEFP90K0/keep/sub-NDARINVHEFP90K0_ses-baselineYear1Arm1_task-rest_run-04_bold_brain_norm_zr_matrix.csv',\n",
       "  '/Users/gracer/Google Drive/ABCD/ABCD_puberty/_data/ABCDworking/sub-NDARINVHEFP90K0/keep/sub-NDARINVHEFP90K0_ses-baselineYear1Arm1_task-rest_run-03_bold_brain_norm_zr_matrix.csv',\n",
       "  '/Users/gracer/Google Drive/ABCD/ABCD_puberty/_data/ABCDworking/sub-NDARINVHEFP90K0/keep/sub-NDARINVHEFP90K0_ses-baselineYear1Arm1_task-rest_run-01_bold_brain_norm_zr_matrix.csv'],\n",
       " 'sub-NDARINVHFCK6N4B': ['/Users/gracer/Google Drive/ABCD/ABCD_puberty/_data/ABCDworking/sub-NDARINVHFCK6N4B/keep/sub-NDARINVHFCK6N4B_ses-baselineYear1Arm1_task-rest_run-04_bold_brain_norm_zr_matrix.csv',\n",
       "  '/Users/gracer/Google Drive/ABCD/ABCD_puberty/_data/ABCDworking/sub-NDARINVHFCK6N4B/keep/sub-NDARINVHFCK6N4B_ses-baselineYear1Arm1_task-rest_run-03_bold_brain_norm_zr_matrix.csv',\n",
       "  '/Users/gracer/Google Drive/ABCD/ABCD_puberty/_data/ABCDworking/sub-NDARINVHFCK6N4B/keep/sub-NDARINVHFCK6N4B_ses-baselineYear1Arm1_task-rest_run-05_bold_brain_norm_zr_matrix.csv',\n",
       "  '/Users/gracer/Google Drive/ABCD/ABCD_puberty/_data/ABCDworking/sub-NDARINVHFCK6N4B/keep/sub-NDARINVHFCK6N4B_ses-baselineYear1Arm1_task-rest_run-02_bold_brain_norm_zr_matrix.csv',\n",
       "  '/Users/gracer/Google Drive/ABCD/ABCD_puberty/_data/ABCDworking/sub-NDARINVHFCK6N4B/keep/sub-NDARINVHFCK6N4B_ses-baselineYear1Arm1_task-rest_run-01_bold_brain_norm_zr_matrix.csv'],\n",
       " 'sub-NDARINVHK3PFELX': ['/Users/gracer/Google Drive/ABCD/ABCD_puberty/_data/ABCDworking/sub-NDARINVHK3PFELX/keep/sub-NDARINVHK3PFELX_ses-baselineYear1Arm1_task-rest_run-01_bold_brain_norm_zr_matrix.csv',\n",
       "  '/Users/gracer/Google Drive/ABCD/ABCD_puberty/_data/ABCDworking/sub-NDARINVHK3PFELX/keep/sub-NDARINVHK3PFELX_ses-baselineYear1Arm1_task-rest_run-03_bold_brain_norm_zr_matrix.csv',\n",
       "  '/Users/gracer/Google Drive/ABCD/ABCD_puberty/_data/ABCDworking/sub-NDARINVHK3PFELX/keep/sub-NDARINVHK3PFELX_ses-baselineYear1Arm1_task-rest_run-04_bold_brain_norm_zr_matrix.csv',\n",
       "  '/Users/gracer/Google Drive/ABCD/ABCD_puberty/_data/ABCDworking/sub-NDARINVHK3PFELX/keep/sub-NDARINVHK3PFELX_ses-baselineYear1Arm1_task-rest_run-02_bold_brain_norm_zr_matrix.csv'],\n",
       " 'sub-NDARINVHXHUVGJG': ['/Users/gracer/Google Drive/ABCD/ABCD_puberty/_data/ABCDworking/sub-NDARINVHXHUVGJG/keep/sub-NDARINVHXHUVGJG_ses-baselineYear1Arm1_task-rest_run-04_bold_brain_norm_zr_matrix.csv',\n",
       "  '/Users/gracer/Google Drive/ABCD/ABCD_puberty/_data/ABCDworking/sub-NDARINVHXHUVGJG/keep/sub-NDARINVHXHUVGJG_ses-baselineYear1Arm1_task-rest_run-03_bold_brain_norm_zr_matrix.csv',\n",
       "  '/Users/gracer/Google Drive/ABCD/ABCD_puberty/_data/ABCDworking/sub-NDARINVHXHUVGJG/keep/sub-NDARINVHXHUVGJG_ses-baselineYear1Arm1_task-rest_run-02_bold_brain_norm_zr_matrix.csv',\n",
       "  '/Users/gracer/Google Drive/ABCD/ABCD_puberty/_data/ABCDworking/sub-NDARINVHXHUVGJG/keep/sub-NDARINVHXHUVGJG_ses-baselineYear1Arm1_task-rest_run-01_bold_brain_norm_zr_matrix.csv'],\n",
       " 'sub-NDARINVHYYUJ7LR': ['/Users/gracer/Google Drive/ABCD/ABCD_puberty/_data/ABCDworking/sub-NDARINVHYYUJ7LR/keep/sub-NDARINVHYYUJ7LR_ses-baselineYear1Arm1_task-rest_run-01_bold_brain_norm_zr_matrix.csv',\n",
       "  '/Users/gracer/Google Drive/ABCD/ABCD_puberty/_data/ABCDworking/sub-NDARINVHYYUJ7LR/keep/sub-NDARINVHYYUJ7LR_ses-baselineYear1Arm1_task-rest_run-02_bold_brain_norm_zr_matrix.csv',\n",
       "  '/Users/gracer/Google Drive/ABCD/ABCD_puberty/_data/ABCDworking/sub-NDARINVHYYUJ7LR/keep/sub-NDARINVHYYUJ7LR_ses-baselineYear1Arm1_task-rest_run-04_bold_brain_norm_zr_matrix.csv',\n",
       "  '/Users/gracer/Google Drive/ABCD/ABCD_puberty/_data/ABCDworking/sub-NDARINVHYYUJ7LR/keep/sub-NDARINVHYYUJ7LR_ses-baselineYear1Arm1_task-rest_run-03_bold_brain_norm_zr_matrix.csv'],\n",
       " 'sub-NDARINVJ4RVF00H': ['/Users/gracer/Google Drive/ABCD/ABCD_puberty/_data/ABCDworking/sub-NDARINVJ4RVF00H/keep/sub-NDARINVJ4RVF00H_ses-baselineYear1Arm1_task-rest_run-01_bold_brain_norm_zr_matrix.csv',\n",
       "  '/Users/gracer/Google Drive/ABCD/ABCD_puberty/_data/ABCDworking/sub-NDARINVJ4RVF00H/keep/sub-NDARINVJ4RVF00H_ses-baselineYear1Arm1_task-rest_run-02_bold_brain_norm_zr_matrix.csv',\n",
       "  '/Users/gracer/Google Drive/ABCD/ABCD_puberty/_data/ABCDworking/sub-NDARINVJ4RVF00H/keep/sub-NDARINVJ4RVF00H_ses-baselineYear1Arm1_task-rest_run-03_bold_brain_norm_zr_matrix.csv',\n",
       "  '/Users/gracer/Google Drive/ABCD/ABCD_puberty/_data/ABCDworking/sub-NDARINVJ4RVF00H/keep/sub-NDARINVJ4RVF00H_ses-baselineYear1Arm1_task-rest_run-04_bold_brain_norm_zr_matrix.csv'],\n",
       " 'sub-NDARINVJ6EUW017': ['/Users/gracer/Google Drive/ABCD/ABCD_puberty/_data/ABCDworking/sub-NDARINVJ6EUW017/keep/sub-NDARINVJ6EUW017_ses-baselineYear1Arm1_task-rest_run-02_bold_brain_norm_zr_matrix.csv',\n",
       "  '/Users/gracer/Google Drive/ABCD/ABCD_puberty/_data/ABCDworking/sub-NDARINVJ6EUW017/keep/sub-NDARINVJ6EUW017_ses-baselineYear1Arm1_task-rest_run-04_bold_brain_norm_zr_matrix.csv',\n",
       "  '/Users/gracer/Google Drive/ABCD/ABCD_puberty/_data/ABCDworking/sub-NDARINVJ6EUW017/keep/sub-NDARINVJ6EUW017_ses-baselineYear1Arm1_task-rest_run-03_bold_brain_norm_zr_matrix.csv',\n",
       "  '/Users/gracer/Google Drive/ABCD/ABCD_puberty/_data/ABCDworking/sub-NDARINVJ6EUW017/keep/sub-NDARINVJ6EUW017_ses-baselineYear1Arm1_task-rest_run-01_bold_brain_norm_zr_matrix.csv'],\n",
       " 'sub-NDARINVJ8DDAHGM': ['/Users/gracer/Google Drive/ABCD/ABCD_puberty/_data/ABCDworking/sub-NDARINVJ8DDAHGM/keep/sub-NDARINVJ8DDAHGM_ses-baselineYear1Arm1_task-rest_run-04_bold_brain_norm_zr_matrix.csv',\n",
       "  '/Users/gracer/Google Drive/ABCD/ABCD_puberty/_data/ABCDworking/sub-NDARINVJ8DDAHGM/keep/sub-NDARINVJ8DDAHGM_ses-baselineYear1Arm1_task-rest_run-03_bold_brain_norm_zr_matrix.csv',\n",
       "  '/Users/gracer/Google Drive/ABCD/ABCD_puberty/_data/ABCDworking/sub-NDARINVJ8DDAHGM/keep/sub-NDARINVJ8DDAHGM_ses-baselineYear1Arm1_task-rest_run-02_bold_brain_norm_zr_matrix.csv',\n",
       "  '/Users/gracer/Google Drive/ABCD/ABCD_puberty/_data/ABCDworking/sub-NDARINVJ8DDAHGM/keep/sub-NDARINVJ8DDAHGM_ses-baselineYear1Arm1_task-rest_run-01_bold_brain_norm_zr_matrix.csv'],\n",
       " 'sub-NDARINVJDZ90ATC': ['/Users/gracer/Google Drive/ABCD/ABCD_puberty/_data/ABCDworking/sub-NDARINVJDZ90ATC/keep/sub-NDARINVJDZ90ATC_ses-baselineYear1Arm1_task-rest_run-01_bold_brain_norm_zr_matrix.csv',\n",
       "  '/Users/gracer/Google Drive/ABCD/ABCD_puberty/_data/ABCDworking/sub-NDARINVJDZ90ATC/keep/sub-NDARINVJDZ90ATC_ses-baselineYear1Arm1_task-rest_run-02_bold_brain_norm_zr_matrix.csv',\n",
       "  '/Users/gracer/Google Drive/ABCD/ABCD_puberty/_data/ABCDworking/sub-NDARINVJDZ90ATC/keep/sub-NDARINVJDZ90ATC_ses-baselineYear1Arm1_task-rest_run-04_bold_brain_norm_zr_matrix.csv',\n",
       "  '/Users/gracer/Google Drive/ABCD/ABCD_puberty/_data/ABCDworking/sub-NDARINVJDZ90ATC/keep/sub-NDARINVJDZ90ATC_ses-baselineYear1Arm1_task-rest_run-03_bold_brain_norm_zr_matrix.csv'],\n",
       " 'sub-NDARINVJNDY0DWK': ['/Users/gracer/Google Drive/ABCD/ABCD_puberty/_data/ABCDworking/sub-NDARINVJNDY0DWK/keep/sub-NDARINVJNDY0DWK_ses-baselineYear1Arm1_task-rest_run-04_bold_brain_norm_zr_matrix.csv',\n",
       "  '/Users/gracer/Google Drive/ABCD/ABCD_puberty/_data/ABCDworking/sub-NDARINVJNDY0DWK/keep/sub-NDARINVJNDY0DWK_ses-baselineYear1Arm1_task-rest_run-03_bold_brain_norm_zr_matrix.csv',\n",
       "  '/Users/gracer/Google Drive/ABCD/ABCD_puberty/_data/ABCDworking/sub-NDARINVJNDY0DWK/keep/sub-NDARINVJNDY0DWK_ses-baselineYear1Arm1_task-rest_run-02_bold_brain_norm_zr_matrix.csv',\n",
       "  '/Users/gracer/Google Drive/ABCD/ABCD_puberty/_data/ABCDworking/sub-NDARINVJNDY0DWK/keep/sub-NDARINVJNDY0DWK_ses-baselineYear1Arm1_task-rest_run-01_bold_brain_norm_zr_matrix.csv'],\n",
       " 'sub-NDARINVJPLZW1Z0': ['/Users/gracer/Google Drive/ABCD/ABCD_puberty/_data/ABCDworking/sub-NDARINVJPLZW1Z0/keep/sub-NDARINVJPLZW1Z0_ses-baselineYear1Arm1_task-rest_run-01_bold_brain_norm_zr_matrix.csv',\n",
       "  '/Users/gracer/Google Drive/ABCD/ABCD_puberty/_data/ABCDworking/sub-NDARINVJPLZW1Z0/keep/sub-NDARINVJPLZW1Z0_ses-baselineYear1Arm1_task-rest_run-04_bold_brain_norm_zr_matrix.csv'],\n",
       " 'sub-NDARINVJPM26GH0': ['/Users/gracer/Google Drive/ABCD/ABCD_puberty/_data/ABCDworking/sub-NDARINVJPM26GH0/keep/sub-NDARINVJPM26GH0_ses-baselineYear1Arm1_task-rest_run-02_bold_brain_norm_zr_matrix.csv',\n",
       "  '/Users/gracer/Google Drive/ABCD/ABCD_puberty/_data/ABCDworking/sub-NDARINVJPM26GH0/keep/sub-NDARINVJPM26GH0_ses-baselineYear1Arm1_task-rest_run-04_bold_brain_norm_zr_matrix.csv',\n",
       "  '/Users/gracer/Google Drive/ABCD/ABCD_puberty/_data/ABCDworking/sub-NDARINVJPM26GH0/keep/sub-NDARINVJPM26GH0_ses-baselineYear1Arm1_task-rest_run-03_bold_brain_norm_zr_matrix.csv',\n",
       "  '/Users/gracer/Google Drive/ABCD/ABCD_puberty/_data/ABCDworking/sub-NDARINVJPM26GH0/keep/sub-NDARINVJPM26GH0_ses-baselineYear1Arm1_task-rest_run-01_bold_brain_norm_zr_matrix.csv'],\n",
       " 'sub-NDARINVJZP468AD': ['/Users/gracer/Google Drive/ABCD/ABCD_puberty/_data/ABCDworking/sub-NDARINVJZP468AD/keep/sub-NDARINVJZP468AD_ses-baselineYear1Arm1_task-rest_run-02_bold_brain_norm_zr_matrix.csv',\n",
       "  '/Users/gracer/Google Drive/ABCD/ABCD_puberty/_data/ABCDworking/sub-NDARINVJZP468AD/keep/sub-NDARINVJZP468AD_ses-baselineYear1Arm1_task-rest_run-01_bold_brain_norm_zr_matrix.csv'],\n",
       " 'sub-NDARINVK0RLYCC7': ['/Users/gracer/Google Drive/ABCD/ABCD_puberty/_data/ABCDworking/sub-NDARINVK0RLYCC7/keep/sub-NDARINVK0RLYCC7_ses-baselineYear1Arm1_task-rest_run-01_bold_brain_norm_zr_matrix.csv',\n",
       "  '/Users/gracer/Google Drive/ABCD/ABCD_puberty/_data/ABCDworking/sub-NDARINVK0RLYCC7/keep/sub-NDARINVK0RLYCC7_ses-baselineYear1Arm1_task-rest_run-02_bold_brain_norm_zr_matrix.csv',\n",
       "  '/Users/gracer/Google Drive/ABCD/ABCD_puberty/_data/ABCDworking/sub-NDARINVK0RLYCC7/keep/sub-NDARINVK0RLYCC7_ses-baselineYear1Arm1_task-rest_run-03_bold_brain_norm_zr_matrix.csv'],\n",
       " 'sub-NDARINVK1GY1F0R': ['/Users/gracer/Google Drive/ABCD/ABCD_puberty/_data/ABCDworking/sub-NDARINVK1GY1F0R/keep/sub-NDARINVK1GY1F0R_ses-baselineYear1Arm1_task-rest_run-01_bold_brain_norm_zr_matrix.csv',\n",
       "  '/Users/gracer/Google Drive/ABCD/ABCD_puberty/_data/ABCDworking/sub-NDARINVK1GY1F0R/keep/sub-NDARINVK1GY1F0R_ses-baselineYear1Arm1_task-rest_run-02_bold_brain_norm_zr_matrix.csv',\n",
       "  '/Users/gracer/Google Drive/ABCD/ABCD_puberty/_data/ABCDworking/sub-NDARINVK1GY1F0R/keep/sub-NDARINVK1GY1F0R_ses-baselineYear1Arm1_task-rest_run-03_bold_brain_norm_zr_matrix.csv',\n",
       "  '/Users/gracer/Google Drive/ABCD/ABCD_puberty/_data/ABCDworking/sub-NDARINVK1GY1F0R/keep/sub-NDARINVK1GY1F0R_ses-baselineYear1Arm1_task-rest_run-04_bold_brain_norm_zr_matrix.csv'],\n",
       " 'sub-NDARINVK8CYP94F': ['/Users/gracer/Google Drive/ABCD/ABCD_puberty/_data/ABCDworking/sub-NDARINVK8CYP94F/keep/sub-NDARINVK8CYP94F_ses-baselineYear1Arm1_task-rest_run-01_bold_brain_norm_zr_matrix.csv',\n",
       "  '/Users/gracer/Google Drive/ABCD/ABCD_puberty/_data/ABCDworking/sub-NDARINVK8CYP94F/keep/sub-NDARINVK8CYP94F_ses-baselineYear1Arm1_task-rest_run-02_bold_brain_norm_zr_matrix.csv'],\n",
       " 'sub-NDARINVK9E4206N': ['/Users/gracer/Google Drive/ABCD/ABCD_puberty/_data/ABCDworking/sub-NDARINVK9E4206N/keep/sub-NDARINVK9E4206N_ses-baselineYear1Arm1_task-rest_run-01_bold_brain_norm_zr_matrix.csv',\n",
       "  '/Users/gracer/Google Drive/ABCD/ABCD_puberty/_data/ABCDworking/sub-NDARINVK9E4206N/keep/sub-NDARINVK9E4206N_ses-baselineYear1Arm1_task-rest_run-02_bold_brain_norm_zr_matrix.csv',\n",
       "  '/Users/gracer/Google Drive/ABCD/ABCD_puberty/_data/ABCDworking/sub-NDARINVK9E4206N/keep/sub-NDARINVK9E4206N_ses-baselineYear1Arm1_task-rest_run-03_bold_brain_norm_zr_matrix.csv',\n",
       "  '/Users/gracer/Google Drive/ABCD/ABCD_puberty/_data/ABCDworking/sub-NDARINVK9E4206N/keep/sub-NDARINVK9E4206N_ses-baselineYear1Arm1_task-rest_run-04_bold_brain_norm_zr_matrix.csv'],\n",
       " 'sub-NDARINVKEVAA7AZ': ['/Users/gracer/Google Drive/ABCD/ABCD_puberty/_data/ABCDworking/sub-NDARINVKEVAA7AZ/keep/sub-NDARINVKEVAA7AZ_ses-baselineYear1Arm1_task-rest_run-01_bold_brain_norm_zr_matrix.csv',\n",
       "  '/Users/gracer/Google Drive/ABCD/ABCD_puberty/_data/ABCDworking/sub-NDARINVKEVAA7AZ/keep/sub-NDARINVKEVAA7AZ_ses-baselineYear1Arm1_task-rest_run-04_bold_brain_norm_zr_matrix.csv',\n",
       "  '/Users/gracer/Google Drive/ABCD/ABCD_puberty/_data/ABCDworking/sub-NDARINVKEVAA7AZ/keep/sub-NDARINVKEVAA7AZ_ses-baselineYear1Arm1_task-rest_run-03_bold_brain_norm_zr_matrix.csv',\n",
       "  '/Users/gracer/Google Drive/ABCD/ABCD_puberty/_data/ABCDworking/sub-NDARINVKEVAA7AZ/keep/sub-NDARINVKEVAA7AZ_ses-baselineYear1Arm1_task-rest_run-02_bold_brain_norm_zr_matrix.csv'],\n",
       " 'sub-NDARINVKF0KH7ZK': ['/Users/gracer/Google Drive/ABCD/ABCD_puberty/_data/ABCDworking/sub-NDARINVKF0KH7ZK/keep/sub-NDARINVKF0KH7ZK_ses-baselineYear1Arm1_task-rest_run-01_bold_brain_norm_zr_matrix.csv',\n",
       "  '/Users/gracer/Google Drive/ABCD/ABCD_puberty/_data/ABCDworking/sub-NDARINVKF0KH7ZK/keep/sub-NDARINVKF0KH7ZK_ses-baselineYear1Arm1_task-rest_run-03_bold_brain_norm_zr_matrix.csv',\n",
       "  '/Users/gracer/Google Drive/ABCD/ABCD_puberty/_data/ABCDworking/sub-NDARINVKF0KH7ZK/keep/sub-NDARINVKF0KH7ZK_ses-baselineYear1Arm1_task-rest_run-04_bold_brain_norm_zr_matrix.csv',\n",
       "  '/Users/gracer/Google Drive/ABCD/ABCD_puberty/_data/ABCDworking/sub-NDARINVKF0KH7ZK/keep/sub-NDARINVKF0KH7ZK_ses-baselineYear1Arm1_task-rest_run-02_bold_brain_norm_zr_matrix.csv'],\n",
       " 'sub-NDARINVKFH1X898': ['/Users/gracer/Google Drive/ABCD/ABCD_puberty/_data/ABCDworking/sub-NDARINVKFH1X898/keep/sub-NDARINVKFH1X898_ses-baselineYear1Arm1_task-rest_run-03_bold_brain_norm_zr_matrix.csv',\n",
       "  '/Users/gracer/Google Drive/ABCD/ABCD_puberty/_data/ABCDworking/sub-NDARINVKFH1X898/keep/sub-NDARINVKFH1X898_ses-baselineYear1Arm1_task-rest_run-04_bold_brain_norm_zr_matrix.csv',\n",
       "  '/Users/gracer/Google Drive/ABCD/ABCD_puberty/_data/ABCDworking/sub-NDARINVKFH1X898/keep/sub-NDARINVKFH1X898_ses-baselineYear1Arm1_task-rest_run-02_bold_brain_norm_zr_matrix.csv',\n",
       "  '/Users/gracer/Google Drive/ABCD/ABCD_puberty/_data/ABCDworking/sub-NDARINVKFH1X898/keep/sub-NDARINVKFH1X898_ses-baselineYear1Arm1_task-rest_run-01_bold_brain_norm_zr_matrix.csv'],\n",
       " 'sub-NDARINVKFJWT11B': ['/Users/gracer/Google Drive/ABCD/ABCD_puberty/_data/ABCDworking/sub-NDARINVKFJWT11B/keep/sub-NDARINVKFJWT11B_ses-baselineYear1Arm1_task-rest_run-02_bold_brain_norm_zr_matrix.csv',\n",
       "  '/Users/gracer/Google Drive/ABCD/ABCD_puberty/_data/ABCDworking/sub-NDARINVKFJWT11B/keep/sub-NDARINVKFJWT11B_ses-baselineYear1Arm1_task-rest_run-04_bold_brain_norm_zr_matrix.csv',\n",
       "  '/Users/gracer/Google Drive/ABCD/ABCD_puberty/_data/ABCDworking/sub-NDARINVKFJWT11B/keep/sub-NDARINVKFJWT11B_ses-baselineYear1Arm1_task-rest_run-03_bold_brain_norm_zr_matrix.csv',\n",
       "  '/Users/gracer/Google Drive/ABCD/ABCD_puberty/_data/ABCDworking/sub-NDARINVKFJWT11B/keep/sub-NDARINVKFJWT11B_ses-baselineYear1Arm1_task-rest_run-01_bold_brain_norm_zr_matrix.csv'],\n",
       " 'sub-NDARINVKFU0Z1FD': ['/Users/gracer/Google Drive/ABCD/ABCD_puberty/_data/ABCDworking/sub-NDARINVKFU0Z1FD/keep/sub-NDARINVKFU0Z1FD_ses-baselineYear1Arm1_task-rest_run-01_bold_brain_norm_zr_matrix.csv',\n",
       "  '/Users/gracer/Google Drive/ABCD/ABCD_puberty/_data/ABCDworking/sub-NDARINVKFU0Z1FD/keep/sub-NDARINVKFU0Z1FD_ses-baselineYear1Arm1_task-rest_run-02_bold_brain_norm_zr_matrix.csv',\n",
       "  '/Users/gracer/Google Drive/ABCD/ABCD_puberty/_data/ABCDworking/sub-NDARINVKFU0Z1FD/keep/sub-NDARINVKFU0Z1FD_ses-baselineYear1Arm1_task-rest_run-03_bold_brain_norm_zr_matrix.csv',\n",
       "  '/Users/gracer/Google Drive/ABCD/ABCD_puberty/_data/ABCDworking/sub-NDARINVKFU0Z1FD/keep/sub-NDARINVKFU0Z1FD_ses-baselineYear1Arm1_task-rest_run-04_bold_brain_norm_zr_matrix.csv'],\n",
       " 'sub-NDARINVKHXDKCB7': ['/Users/gracer/Google Drive/ABCD/ABCD_puberty/_data/ABCDworking/sub-NDARINVKHXDKCB7/keep/sub-NDARINVKHXDKCB7_ses-baselineYear1Arm1_task-rest_run-01_bold_brain_norm_zr_matrix.csv',\n",
       "  '/Users/gracer/Google Drive/ABCD/ABCD_puberty/_data/ABCDworking/sub-NDARINVKHXDKCB7/keep/sub-NDARINVKHXDKCB7_ses-baselineYear1Arm1_task-rest_run-02_bold_brain_norm_zr_matrix.csv',\n",
       "  '/Users/gracer/Google Drive/ABCD/ABCD_puberty/_data/ABCDworking/sub-NDARINVKHXDKCB7/keep/sub-NDARINVKHXDKCB7_ses-baselineYear1Arm1_task-rest_run-04_bold_brain_norm_zr_matrix.csv',\n",
       "  '/Users/gracer/Google Drive/ABCD/ABCD_puberty/_data/ABCDworking/sub-NDARINVKHXDKCB7/keep/sub-NDARINVKHXDKCB7_ses-baselineYear1Arm1_task-rest_run-03_bold_brain_norm_zr_matrix.csv'],\n",
       " 'sub-NDARINVKJKYNK5V': ['/Users/gracer/Google Drive/ABCD/ABCD_puberty/_data/ABCDworking/sub-NDARINVKJKYNK5V/keep/sub-NDARINVKJKYNK5V_ses-baselineYear1Arm1_task-rest_run-03_bold_brain_norm_zr_matrix.csv',\n",
       "  '/Users/gracer/Google Drive/ABCD/ABCD_puberty/_data/ABCDworking/sub-NDARINVKJKYNK5V/keep/sub-NDARINVKJKYNK5V_ses-baselineYear1Arm1_task-rest_run-02_bold_brain_norm_zr_matrix.csv',\n",
       "  '/Users/gracer/Google Drive/ABCD/ABCD_puberty/_data/ABCDworking/sub-NDARINVKJKYNK5V/keep/sub-NDARINVKJKYNK5V_ses-baselineYear1Arm1_task-rest_run-01_bold_brain_norm_zr_matrix.csv'],\n",
       " 'sub-NDARINVKNRU5BYD': ['/Users/gracer/Google Drive/ABCD/ABCD_puberty/_data/ABCDworking/sub-NDARINVKNRU5BYD/keep/sub-NDARINVKNRU5BYD_ses-baselineYear1Arm1_task-rest_run-02_bold_brain_norm_zr_matrix.csv',\n",
       "  '/Users/gracer/Google Drive/ABCD/ABCD_puberty/_data/ABCDworking/sub-NDARINVKNRU5BYD/keep/sub-NDARINVKNRU5BYD_ses-baselineYear1Arm1_task-rest_run-04_bold_brain_norm_zr_matrix.csv',\n",
       "  '/Users/gracer/Google Drive/ABCD/ABCD_puberty/_data/ABCDworking/sub-NDARINVKNRU5BYD/keep/sub-NDARINVKNRU5BYD_ses-baselineYear1Arm1_task-rest_run-03_bold_brain_norm_zr_matrix.csv',\n",
       "  '/Users/gracer/Google Drive/ABCD/ABCD_puberty/_data/ABCDworking/sub-NDARINVKNRU5BYD/keep/sub-NDARINVKNRU5BYD_ses-baselineYear1Arm1_task-rest_run-01_bold_brain_norm_zr_matrix.csv'],\n",
       " 'sub-NDARINVKTZGA2UH': ['/Users/gracer/Google Drive/ABCD/ABCD_puberty/_data/ABCDworking/sub-NDARINVKTZGA2UH/keep/sub-NDARINVKTZGA2UH_ses-baselineYear1Arm1_task-rest_run-02_bold_brain_norm_zr_matrix.csv',\n",
       "  '/Users/gracer/Google Drive/ABCD/ABCD_puberty/_data/ABCDworking/sub-NDARINVKTZGA2UH/keep/sub-NDARINVKTZGA2UH_ses-baselineYear1Arm1_task-rest_run-04_bold_brain_norm_zr_matrix.csv',\n",
       "  '/Users/gracer/Google Drive/ABCD/ABCD_puberty/_data/ABCDworking/sub-NDARINVKTZGA2UH/keep/sub-NDARINVKTZGA2UH_ses-baselineYear1Arm1_task-rest_run-03_bold_brain_norm_zr_matrix.csv',\n",
       "  '/Users/gracer/Google Drive/ABCD/ABCD_puberty/_data/ABCDworking/sub-NDARINVKTZGA2UH/keep/sub-NDARINVKTZGA2UH_ses-baselineYear1Arm1_task-rest_run-01_bold_brain_norm_zr_matrix.csv'],\n",
       " 'sub-NDARINVL36MC5HJ': ['/Users/gracer/Google Drive/ABCD/ABCD_puberty/_data/ABCDworking/sub-NDARINVL36MC5HJ/keep/sub-NDARINVL36MC5HJ_ses-baselineYear1Arm1_task-rest_run-02_bold_brain_norm_zr_matrix.csv',\n",
       "  '/Users/gracer/Google Drive/ABCD/ABCD_puberty/_data/ABCDworking/sub-NDARINVL36MC5HJ/keep/sub-NDARINVL36MC5HJ_ses-baselineYear1Arm1_task-rest_run-03_bold_brain_norm_zr_matrix.csv',\n",
       "  '/Users/gracer/Google Drive/ABCD/ABCD_puberty/_data/ABCDworking/sub-NDARINVL36MC5HJ/keep/sub-NDARINVL36MC5HJ_ses-baselineYear1Arm1_task-rest_run-01_bold_brain_norm_zr_matrix.csv'],\n",
       " 'sub-NDARINVL7G860LK': ['/Users/gracer/Google Drive/ABCD/ABCD_puberty/_data/ABCDworking/sub-NDARINVL7G860LK/keep/sub-NDARINVL7G860LK_ses-baselineYear1Arm1_task-rest_run-03_bold_brain_norm_zr_matrix.csv',\n",
       "  '/Users/gracer/Google Drive/ABCD/ABCD_puberty/_data/ABCDworking/sub-NDARINVL7G860LK/keep/sub-NDARINVL7G860LK_ses-baselineYear1Arm1_task-rest_run-04_bold_brain_norm_zr_matrix.csv',\n",
       "  '/Users/gracer/Google Drive/ABCD/ABCD_puberty/_data/ABCDworking/sub-NDARINVL7G860LK/keep/sub-NDARINVL7G860LK_ses-baselineYear1Arm1_task-rest_run-02_bold_brain_norm_zr_matrix.csv',\n",
       "  '/Users/gracer/Google Drive/ABCD/ABCD_puberty/_data/ABCDworking/sub-NDARINVL7G860LK/keep/sub-NDARINVL7G860LK_ses-baselineYear1Arm1_task-rest_run-01_bold_brain_norm_zr_matrix.csv'],\n",
       " 'sub-NDARINVL8XGD85G': ['/Users/gracer/Google Drive/ABCD/ABCD_puberty/_data/ABCDworking/sub-NDARINVL8XGD85G/keep/sub-NDARINVL8XGD85G_ses-baselineYear1Arm1_task-rest_run-03_bold_brain_norm_zr_matrix.csv',\n",
       "  '/Users/gracer/Google Drive/ABCD/ABCD_puberty/_data/ABCDworking/sub-NDARINVL8XGD85G/keep/sub-NDARINVL8XGD85G_ses-baselineYear1Arm1_task-rest_run-02_bold_brain_norm_zr_matrix.csv',\n",
       "  '/Users/gracer/Google Drive/ABCD/ABCD_puberty/_data/ABCDworking/sub-NDARINVL8XGD85G/keep/sub-NDARINVL8XGD85G_ses-baselineYear1Arm1_task-rest_run-01_bold_brain_norm_zr_matrix.csv'],\n",
       " 'sub-NDARINVLB1UUZT7': ['/Users/gracer/Google Drive/ABCD/ABCD_puberty/_data/ABCDworking/sub-NDARINVLB1UUZT7/keep/sub-NDARINVLB1UUZT7_ses-baselineYear1Arm1_task-rest_run-02_bold_brain_norm_zr_matrix.csv',\n",
       "  '/Users/gracer/Google Drive/ABCD/ABCD_puberty/_data/ABCDworking/sub-NDARINVLB1UUZT7/keep/sub-NDARINVLB1UUZT7_ses-baselineYear1Arm1_task-rest_run-04_bold_brain_norm_zr_matrix.csv',\n",
       "  '/Users/gracer/Google Drive/ABCD/ABCD_puberty/_data/ABCDworking/sub-NDARINVLB1UUZT7/keep/sub-NDARINVLB1UUZT7_ses-baselineYear1Arm1_task-rest_run-03_bold_brain_norm_zr_matrix.csv',\n",
       "  '/Users/gracer/Google Drive/ABCD/ABCD_puberty/_data/ABCDworking/sub-NDARINVLB1UUZT7/keep/sub-NDARINVLB1UUZT7_ses-baselineYear1Arm1_task-rest_run-01_bold_brain_norm_zr_matrix.csv'],\n",
       " 'sub-NDARINVMA0MXL96': ['/Users/gracer/Google Drive/ABCD/ABCD_puberty/_data/ABCDworking/sub-NDARINVMA0MXL96/keep/sub-NDARINVMA0MXL96_ses-baselineYear1Arm1_task-rest_run-02_bold_brain_norm_zr_matrix.csv',\n",
       "  '/Users/gracer/Google Drive/ABCD/ABCD_puberty/_data/ABCDworking/sub-NDARINVMA0MXL96/keep/sub-NDARINVMA0MXL96_ses-baselineYear1Arm1_task-rest_run-03_bold_brain_norm_zr_matrix.csv',\n",
       "  '/Users/gracer/Google Drive/ABCD/ABCD_puberty/_data/ABCDworking/sub-NDARINVMA0MXL96/keep/sub-NDARINVMA0MXL96_ses-baselineYear1Arm1_task-rest_run-04_bold_brain_norm_zr_matrix.csv',\n",
       "  '/Users/gracer/Google Drive/ABCD/ABCD_puberty/_data/ABCDworking/sub-NDARINVMA0MXL96/keep/sub-NDARINVMA0MXL96_ses-baselineYear1Arm1_task-rest_run-01_bold_brain_norm_zr_matrix.csv'],\n",
       " 'sub-NDARINVMFVA1BZF': ['/Users/gracer/Google Drive/ABCD/ABCD_puberty/_data/ABCDworking/sub-NDARINVMFVA1BZF/keep/sub-NDARINVMFVA1BZF_ses-baselineYear1Arm1_task-rest_run-02_bold_brain_norm_zr_matrix.csv',\n",
       "  '/Users/gracer/Google Drive/ABCD/ABCD_puberty/_data/ABCDworking/sub-NDARINVMFVA1BZF/keep/sub-NDARINVMFVA1BZF_ses-baselineYear1Arm1_task-rest_run-03_bold_brain_norm_zr_matrix.csv',\n",
       "  '/Users/gracer/Google Drive/ABCD/ABCD_puberty/_data/ABCDworking/sub-NDARINVMFVA1BZF/keep/sub-NDARINVMFVA1BZF_ses-baselineYear1Arm1_task-rest_run-04_bold_brain_norm_zr_matrix.csv',\n",
       "  '/Users/gracer/Google Drive/ABCD/ABCD_puberty/_data/ABCDworking/sub-NDARINVMFVA1BZF/keep/sub-NDARINVMFVA1BZF_ses-baselineYear1Arm1_task-rest_run-01_bold_brain_norm_zr_matrix.csv'],\n",
       " 'sub-NDARINVN071F6DW': ['/Users/gracer/Google Drive/ABCD/ABCD_puberty/_data/ABCDworking/sub-NDARINVN071F6DW/keep/sub-NDARINVN071F6DW_ses-baselineYear1Arm1_task-rest_run-02_bold_brain_norm_zr_matrix.csv',\n",
       "  '/Users/gracer/Google Drive/ABCD/ABCD_puberty/_data/ABCDworking/sub-NDARINVN071F6DW/keep/sub-NDARINVN071F6DW_ses-baselineYear1Arm1_task-rest_run-04_bold_brain_norm_zr_matrix.csv',\n",
       "  '/Users/gracer/Google Drive/ABCD/ABCD_puberty/_data/ABCDworking/sub-NDARINVN071F6DW/keep/sub-NDARINVN071F6DW_ses-baselineYear1Arm1_task-rest_run-03_bold_brain_norm_zr_matrix.csv',\n",
       "  '/Users/gracer/Google Drive/ABCD/ABCD_puberty/_data/ABCDworking/sub-NDARINVN071F6DW/keep/sub-NDARINVN071F6DW_ses-baselineYear1Arm1_task-rest_run-01_bold_brain_norm_zr_matrix.csv'],\n",
       " 'sub-NDARINVPE6W1Y3P': ['/Users/gracer/Google Drive/ABCD/ABCD_puberty/_data/ABCDworking/sub-NDARINVPE6W1Y3P/keep/sub-NDARINVPE6W1Y3P_ses-baselineYear1Arm1_task-rest_run-02_bold_brain_norm_zr_matrix.csv',\n",
       "  '/Users/gracer/Google Drive/ABCD/ABCD_puberty/_data/ABCDworking/sub-NDARINVPE6W1Y3P/keep/sub-NDARINVPE6W1Y3P_ses-baselineYear1Arm1_task-rest_run-04_bold_brain_norm_zr_matrix.csv',\n",
       "  '/Users/gracer/Google Drive/ABCD/ABCD_puberty/_data/ABCDworking/sub-NDARINVPE6W1Y3P/keep/sub-NDARINVPE6W1Y3P_ses-baselineYear1Arm1_task-rest_run-03_bold_brain_norm_zr_matrix.csv',\n",
       "  '/Users/gracer/Google Drive/ABCD/ABCD_puberty/_data/ABCDworking/sub-NDARINVPE6W1Y3P/keep/sub-NDARINVPE6W1Y3P_ses-baselineYear1Arm1_task-rest_run-01_bold_brain_norm_zr_matrix.csv'],\n",
       " 'sub-NDARINVT472A3DT': ['/Users/gracer/Google Drive/ABCD/ABCD_puberty/_data/ABCDworking/sub-NDARINVT472A3DT/keep/sub-NDARINVT472A3DT_ses-baselineYear1Arm1_task-rest_run-03_bold_brain_norm_zr_matrix.csv',\n",
       "  '/Users/gracer/Google Drive/ABCD/ABCD_puberty/_data/ABCDworking/sub-NDARINVT472A3DT/keep/sub-NDARINVT472A3DT_ses-baselineYear1Arm1_task-rest_run-04_bold_brain_norm_zr_matrix.csv',\n",
       "  '/Users/gracer/Google Drive/ABCD/ABCD_puberty/_data/ABCDworking/sub-NDARINVT472A3DT/keep/sub-NDARINVT472A3DT_ses-baselineYear1Arm1_task-rest_run-02_bold_brain_norm_zr_matrix.csv',\n",
       "  '/Users/gracer/Google Drive/ABCD/ABCD_puberty/_data/ABCDworking/sub-NDARINVT472A3DT/keep/sub-NDARINVT472A3DT_ses-baselineYear1Arm1_task-rest_run-01_bold_brain_norm_zr_matrix.csv'],\n",
       " 'sub-NDARINVTNE22YA5': ['/Users/gracer/Google Drive/ABCD/ABCD_puberty/_data/ABCDworking/sub-NDARINVTNE22YA5/keep/sub-NDARINVTNE22YA5_ses-baselineYear1Arm1_task-rest_run-04_bold_brain_norm_zr_matrix.csv',\n",
       "  '/Users/gracer/Google Drive/ABCD/ABCD_puberty/_data/ABCDworking/sub-NDARINVTNE22YA5/keep/sub-NDARINVTNE22YA5_ses-baselineYear1Arm1_task-rest_run-03_bold_brain_norm_zr_matrix.csv',\n",
       "  '/Users/gracer/Google Drive/ABCD/ABCD_puberty/_data/ABCDworking/sub-NDARINVTNE22YA5/keep/sub-NDARINVTNE22YA5_ses-baselineYear1Arm1_task-rest_run-05_bold_brain_norm_zr_matrix.csv',\n",
       "  '/Users/gracer/Google Drive/ABCD/ABCD_puberty/_data/ABCDworking/sub-NDARINVTNE22YA5/keep/sub-NDARINVTNE22YA5_ses-baselineYear1Arm1_task-rest_run-02_bold_brain_norm_zr_matrix.csv',\n",
       "  '/Users/gracer/Google Drive/ABCD/ABCD_puberty/_data/ABCDworking/sub-NDARINVTNE22YA5/keep/sub-NDARINVTNE22YA5_ses-baselineYear1Arm1_task-rest_run-01_bold_brain_norm_zr_matrix.csv'],\n",
       " 'sub-NDARINVUXT4TZJF': ['/Users/gracer/Google Drive/ABCD/ABCD_puberty/_data/ABCDworking/sub-NDARINVUXT4TZJF/keep/sub-NDARINVUXT4TZJF_ses-baselineYear1Arm1_task-rest_run-02_bold_brain_norm_zr_matrix.csv',\n",
       "  '/Users/gracer/Google Drive/ABCD/ABCD_puberty/_data/ABCDworking/sub-NDARINVUXT4TZJF/keep/sub-NDARINVUXT4TZJF_ses-baselineYear1Arm1_task-rest_run-03_bold_brain_norm_zr_matrix.csv',\n",
       "  '/Users/gracer/Google Drive/ABCD/ABCD_puberty/_data/ABCDworking/sub-NDARINVUXT4TZJF/keep/sub-NDARINVUXT4TZJF_ses-baselineYear1Arm1_task-rest_run-04_bold_brain_norm_zr_matrix.csv',\n",
       "  '/Users/gracer/Google Drive/ABCD/ABCD_puberty/_data/ABCDworking/sub-NDARINVUXT4TZJF/keep/sub-NDARINVUXT4TZJF_ses-baselineYear1Arm1_task-rest_run-01_bold_brain_norm_zr_matrix.csv'],\n",
       " 'sub-NDARINVX3PYJZPC': ['/Users/gracer/Google Drive/ABCD/ABCD_puberty/_data/ABCDworking/sub-NDARINVX3PYJZPC/keep/sub-NDARINVX3PYJZPC_ses-baselineYear1Arm1_task-rest_run-01_bold_brain_norm_zr_matrix.csv',\n",
       "  '/Users/gracer/Google Drive/ABCD/ABCD_puberty/_data/ABCDworking/sub-NDARINVX3PYJZPC/keep/sub-NDARINVX3PYJZPC_ses-baselineYear1Arm1_task-rest_run-02_bold_brain_norm_zr_matrix.csv',\n",
       "  '/Users/gracer/Google Drive/ABCD/ABCD_puberty/_data/ABCDworking/sub-NDARINVX3PYJZPC/keep/sub-NDARINVX3PYJZPC_ses-baselineYear1Arm1_task-rest_run-03_bold_brain_norm_zr_matrix.csv',\n",
       "  '/Users/gracer/Google Drive/ABCD/ABCD_puberty/_data/ABCDworking/sub-NDARINVX3PYJZPC/keep/sub-NDARINVX3PYJZPC_ses-baselineYear1Arm1_task-rest_run-04_bold_brain_norm_zr_matrix.csv'],\n",
       " 'sub-NDARINVXU8K8M57': ['/Users/gracer/Google Drive/ABCD/ABCD_puberty/_data/ABCDworking/sub-NDARINVXU8K8M57/keep/sub-NDARINVXU8K8M57_ses-baselineYear1Arm1_task-rest_run-03_bold_brain_norm_zr_matrix.csv',\n",
       "  '/Users/gracer/Google Drive/ABCD/ABCD_puberty/_data/ABCDworking/sub-NDARINVXU8K8M57/keep/sub-NDARINVXU8K8M57_ses-baselineYear1Arm1_task-rest_run-04_bold_brain_norm_zr_matrix.csv',\n",
       "  '/Users/gracer/Google Drive/ABCD/ABCD_puberty/_data/ABCDworking/sub-NDARINVXU8K8M57/keep/sub-NDARINVXU8K8M57_ses-baselineYear1Arm1_task-rest_run-02_bold_brain_norm_zr_matrix.csv',\n",
       "  '/Users/gracer/Google Drive/ABCD/ABCD_puberty/_data/ABCDworking/sub-NDARINVXU8K8M57/keep/sub-NDARINVXU8K8M57_ses-baselineYear1Arm1_task-rest_run-01_bold_brain_norm_zr_matrix.csv'],\n",
       " 'sub-NDARINVYEH878VD': ['/Users/gracer/Google Drive/ABCD/ABCD_puberty/_data/ABCDworking/sub-NDARINVYEH878VD/keep/sub-NDARINVYEH878VD_ses-baselineYear1Arm1_task-rest_run-04_bold_brain_norm_zr_matrix.csv',\n",
       "  '/Users/gracer/Google Drive/ABCD/ABCD_puberty/_data/ABCDworking/sub-NDARINVYEH878VD/keep/sub-NDARINVYEH878VD_ses-baselineYear1Arm1_task-rest_run-03_bold_brain_norm_zr_matrix.csv',\n",
       "  '/Users/gracer/Google Drive/ABCD/ABCD_puberty/_data/ABCDworking/sub-NDARINVYEH878VD/keep/sub-NDARINVYEH878VD_ses-baselineYear1Arm1_task-rest_run-02_bold_brain_norm_zr_matrix.csv',\n",
       "  '/Users/gracer/Google Drive/ABCD/ABCD_puberty/_data/ABCDworking/sub-NDARINVYEH878VD/keep/sub-NDARINVYEH878VD_ses-baselineYear1Arm1_task-rest_run-01_bold_brain_norm_zr_matrix.csv'],\n",
       " 'sub-NDARINVYRRPGLF4': ['/Users/gracer/Google Drive/ABCD/ABCD_puberty/_data/ABCDworking/sub-NDARINVYRRPGLF4/keep/sub-NDARINVYRRPGLF4_ses-baselineYear1Arm1_task-rest_run-02_bold_brain_norm_zr_matrix.csv',\n",
       "  '/Users/gracer/Google Drive/ABCD/ABCD_puberty/_data/ABCDworking/sub-NDARINVYRRPGLF4/keep/sub-NDARINVYRRPGLF4_ses-baselineYear1Arm1_task-rest_run-04_bold_brain_norm_zr_matrix.csv',\n",
       "  '/Users/gracer/Google Drive/ABCD/ABCD_puberty/_data/ABCDworking/sub-NDARINVYRRPGLF4/keep/sub-NDARINVYRRPGLF4_ses-baselineYear1Arm1_task-rest_run-03_bold_brain_norm_zr_matrix.csv',\n",
       "  '/Users/gracer/Google Drive/ABCD/ABCD_puberty/_data/ABCDworking/sub-NDARINVYRRPGLF4/keep/sub-NDARINVYRRPGLF4_ses-baselineYear1Arm1_task-rest_run-01_bold_brain_norm_zr_matrix.csv'],\n",
       " 'sub-NDARINVYZMY8DH5': ['/Users/gracer/Google Drive/ABCD/ABCD_puberty/_data/ABCDworking/sub-NDARINVYZMY8DH5/keep/sub-NDARINVYZMY8DH5_ses-baselineYear1Arm1_task-rest_run-03_bold_brain_norm_zr_matrix.csv',\n",
       "  '/Users/gracer/Google Drive/ABCD/ABCD_puberty/_data/ABCDworking/sub-NDARINVYZMY8DH5/keep/sub-NDARINVYZMY8DH5_ses-baselineYear1Arm1_task-rest_run-02_bold_brain_norm_zr_matrix.csv',\n",
       "  '/Users/gracer/Google Drive/ABCD/ABCD_puberty/_data/ABCDworking/sub-NDARINVYZMY8DH5/keep/sub-NDARINVYZMY8DH5_ses-baselineYear1Arm1_task-rest_run-01_bold_brain_norm_zr_matrix.csv']}"
      ]
     },
     "execution_count": 8,
     "metadata": {},
     "output_type": "execute_result"
    }
   ],
   "source": [
    "path_dict"
   ]
  },
  {
   "cell_type": "code",
   "execution_count": 9,
   "metadata": {},
   "outputs": [
    {
     "name": "stdout",
     "output_type": "stream",
     "text": [
      "4\n",
      "4\n",
      "4\n",
      "2\n",
      "4\n",
      "4\n",
      "3\n",
      "4\n",
      "4\n",
      "3\n",
      "2\n",
      "4\n",
      "4\n",
      "3\n",
      "4\n",
      "4\n",
      "4\n",
      "4\n",
      "4\n",
      "2\n",
      "4\n",
      "4\n",
      "4\n",
      "3\n",
      "4\n",
      "4\n",
      "4\n",
      "4\n",
      "3\n",
      "3\n",
      "4\n",
      "4\n",
      "4\n",
      "3\n",
      "4\n",
      "4\n",
      "4\n",
      "4\n",
      "4\n",
      "4\n",
      "4\n",
      "4\n",
      "4\n",
      "3\n",
      "4\n",
      "4\n",
      "4\n",
      "4\n",
      "4\n",
      "4\n",
      "4\n",
      "3\n",
      "4\n",
      "3\n",
      "3\n",
      "4\n",
      "4\n",
      "4\n",
      "4\n",
      "4\n",
      "4\n",
      "5\n",
      "4\n",
      "4\n",
      "4\n",
      "3\n",
      "4\n",
      "4\n",
      "4\n",
      "3\n",
      "4\n",
      "4\n",
      "4\n",
      "4\n",
      "4\n",
      "4\n",
      "4\n",
      "4\n",
      "4\n",
      "4\n",
      "4\n",
      "4\n",
      "4\n",
      "4\n",
      "4\n",
      "4\n",
      "4\n",
      "4\n",
      "4\n",
      "4\n",
      "4\n",
      "4\n",
      "4\n",
      "5\n",
      "4\n",
      "4\n",
      "4\n",
      "4\n",
      "4\n",
      "4\n",
      "4\n",
      "4\n",
      "4\n",
      "3\n",
      "2\n",
      "4\n",
      "4\n",
      "2\n",
      "3\n",
      "3\n",
      "4\n",
      "4\n",
      "3\n",
      "4\n",
      "4\n",
      "4\n",
      "4\n",
      "4\n",
      "4\n",
      "3\n"
     ]
    }
   ],
   "source": [
    "data_dict={}\n",
    "num=[]\n",
    "for key, value in path_dict.items():\n",
    "    print(len(value))\n",
    "    num.append(len(value))\n",
    "    for i in value:\n",
    "        data_dict.setdefault(key, []).append(pd.read_csv(i, header=None,index_col=False))\n",
    "#         data_dict[key]= pd.read_csv(i, header=None,index_col=False)"
   ]
  },
  {
   "cell_type": "code",
   "execution_count": 10,
   "metadata": {},
   "outputs": [
    {
     "data": {
      "text/plain": [
       "3.783333333333333"
      ]
     },
     "execution_count": 10,
     "metadata": {},
     "output_type": "execute_result"
    }
   ],
   "source": [
    "np.mean(num)"
   ]
  },
  {
   "cell_type": "code",
   "execution_count": 11,
   "metadata": {},
   "outputs": [
    {
     "data": {
      "text/plain": [
       "120"
      ]
     },
     "execution_count": 11,
     "metadata": {},
     "output_type": "execute_result"
    }
   ],
   "source": [
    "len(list(data_dict.keys()))"
   ]
  },
  {
   "cell_type": "markdown",
   "metadata": {},
   "source": [
    "### Function to create a graph with positive or negative values and minimum correlation value"
   ]
  },
  {
   "cell_type": "code",
   "execution_count": 12,
   "metadata": {},
   "outputs": [],
   "source": [
    "def create_corr_network_5(G, corr_direction, min_correlation):\n",
    "    ##Creates a copy of the graph\n",
    "    H = G.copy()\n",
    "    \n",
    "    ##Checks all the edges and removes some based on corr_direction\n",
    "    for stock1, stock2, weight in list(G.edges(data=True)):\n",
    "        ##if we only want to see the positive correlations we then delete the edges with weight smaller than 0        \n",
    "        if corr_direction == \"positive\":\n",
    "            ####it adds a minimum value for correlation. \n",
    "            ####If correlation weaker than the min, then it deletes the edge\n",
    "            if weight[\"weight\"] <0 or weight[\"weight\"] < min_correlation:\n",
    "                H.remove_edge(stock1, stock2)\n",
    "        ##this part runs if the corr_direction is negative and removes edges with weights equal or largen than 0\n",
    "        else:\n",
    "            ####it adds a minimum value for correlation. \n",
    "            ####If correlation weaker than the min, then it deletes the edge\n",
    "            if weight[\"weight\"] >=0 or weight[\"weight\"] > min_correlation:\n",
    "                H.remove_edge(stock1, stock2)\n",
    "    return(H)\n"
   ]
  },
  {
   "cell_type": "markdown",
   "metadata": {},
   "source": [
    "### Function to make a graph object BY SUBJECT\n",
    "This will return: \n",
    "* The edges (noramlized R correlation matrix, in pandas dataframe)\n",
    "* The correlations (absolute value of the edges in a numpy dataframe)\n",
    "* The mean_FC (the mean functional connectivity per subject/run)\n",
    "* The graphs (this will contain the raw graph object G as well as the the partion values from the modularity calculation)"
   ]
  },
  {
   "cell_type": "code",
   "execution_count": 13,
   "metadata": {
    "scrolled": true
   },
   "outputs": [
    {
     "ename": "NameError",
     "evalue": "name 'GRAPHS' is not defined",
     "output_type": "error",
     "traceback": [
      "\u001b[0;31m---------------------------------------------------------------------------\u001b[0m",
      "\u001b[0;31mNameError\u001b[0m                                 Traceback (most recent call last)",
      "\u001b[0;32m<ipython-input-13-239c9e9f2da4>\u001b[0m in \u001b[0;36m<module>\u001b[0;34m()\u001b[0m\n\u001b[0;32m----> 1\u001b[0;31m \u001b[0mGRAPHS\u001b[0m\u001b[0;34m.\u001b[0m\u001b[0mkeys\u001b[0m\u001b[0;34m(\u001b[0m\u001b[0;34m)\u001b[0m\u001b[0;34m\u001b[0m\u001b[0m\n\u001b[0m",
      "\u001b[0;31mNameError\u001b[0m: name 'GRAPHS' is not defined"
     ]
    }
   ],
   "source": [
    "GRAPHS.keys()"
   ]
  },
  {
   "cell_type": "code",
   "execution_count": 14,
   "metadata": {},
   "outputs": [
    {
     "data": {
      "text/html": [
       "<div>\n",
       "<style scoped>\n",
       "    .dataframe tbody tr th:only-of-type {\n",
       "        vertical-align: middle;\n",
       "    }\n",
       "\n",
       "    .dataframe tbody tr th {\n",
       "        vertical-align: top;\n",
       "    }\n",
       "\n",
       "    .dataframe thead th {\n",
       "        text-align: right;\n",
       "    }\n",
       "</style>\n",
       "<table border=\"1\" class=\"dataframe\">\n",
       "  <thead>\n",
       "    <tr style=\"text-align: right;\">\n",
       "      <th></th>\n",
       "      <th>0</th>\n",
       "      <th>1</th>\n",
       "      <th>2</th>\n",
       "      <th>3</th>\n",
       "    </tr>\n",
       "  </thead>\n",
       "  <tbody>\n",
       "    <tr>\n",
       "      <th>0</th>\n",
       "      <td>sub-NDARINVMFVA1BZF</td>\n",
       "      <td>F</td>\n",
       "      <td>latepubertal</td>\n",
       "      <td>Obese</td>\n",
       "    </tr>\n",
       "    <tr>\n",
       "      <th>1</th>\n",
       "      <td>sub-NDARINV019DXLU4</td>\n",
       "      <td>F</td>\n",
       "      <td>latepubertal</td>\n",
       "      <td>Obese</td>\n",
       "    </tr>\n",
       "    <tr>\n",
       "      <th>2</th>\n",
       "      <td>sub-NDARINVT472A3DT</td>\n",
       "      <td>F</td>\n",
       "      <td>latepubertal</td>\n",
       "      <td>Obese</td>\n",
       "    </tr>\n",
       "    <tr>\n",
       "      <th>3</th>\n",
       "      <td>sub-NDARINV4D917H14</td>\n",
       "      <td>F</td>\n",
       "      <td>latepubertal</td>\n",
       "      <td>Obese</td>\n",
       "    </tr>\n",
       "    <tr>\n",
       "      <th>4</th>\n",
       "      <td>sub-NDARINVD9L81NY5</td>\n",
       "      <td>F</td>\n",
       "      <td>latepubertal</td>\n",
       "      <td>Obese</td>\n",
       "    </tr>\n",
       "  </tbody>\n",
       "</table>\n",
       "</div>"
      ],
      "text/plain": [
       "                     0  1             2      3\n",
       "0  sub-NDARINVMFVA1BZF  F  latepubertal  Obese\n",
       "1  sub-NDARINV019DXLU4  F  latepubertal  Obese\n",
       "2  sub-NDARINVT472A3DT  F  latepubertal  Obese\n",
       "3  sub-NDARINV4D917H14  F  latepubertal  Obese\n",
       "4  sub-NDARINVD9L81NY5  F  latepubertal  Obese"
      ]
     },
     "execution_count": 14,
     "metadata": {},
     "output_type": "execute_result"
    }
   ],
   "source": [
    "interest.head()"
   ]
  },
  {
   "cell_type": "code",
   "execution_count": 15,
   "metadata": {},
   "outputs": [
    {
     "name": "stdout",
     "output_type": "stream",
     "text": [
      "dict_keys(['sex', 'PCS', 'OVOB'])\n"
     ]
    }
   ],
   "source": [
    "interest_dict=interest.set_index(interest[0]).to_dict()\n",
    "def removekey(d, key):\n",
    "    r = dict(d)\n",
    "    del r[key]\n",
    "    return r\n",
    "cov_dict=removekey(interest_dict, 0)\n",
    "cov_dict['sex'] = cov_dict.pop(1)\n",
    "cov_dict['PCS'] = cov_dict.pop(2)\n",
    "cov_dict['OVOB'] = cov_dict.pop(3)\n",
    "print(cov_dict.keys())"
   ]
  },
  {
   "cell_type": "code",
   "execution_count": null,
   "metadata": {},
   "outputs": [],
   "source": [
    "# cov_dict['sex']['sub-NDARINVMFVA1BZF']"
   ]
  },
  {
   "cell_type": "code",
   "execution_count": null,
   "metadata": {
    "scrolled": true
   },
   "outputs": [],
   "source": [
    "for key in cov_dict.keys():\n",
    "    for subkey, value in cov_dict[key].items():\n",
    "        if subkey in GRAPHS['graphs']:\n",
    "            GRAPHS['graphs'][subkey].append(value)\n",
    "            print(GRAPHS['graphs'][subkey])"
   ]
  },
  {
   "cell_type": "markdown",
   "metadata": {},
   "source": [
    "### Differences in mean FC"
   ]
  },
  {
   "cell_type": "code",
   "execution_count": null,
   "metadata": {
    "scrolled": true
   },
   "outputs": [],
   "source": [
    "list(GRAPHS['mean_FC'].keys())"
   ]
  },
  {
   "cell_type": "code",
   "execution_count": null,
   "metadata": {},
   "outputs": [],
   "source": [
    "GRAPHS['mean_FC']['sub-NDARINVULZMADF1']"
   ]
  },
  {
   "cell_type": "code",
   "execution_count": null,
   "metadata": {
    "scrolled": true
   },
   "outputs": [],
   "source": [
    "# tmp=[]\n",
    "# o=[]\n",
    "\n",
    "# for key,value in GRAPHS['mean_FC'].items():\n",
    "#     o=value\n",
    "#     z=statistics.stdev([i for i in o if isinstance(i, int) or isinstance(i, float)])\n",
    "#     x=sum([i for i in o if isinstance(i, int) or isinstance(i, float)])\n",
    "#     y=len([i for i in o if isinstance(i, int) or isinstance(i, float)])\n",
    "#     mu=x/y\n",
    "#     o.append(mu)\n",
    "#     o.append(z)"
   ]
  },
  {
   "cell_type": "markdown",
   "metadata": {},
   "source": [
    "### How to delete items in list that you accidentally made"
   ]
  },
  {
   "cell_type": "code",
   "execution_count": null,
   "metadata": {},
   "outputs": [],
   "source": [
    "# for key,value in article['mean_FC'].items():\n",
    "#     del value[-7:]"
   ]
  },
  {
   "cell_type": "code",
   "execution_count": null,
   "metadata": {},
   "outputs": [],
   "source": [
    "GRAPHS.keys()"
   ]
  },
  {
   "cell_type": "code",
   "execution_count": null,
   "metadata": {},
   "outputs": [],
   "source": [
    "BIGdf=GRAPHS['BIGdf']"
   ]
  },
  {
   "cell_type": "markdown",
   "metadata": {},
   "source": [
    "### Getting the standard deviation "
   ]
  },
  {
   "cell_type": "code",
   "execution_count": null,
   "metadata": {
    "scrolled": true
   },
   "outputs": [],
   "source": [
    "# for key,value in GRAPHS['mean_FC'].items():\n",
    "#     o=value[:-4]\n",
    "#     try:\n",
    "#         x=statistics.stdev([i for i in o if isinstance(i, int) or isinstance(i, float)])\n",
    "#         print(x)\n",
    "#         value.append(x)\n",
    "#     except:\n",
    "#         x='NaN'\n",
    "#         print(x)\n",
    "#         value.append(x)"
   ]
  },
  {
   "cell_type": "code",
   "execution_count": null,
   "metadata": {},
   "outputs": [],
   "source": [
    "GRAPHS['mean_FC']['sub-NDARINVULZMADF1']"
   ]
  },
  {
   "cell_type": "markdown",
   "metadata": {},
   "source": [
    "### Making dataframe to use "
   ]
  },
  {
   "cell_type": "code",
   "execution_count": null,
   "metadata": {},
   "outputs": [],
   "source": [
    "PID = list(GRAPHS['mean_FC'].keys())\n",
    "len(PID)"
   ]
  },
  {
   "cell_type": "code",
   "execution_count": null,
   "metadata": {
    "scrolled": true
   },
   "outputs": [],
   "source": [
    "# list(GRAPHS['mean_FC'].values())"
   ]
  },
  {
   "cell_type": "code",
   "execution_count": null,
   "metadata": {},
   "outputs": [],
   "source": [
    "sex=[]\n",
    "PCS=[]\n",
    "OVOB=[]\n",
    "mean_FC=[]\n",
    "sd_FC=[]\n",
    "for item in list(GRAPHS['mean_FC'].values()):\n",
    "    sex.append(item[-5])\n",
    "    PCS.append(item[-4])\n",
    "    OVOB.append(item[-3])\n",
    "    mean_FC.append(item[-2])\n",
    "    sd_FC.append(item[-1])"
   ]
  },
  {
   "cell_type": "code",
   "execution_count": null,
   "metadata": {},
   "outputs": [],
   "source": [
    "len(OVOB)"
   ]
  },
  {
   "cell_type": "markdown",
   "metadata": {},
   "source": [
    "### Creating a dataframe "
   ]
  },
  {
   "cell_type": "code",
   "execution_count": null,
   "metadata": {
    "scrolled": true
   },
   "outputs": [],
   "source": [
    "FCmat=np.column_stack([PID, sex, PCS, OVOB, mean_FC, sd_FC])\n",
    "FCdf=pd.DataFrame(FCmat, columns = ['subjects','sex','PCS','OVOB','mean','SD'])\n",
    "FCdf=FCdf.fillna(0)"
   ]
  },
  {
   "cell_type": "code",
   "execution_count": null,
   "metadata": {
    "scrolled": true
   },
   "outputs": [],
   "source": [
    "FCdf.describe()"
   ]
  },
  {
   "cell_type": "markdown",
   "metadata": {},
   "source": [
    "### Testing differences in mean FC\n",
    "See the matching R notebook\n",
    "Summary:\n",
    "* No difference in the FC between PCS (no need to control for it in models)\n",
    "* Trending difference in the FC between OVOB (may need to control for it in the model)"
   ]
  },
  {
   "cell_type": "markdown",
   "metadata": {},
   "source": [
    "### Differences in modularity by subject (probs won't use, don't know what it means)"
   ]
  },
  {
   "cell_type": "code",
   "execution_count": null,
   "metadata": {
    "scrolled": true
   },
   "outputs": [],
   "source": [
    "GRAPHS['graphs']['sub-NDARINVULZMADF1'][10]"
   ]
  },
  {
   "cell_type": "code",
   "execution_count": null,
   "metadata": {
    "scrolled": true
   },
   "outputs": [],
   "source": [
    "PID = []\n",
    "Parts = []\n",
    "for key, value in GRAPHS['graphs'].items():\n",
    "    for item in value:\n",
    "        if isinstance(item,dict):\n",
    "            print(key)\n",
    "            print(item)\n",
    "            PID.append(key)\n",
    "            Parts.append(value[1])"
   ]
  },
  {
   "cell_type": "code",
   "execution_count": null,
   "metadata": {},
   "outputs": [],
   "source": [
    "len(Parts)"
   ]
  },
  {
   "cell_type": "code",
   "execution_count": null,
   "metadata": {
    "scrolled": true
   },
   "outputs": [],
   "source": [
    "ROIs=[]\n",
    "Modules=[]\n",
    "for item in Parts:\n",
    "#     print(item.keys())\n",
    "    ROIs.append(list(item.keys()))\n",
    "    Modules.append(list(item.values()))"
   ]
  },
  {
   "cell_type": "code",
   "execution_count": null,
   "metadata": {},
   "outputs": [],
   "source": [
    "PIDar = np.array(PID)\n",
    "ROIar=np.array(ROIs)\n",
    "ModuleAr=np.array(Modules)\n",
    "print(ModuleAr.shape)\n",
    "print(PIDar.shape)"
   ]
  },
  {
   "cell_type": "code",
   "execution_count": null,
   "metadata": {
    "scrolled": true
   },
   "outputs": [],
   "source": [
    "PARTdf = pd.DataFrame(ModuleAr)\n",
    "PARTdf['subjects'] = PIDar\n",
    "# PARTdf"
   ]
  },
  {
   "cell_type": "code",
   "execution_count": null,
   "metadata": {},
   "outputs": [],
   "source": [
    "# PARTdf.to_csv(\"/Users/gracer/Google Drive/ABCD/tmp/PARTS.csv\", sep=',', index=False)"
   ]
  },
  {
   "cell_type": "code",
   "execution_count": null,
   "metadata": {},
   "outputs": [],
   "source": [
    "BIGdf = pd.merge(PARTdf, FCdf, on=\"subjects\")\n",
    "BIGdf.head()"
   ]
  },
  {
   "cell_type": "code",
   "execution_count": null,
   "metadata": {
    "scrolled": true
   },
   "outputs": [],
   "source": [
    "categories = BIGdf[['subjects', 'sex','PCS','OVOB']]\n",
    "categories.head()"
   ]
  },
  {
   "cell_type": "code",
   "execution_count": null,
   "metadata": {},
   "outputs": [],
   "source": [
    "x=BIGdf[1].value_counts().idxmax()"
   ]
  },
  {
   "cell_type": "code",
   "execution_count": null,
   "metadata": {},
   "outputs": [],
   "source": [
    "maxes={}\n",
    "for sub in PID:\n",
    "    subset=BIGdf.loc[(BIGdf['subjects'] == sub)]\n",
    "    for col in subset:\n",
    "        macks = subset[col].value_counts().idxmax()\n",
    "        maxes.setdefault(sub, []).append(macks)\n",
    "    #     print(PARTdf[col].value_counts().idxmax())"
   ]
  },
  {
   "cell_type": "code",
   "execution_count": null,
   "metadata": {},
   "outputs": [],
   "source": [
    "subjects=[]\n",
    "max_vals=[]\n",
    "for key, value in maxes.items():\n",
    "#     print(item.keys())\n",
    "    subjects.append(key)\n",
    "    max_vals.append(list(value))"
   ]
  },
  {
   "cell_type": "code",
   "execution_count": null,
   "metadata": {},
   "outputs": [],
   "source": [
    "Subar = np.array(subjects)\n",
    "Valar=np.array(max_vals)\n",
    "print(Subar.shape)\n",
    "print(Valar.shape)"
   ]
  },
  {
   "cell_type": "code",
   "execution_count": null,
   "metadata": {
    "scrolled": true
   },
   "outputs": [],
   "source": [
    "MAXdf = pd.DataFrame(Valar)\n",
    "MAXdf['subjects'] = Subar"
   ]
  },
  {
   "cell_type": "code",
   "execution_count": null,
   "metadata": {},
   "outputs": [],
   "source": [
    "# MAXdf.to_csv(\"/Users/gracer/Google Drive/ABCD/tmp/MAX.csv\", sep=',', index=False)"
   ]
  },
  {
   "cell_type": "code",
   "execution_count": null,
   "metadata": {},
   "outputs": [],
   "source": [
    "norm_max=[]\n",
    "subset=MAXdf.loc[(MAXdf[267] == 'Normalweight')]\n",
    "for col in subset:\n",
    "    mechs = subset[col].value_counts().idxmax()\n",
    "    norm_max.append(mechs)\n",
    "#     print(PARTdf[col].value_counts().idxmax())"
   ]
  },
  {
   "cell_type": "code",
   "execution_count": null,
   "metadata": {},
   "outputs": [],
   "source": [
    "ov_max=[]\n",
    "subset=MAXdf.loc[(MAXdf[267] == 'Overweight')]\n",
    "for col in subset:\n",
    "    mechs = subset[col].value_counts().idxmax()\n",
    "    ov_max.append(mechs)\n",
    "#     print(PARTdf[col].value_counts().idxmax())"
   ]
  },
  {
   "cell_type": "code",
   "execution_count": null,
   "metadata": {},
   "outputs": [],
   "source": [
    "ob_max=[]\n",
    "subset=MAXdf.loc[(MAXdf[267] == 'Obese')]\n",
    "for col in subset:\n",
    "    mechs = subset[col].value_counts().idxmax()\n",
    "    ob_max.append(mechs)"
   ]
  },
  {
   "cell_type": "code",
   "execution_count": null,
   "metadata": {},
   "outputs": [],
   "source": [
    "normAR = np.array(norm_max)\n",
    "ovAR = np.array(ov_max)\n",
    "obAR = np.array(ob_max)\n",
    "\n",
    "print(normAR.shape)\n",
    "print(ovAR.shape)\n",
    "print(obAR.shape)"
   ]
  },
  {
   "cell_type": "code",
   "execution_count": null,
   "metadata": {},
   "outputs": [],
   "source": [
    "len(ob_max)"
   ]
  },
  {
   "cell_type": "code",
   "execution_count": null,
   "metadata": {},
   "outputs": [],
   "source": [
    "g=community.induced_graph(partition,H)\n",
    "create_corr_network_1(G=g)"
   ]
  },
  {
   "cell_type": "markdown",
   "metadata": {},
   "source": [
    "### Normalized information score  \n",
    "sklearn.metrics.normalized_mutual_info_score(labels_true [group 1], labels_pred [group 2], average_method=’warn’)"
   ]
  },
  {
   "cell_type": "code",
   "execution_count": null,
   "metadata": {},
   "outputs": [],
   "source": [
    "diff_no_ov=normalized_mutual_info_score(norm_max, ov_max)"
   ]
  },
  {
   "cell_type": "code",
   "execution_count": null,
   "metadata": {},
   "outputs": [],
   "source": [
    "diff_no_ob=normalized_mutual_info_score(norm_max, ob_max)"
   ]
  },
  {
   "cell_type": "code",
   "execution_count": null,
   "metadata": {},
   "outputs": [],
   "source": [
    "diff_ov_ob=normalized_mutual_info_score(ov_max, ob_max)"
   ]
  },
  {
   "cell_type": "code",
   "execution_count": null,
   "metadata": {},
   "outputs": [],
   "source": [
    "diff_no_ob"
   ]
  },
  {
   "cell_type": "code",
   "execution_count": null,
   "metadata": {},
   "outputs": [],
   "source": [
    "diff_no_ov"
   ]
  },
  {
   "cell_type": "code",
   "execution_count": null,
   "metadata": {},
   "outputs": [],
   "source": [
    "diff_ov_ob"
   ]
  },
  {
   "cell_type": "markdown",
   "metadata": {},
   "source": [
    "##  Create a Mega graph by OVOB and PCS"
   ]
  },
  {
   "cell_type": "code",
   "execution_count": null,
   "metadata": {},
   "outputs": [],
   "source": [
    "def make_total_graphs(dict_o_data):\n",
    "    mylist=[]\n",
    "    for key, val_list in dict_o_data.items():\n",
    "#         print(key)\n",
    "        for i in val_list:\n",
    "            cor_matrix = np.asarray(i)\n",
    "            mylist.append(cor_matrix)\n",
    "    x=np.stack(mylist, axis=2)\n",
    "    mu=np.mean(x, axis=(2))\n",
    "    return(mu)"
   ]
  },
  {
   "cell_type": "code",
   "execution_count": null,
   "metadata": {},
   "outputs": [],
   "source": [
    "GRAPHS.keys()"
   ]
  },
  {
   "cell_type": "code",
   "execution_count": null,
   "metadata": {
    "scrolled": true
   },
   "outputs": [],
   "source": [
    "list(GRAPHS['correlations'].values())[1]"
   ]
  },
  {
   "cell_type": "markdown",
   "metadata": {},
   "source": [
    "## Creating subsets of the correlations matrices per PCS and BMI group"
   ]
  },
  {
   "cell_type": "code",
   "execution_count": null,
   "metadata": {
    "scrolled": false
   },
   "outputs": [],
   "source": [
    "no_subset=categories.loc[(categories['OVOB'] == 'Normalweight')]\n",
    "no_dict = {k: GRAPHS['correlations'][k] for k in no_subset['subjects'] if k in GRAPHS['correlations']}\n",
    "\n",
    "ov_subset=categories.loc[(categories['OVOB'] == 'Overweight')]\n",
    "ov_dict = {k: GRAPHS['correlations'][k] for k in ov_subset['subjects'] if k in GRAPHS['correlations']}\n",
    "\n",
    "ob_subset=categories.loc[(categories['OVOB'] == 'Obese')]\n",
    "ob_dict = {k: GRAPHS['correlations'][k] for k in ob_subset['subjects'] if k in GRAPHS['correlations']}\n"
   ]
  },
  {
   "cell_type": "code",
   "execution_count": null,
   "metadata": {},
   "outputs": [],
   "source": [
    "for x in np.unique(categories['PCS']):\n",
    "    subset=categories.loc[(categories['PCS'] == x)]\n",
    "    early_dict = {k: GRAPHS['correlations'][k] for k in early_subset['subjects'] if k in GRAPHS['correlations']}"
   ]
  },
  {
   "cell_type": "code",
   "execution_count": null,
   "metadata": {
    "scrolled": false
   },
   "outputs": [],
   "source": [
    "early_subset=categories.loc[(categories['PCS'] == 'earlypubertal')]\n",
    "early_dict = {k: GRAPHS['correlations'][k] for k in early_subset['subjects'] if k in GRAPHS['correlations']}\n",
    "\n",
    "late_subset=categories.loc[(categories['PCS'] == 'latepubertal')]\n",
    "late_dict = {k: GRAPHS['correlations'][k] for k in late_subset['subjects'] if k in GRAPHS['correlations']}\n",
    "\n",
    "mid_subset=categories.loc[(categories['PCS'] == 'midpubertal')]\n",
    "mid_dict = {k: GRAPHS['correlations'][k] for k in mid_subset['subjects'] if k in GRAPHS['correlations']}\n"
   ]
  },
  {
   "cell_type": "code",
   "execution_count": null,
   "metadata": {
    "scrolled": true
   },
   "outputs": [],
   "source": [
    "mean_no=make_total_graphs(no_dict)\n",
    "mean_ov=make_total_graphs(ov_dict)\n",
    "mean_ob=make_total_graphs(ob_dict)"
   ]
  },
  {
   "cell_type": "code",
   "execution_count": null,
   "metadata": {},
   "outputs": [],
   "source": [
    "mean_early=make_total_graphs(early_dict)\n",
    "mean_late=make_total_graphs(late_dict)\n",
    "mean_mid=make_total_graphs(mid_dict)"
   ]
  },
  {
   "cell_type": "markdown",
   "metadata": {},
   "source": [
    "## Creates graph using the data of the correlation matrix"
   ]
  },
  {
   "cell_type": "code",
   "execution_count": null,
   "metadata": {},
   "outputs": [],
   "source": [
    "noG = nx.from_numpy_matrix(mean_no)\n",
    "ovG = nx.from_numpy_matrix(mean_ov)\n",
    "obG = nx.from_numpy_matrix(mean_ob)\n",
    "OVOBgraphs = [noG, ovG, obG]"
   ]
  },
  {
   "cell_type": "code",
   "execution_count": null,
   "metadata": {},
   "outputs": [],
   "source": [
    "earlyG = nx.from_numpy_matrix(mean_early)\n",
    "midG = nx.from_numpy_matrix(mean_mid)\n",
    "lateG = nx.from_numpy_matrix(mean_late)\n",
    "PCSgraphs = [earlyG, midG, lateG]"
   ]
  },
  {
   "cell_type": "code",
   "execution_count": null,
   "metadata": {},
   "outputs": [],
   "source": [
    "for graph in OVOBgraphs:\n",
    "    for i, nlrow in labels.iterrows():\n",
    "        graph.node[i].update(nlrow[0:].to_dict())"
   ]
  },
  {
   "cell_type": "code",
   "execution_count": null,
   "metadata": {},
   "outputs": [],
   "source": [
    "for graph in PCSgraphs:\n",
    "    for i, nlrow in labels.iterrows():\n",
    "        graph.node[i].update(nlrow[0:].to_dict())"
   ]
  },
  {
   "cell_type": "code",
   "execution_count": null,
   "metadata": {},
   "outputs": [],
   "source": [
    "edges,weights = zip(*nx.get_edge_attributes(ovG,'weight').items())"
   ]
  },
  {
   "cell_type": "code",
   "execution_count": null,
   "metadata": {},
   "outputs": [],
   "source": [
    "early_edges, early_weights = zip(*nx.get_edge_attributes(earlyG,'weight').items())\n",
    "mid_edges,mid_weights = zip(*nx.get_edge_attributes(midG,'weight').items())\n",
    "late_edges,late_weights = zip(*nx.get_edge_attributes(lateG,'weight').items())"
   ]
  },
  {
   "cell_type": "code",
   "execution_count": null,
   "metadata": {},
   "outputs": [],
   "source": [
    "for graph in OVOBgraphs:\n",
    "    d = nx.degree(graph)\n",
    "    list(d)[0]\n",
    "    nodelist, node_sizes = zip(*list(d))"
   ]
  },
  {
   "cell_type": "code",
   "execution_count": null,
   "metadata": {},
   "outputs": [],
   "source": [
    "for graph in PCSgraphs:\n",
    "    d = nx.degree(graph)\n",
    "    list(d)[0]\n",
    "    nodelist, node_sizes = zip(*list(d))"
   ]
  },
  {
   "cell_type": "markdown",
   "metadata": {},
   "source": [
    "## Function to create network"
   ]
  },
  {
   "cell_type": "code",
   "execution_count": null,
   "metadata": {},
   "outputs": [],
   "source": [
    "def create_corr_network(G, corr_direction, min_correlation):\n",
    "    ##Creates a copy of the graph\n",
    "    H = G.copy()\n",
    "    \n",
    "    ##Checks all the edges and removes some based on corr_direction\n",
    "    for stock1, stock2, weight in list(G.edges(data=True)):\n",
    "        ##if we only want to see the positive correlations we then delete the edges with weight smaller than 0        \n",
    "        if corr_direction == \"positive\":\n",
    "            ####it adds a minimum value for correlation. \n",
    "            ####If correlation weaker than the min, then it deletes the edge\n",
    "            if weight[\"weight\"] <0 or weight[\"weight\"] < min_correlation:\n",
    "                H.remove_edge(stock1, stock2)\n",
    "        ##this part runs if the corr_direction is negative and removes edges with weights equal or largen than 0\n",
    "        else:\n",
    "            ####it adds a minimum value for correlation. \n",
    "            ####If correlation weaker than the min, then it deletes the edge\n",
    "            if weight[\"weight\"] >=0 or weight[\"weight\"] > min_correlation:\n",
    "                H.remove_edge(stock1, stock2)\n",
    "                \n",
    "    \n",
    "    #crates a list for edges and for the weights\n",
    "    edges,weights = zip(*nx.get_edge_attributes(H,'weight').items())\n",
    "    \n",
    "    ### increases the value of weights, so that they are more visible in the graph\n",
    "    weights = tuple([(1+abs(x))**1 for x in weights])\n",
    "    \n",
    "    #####calculates the degree of each node\n",
    "    d = nx.degree(H)\n",
    "    #####creates list of nodes and a list their degrees that will be used later for their sizes\n",
    "    nodelist, node_sizes = zip(*list(d))\n",
    "    return(H)"
   ]
  },
  {
   "cell_type": "code",
   "execution_count": null,
   "metadata": {},
   "outputs": [],
   "source": [
    "def create_corr_network_1(G):\n",
    "    #crates a list for edges and for the weights\n",
    "    edges,weights = zip(*nx.get_edge_attributes(G,'weight').items())\n",
    "\n",
    "    #positions\n",
    "    positions=nx.circular_layout(G)\n",
    "    \n",
    "    #Figure size\n",
    "    plt.figure(figsize=(15,15))\n",
    "\n",
    "    #draws nodes\n",
    "    nx.draw_networkx_nodes(G,positions,node_color='#DA70D6',\n",
    "                           node_size=500,alpha=0.8)\n",
    "    \n",
    "    #Styling for labels\n",
    "    nx.draw_networkx_labels(G, positions, font_size=8, \n",
    "                            font_family='sans-serif')\n",
    "        \n",
    "    #draws the edges\n",
    "    nx.draw_networkx_edges(G, positions, edge_list=edges,style='solid')\n",
    "    \n",
    "    # displays the graph without axis\n",
    "    plt.axis('off')\n",
    "    #saves image\n",
    "    plt.savefig(\"part1.png\", format=\"PNG\")\n",
    "    plt.show() \n",
    "\n",
    "#create_corr_network_1(G)"
   ]
  },
  {
   "cell_type": "code",
   "execution_count": null,
   "metadata": {},
   "outputs": [],
   "source": [
    "noH=create_corr_network(noG, \"positive\",0)\n",
    "ovH=create_corr_network(ovG, \"positive\", 0)\n",
    "obH=create_corr_network(obG, \"positive\", 0)\n",
    "saveme={}\n",
    "saveme['noH']=noH\n",
    "saveme['ovH']=ovH\n",
    "saveme['obH']=obH"
   ]
  },
  {
   "cell_type": "code",
   "execution_count": null,
   "metadata": {},
   "outputs": [],
   "source": [
    "earlyH=create_corr_network(earlyG, \"positive\",0)\n",
    "midH=create_corr_network(midG, \"positive\", 0)\n",
    "lateH=create_corr_network(lateG, \"positive\", 0)\n",
    "saveme={}\n",
    "saveme['earlyH']=earlyH\n",
    "saveme['midH']=midH\n",
    "saveme['lateH']=lateH"
   ]
  },
  {
   "cell_type": "markdown",
   "metadata": {},
   "source": [
    "## Getting partition values with the group graphs"
   ]
  },
  {
   "cell_type": "code",
   "execution_count": null,
   "metadata": {},
   "outputs": [],
   "source": [
    "noPART = community.best_partition(noH)\n",
    "ovPART = community.best_partition(ovH)\n",
    "obPART = community.best_partition(obH)\n",
    "\n",
    "# noPART.values()"
   ]
  },
  {
   "cell_type": "code",
   "execution_count": null,
   "metadata": {},
   "outputs": [],
   "source": [
    "earlyPART = community.best_partition(earlyH)\n",
    "midPART = community.best_partition(midH)\n",
    "latePART = community.best_partition(lateH)\n",
    "\n",
    "# noPART.values()"
   ]
  },
  {
   "cell_type": "markdown",
   "metadata": {},
   "source": [
    "## Checking the normalized mutual disribution information"
   ]
  },
  {
   "cell_type": "code",
   "execution_count": null,
   "metadata": {},
   "outputs": [],
   "source": [
    "diff_no_ov=normalized_mutual_info_score(list(noPART.values()), list(ovPART.values()))\n",
    "print(diff_no_ov)"
   ]
  },
  {
   "cell_type": "code",
   "execution_count": null,
   "metadata": {},
   "outputs": [],
   "source": [
    "diff_no_ob=normalized_mutual_info_score(list(noPART.values()), list(obPART.values()))\n",
    "print(diff_no_ob)"
   ]
  },
  {
   "cell_type": "code",
   "execution_count": null,
   "metadata": {},
   "outputs": [],
   "source": [
    "diff_early_mid=normalized_mutual_info_score(list(earlyPART.values()), list(midPART.values()))\n",
    "print(diff_early_mid)"
   ]
  },
  {
   "cell_type": "code",
   "execution_count": null,
   "metadata": {},
   "outputs": [],
   "source": [
    "diff_early_late=normalized_mutual_info_score(list(earlyPART.values()), list(latePART.values()))\n",
    "print(diff_early_late)"
   ]
  },
  {
   "cell_type": "markdown",
   "metadata": {},
   "source": [
    "### Summary so far\n",
    "Larger difference between the normal weight and obese compared to the normal weight and the overweight"
   ]
  },
  {
   "cell_type": "markdown",
   "metadata": {},
   "source": [
    "## Vizualization"
   ]
  },
  {
   "cell_type": "code",
   "execution_count": null,
   "metadata": {},
   "outputs": [],
   "source": [
    "color_dic = {0:'blue',1:'red',2:'green',3:'purple',4:'yellow',5:'pink',6:'black',7:'orange', 8:'cyan'}"
   ]
  },
  {
   "cell_type": "markdown",
   "metadata": {},
   "source": [
    "#### BMI groups"
   ]
  },
  {
   "cell_type": "code",
   "execution_count": null,
   "metadata": {
    "scrolled": true
   },
   "outputs": [],
   "source": [
    "PARTS=[noPART, ovPART ,obPART]\n",
    "for item in PARTS:\n",
    "    for key, value in item.items():\n",
    "        item[key]=(color_dic[value])\n",
    "#     print(item)"
   ]
  },
  {
   "cell_type": "code",
   "execution_count": null,
   "metadata": {},
   "outputs": [],
   "source": [
    "for key, value in noPART.items():\n",
    "    noH.node(data=True)[key].update({'color':value})"
   ]
  },
  {
   "cell_type": "code",
   "execution_count": null,
   "metadata": {},
   "outputs": [],
   "source": [
    "size = float(len(set(noPART.values())))\n",
    "print(size)\n",
    "pos = nx.spring_layout(noH)\n",
    "count = 0.\n",
    "for com in set(noPART.values()) :\n",
    "    count = count + 1.\n",
    "    list_nodes = [nodes for nodes in noPART.keys()\n",
    "                                if noPART[nodes] == com]\n",
    "    nx.draw_networkx_nodes(noH, pos, list_nodes, node_size = 20,\n",
    "                                node_color = str(count / size))\n",
    "\n",
    "\n",
    "nx.draw_networkx_edges(noH, pos, alpha=0.1)\n",
    "plt.show()"
   ]
  },
  {
   "cell_type": "code",
   "execution_count": null,
   "metadata": {},
   "outputs": [],
   "source": [
    "for key, value in ovPART.items():\n",
    "    ovH.node(data=True)[key].update({'color':value})"
   ]
  },
  {
   "cell_type": "code",
   "execution_count": null,
   "metadata": {},
   "outputs": [],
   "source": [
    "for key, value in obPART.items():\n",
    "    obH.node(data=True)[key].update({'color':value})"
   ]
  },
  {
   "cell_type": "code",
   "execution_count": null,
   "metadata": {},
   "outputs": [],
   "source": [
    "no_edge_weights = [e[2]['weight'] for e in noH.edges(data=True)]\n",
    "ov_edge_weights = [e[2]['weight'] for e in ovH.edges(data=True)]\n",
    "ob_edge_weights = [e[2]['weight'] for e in obH.edges(data=True)]\n"
   ]
  },
  {
   "cell_type": "code",
   "execution_count": null,
   "metadata": {},
   "outputs": [],
   "source": [
    "# Define node positions data structure (dict) for plotting\n",
    "no_node_colors = {node[0]: (node[1]['color']) for node in noH.nodes(data=True)}\n",
    "ov_node_colors = {node[0]: (node[1]['color']) for node in ovH.nodes(data=True)}\n",
    "ob_node_colors = {node[0]: (node[1]['color']) for node in obH.nodes(data=True)}\n",
    "\n",
    "# Preview of node_positions with a bit of hack (there is no head/slice method for dictionaries).\n",
    "#dict(list(node_colors.items())[0:5])\n",
    "#print(G.node(data=True))\n",
    "no_list_colors=list(no_node_colors.values())\n",
    "ov_list_colors=list(ov_node_colors.values())\n",
    "ob_list_colors=list(ob_node_colors.values())"
   ]
  },
  {
   "cell_type": "code",
   "execution_count": null,
   "metadata": {},
   "outputs": [],
   "source": [
    "no_node_positions = {node[0]: (node[1]['X'], -node[1]['Y']) for node in noH.nodes(data=True)}\n",
    "ov_node_positions = {node[0]: (node[1]['X'], -node[1]['Y']) for node in ovH.nodes(data=True)}\n",
    "ob_node_positions = {node[0]: (node[1]['X'], -node[1]['Y']) for node in obH.nodes(data=True)}"
   ]
  },
  {
   "cell_type": "code",
   "execution_count": null,
   "metadata": {},
   "outputs": [],
   "source": [
    "# Define node positions data structure (dict) for plotting\n",
    "# node_positions = {node[0]: (node[1]['X'], -node[1]['Y']) for node in H.nodes(data=True)}\n",
    "# node_colors = {node[0]: (node[1]['color']) for node in H.nodes(data=True)}\n",
    "\n",
    "# Preview of node_positions with a bit of hack (there is no head/slice method for dictionaries).\n",
    "#dict(list(node_colors.items())[0:5])\n",
    "#print(G.node(data=True))\n",
    "# list_colors=list(node_colors.values())"
   ]
  },
  {
   "cell_type": "markdown",
   "metadata": {},
   "source": [
    "#### PCS groups"
   ]
  },
  {
   "cell_type": "code",
   "execution_count": null,
   "metadata": {
    "scrolled": true
   },
   "outputs": [],
   "source": [
    "PARTS=[earlyPART, midPART ,latePART]\n",
    "for item in PARTS:\n",
    "    for key, value in item.items():\n",
    "        item[key]=(color_dic[value])\n",
    "#     print(item)"
   ]
  },
  {
   "cell_type": "code",
   "execution_count": null,
   "metadata": {},
   "outputs": [],
   "source": [
    "for key, value in earlyPART.items():\n",
    "    earlyH.node(data=True)[key].update({'color':value})"
   ]
  },
  {
   "cell_type": "code",
   "execution_count": null,
   "metadata": {},
   "outputs": [],
   "source": [
    "earlyH.nodes(data=True)"
   ]
  },
  {
   "cell_type": "code",
   "execution_count": null,
   "metadata": {},
   "outputs": [],
   "source": [
    "size = float(len(set(earlyPART.values())))\n",
    "print(size)\n",
    "pos = nx.spring_layout(earlyH)\n",
    "count = 0.\n",
    "for com in set(earlyPART.values()) :\n",
    "    count = count + 1.\n",
    "    list_nodes = [nodes for nodes in earlyPART.keys()\n",
    "                                if earlyPART[nodes] == com]\n",
    "    nx.draw_networkx_nodes(earlyH, pos, list_nodes, node_size = 20,\n",
    "                                node_color = str(count / size))\n",
    "\n",
    "\n",
    "nx.draw_networkx_edges(earlyH, pos, alpha=0.1)\n",
    "plt.show()"
   ]
  },
  {
   "cell_type": "code",
   "execution_count": null,
   "metadata": {},
   "outputs": [],
   "source": [
    "for key, value in midPART.items():\n",
    "    midH.node(data=True)[key].update({'color':value})"
   ]
  },
  {
   "cell_type": "code",
   "execution_count": null,
   "metadata": {},
   "outputs": [],
   "source": [
    "# midH.nodes(data=True)"
   ]
  },
  {
   "cell_type": "code",
   "execution_count": null,
   "metadata": {},
   "outputs": [],
   "source": [
    "for key, value in latePART.items():\n",
    "    lateH.node(data=True)[key].update({'color':value})"
   ]
  },
  {
   "cell_type": "code",
   "execution_count": null,
   "metadata": {},
   "outputs": [],
   "source": [
    "early_edge_weights = [e[2]['weight'] for e in earlyH.edges(data=True)]\n",
    "mid_edge_weights = [e[2]['weight'] for e in midH.edges(data=True)]\n",
    "late_edge_weights = [e[2]['weight'] for e in lateH.edges(data=True)]"
   ]
  },
  {
   "cell_type": "code",
   "execution_count": null,
   "metadata": {},
   "outputs": [],
   "source": [
    "# Define node positions data structure (dict) for plotting\n",
    "early_node_colors = {node[0]: (node[1]['color']) for node in earlyH.nodes(data=True)}\n",
    "mid_node_colors = {node[0]: (node[1]['color']) for node in midH.nodes(data=True)}\n",
    "late_node_colors = {node[0]: (node[1]['color']) for node in lateH.nodes(data=True)}\n",
    "\n",
    "# Preview of node_positions with a bit of hack (there is no head/slice method for dictionaries).\n",
    "#dict(list(node_colors.items())[0:5])\n",
    "#print(G.node(data=True))\n",
    "early_list_colors=list(early_node_colors.values())\n",
    "mid_list_colors=list(mid_node_colors.values())\n",
    "late_list_colors=list(late_node_colors.values())"
   ]
  },
  {
   "cell_type": "code",
   "execution_count": null,
   "metadata": {},
   "outputs": [],
   "source": [
    "early_node_positions = {node[0]: (node[1]['X'], -node[1]['Y']) for node in earlyH.nodes(data=True)}\n",
    "mid_node_positions = {node[0]: (node[1]['X'], -node[1]['Y']) for node in midH.nodes(data=True)}\n",
    "late_node_positions = {node[0]: (node[1]['X'], -node[1]['Y']) for node in lateH.nodes(data=True)}"
   ]
  },
  {
   "cell_type": "code",
   "execution_count": null,
   "metadata": {},
   "outputs": [],
   "source": [
    "# Define node positions data structure (dict) for plotting\n",
    "node_positions = {node[0]: (node[1]['X'], -node[1]['Y']) for node in H.nodes(data=True)}\n",
    "node_colors = {node[0]: (node[1]['color']) for node in H.nodes(data=True)}\n",
    "\n",
    "# Preview of node_positions with a bit of hack (there is no head/slice method for dictionaries).\n",
    "#dict(list(node_colors.items())[0:5])\n",
    "#print(G.node(data=True))\n",
    "list_colors=list(node_colors.values())"
   ]
  },
  {
   "cell_type": "markdown",
   "metadata": {},
   "source": [
    "### Visualize differences"
   ]
  },
  {
   "cell_type": "code",
   "execution_count": null,
   "metadata": {
    "scrolled": false
   },
   "outputs": [],
   "source": [
    "plt.figure(figsize=(8, 6))\n",
    "nx.draw(noH, pos=no_node_positions,  node_size=20,  edge_color = \"lightgrey\", node_color = no_list_colors)\n",
    "plt.title('normal', size=15)\n",
    "plt.show()"
   ]
  },
  {
   "cell_type": "code",
   "execution_count": null,
   "metadata": {
    "scrolled": false
   },
   "outputs": [],
   "source": [
    "plt.figure(figsize=(8, 6))\n",
    "nx.draw(earlyH, pos=early_node_positions,  node_size=20,  edge_color = \"lightgrey\", node_color = early_list_colors)\n",
    "plt.title('early', size=15)\n",
    "plt.show()"
   ]
  },
  {
   "cell_type": "code",
   "execution_count": null,
   "metadata": {},
   "outputs": [],
   "source": [
    "early_list_colors"
   ]
  },
  {
   "cell_type": "code",
   "execution_count": null,
   "metadata": {
    "scrolled": false
   },
   "outputs": [],
   "source": [
    "plt.figure(figsize=(8, 6))\n",
    "nx.draw(obH, pos=ob_node_positions,  node_size=20,  edge_color = \"lightgrey\", node_color = ob_list_colors)\n",
    "plt.title('obese', size=15)\n",
    "plt.show()"
   ]
  },
  {
   "cell_type": "code",
   "execution_count": null,
   "metadata": {
    "scrolled": false
   },
   "outputs": [],
   "source": [
    "plt.figure(figsize=(8, 6))\n",
    "nx.draw(midH, pos=mid_node_positions,  node_size=20,  edge_color = \"lightgrey\", node_color = mid_list_colors)\n",
    "plt.title('Mid', size=15)\n",
    "plt.show()"
   ]
  },
  {
   "cell_type": "code",
   "execution_count": null,
   "metadata": {
    "scrolled": false
   },
   "outputs": [],
   "source": [
    "plt.figure(figsize=(8, 6))\n",
    "nx.draw(lateH, pos=late_node_positions,  node_size=20,  edge_color = \"lightgrey\", node_color = late_list_colors)\n",
    "plt.title('Late', size=15)\n",
    "plt.show()"
   ]
  },
  {
   "cell_type": "code",
   "execution_count": null,
   "metadata": {},
   "outputs": [],
   "source": [
    "nog=community.induced_graph(noPART,noH)\n",
    "create_corr_network_1(G=nog)"
   ]
  },
  {
   "cell_type": "code",
   "execution_count": null,
   "metadata": {},
   "outputs": [],
   "source": [
    "ovg=community.induced_graph(ovPART,ovH)\n",
    "create_corr_network_1(G=ovg)"
   ]
  },
  {
   "cell_type": "code",
   "execution_count": null,
   "metadata": {},
   "outputs": [],
   "source": [
    "obg=community.induced_graph(obPART,obH)\n",
    "create_corr_network_1(G=obg)"
   ]
  },
  {
   "cell_type": "code",
   "execution_count": null,
   "metadata": {},
   "outputs": [],
   "source": [
    "earlyg=community.induced_graph(earlyPART,earlyH)\n",
    "create_corr_network_1(G=earlyg)"
   ]
  },
  {
   "cell_type": "code",
   "execution_count": null,
   "metadata": {},
   "outputs": [],
   "source": [
    "midg=community.induced_graph(midPART,midH)\n",
    "create_corr_network_1(G=midg)"
   ]
  },
  {
   "cell_type": "code",
   "execution_count": null,
   "metadata": {},
   "outputs": [],
   "source": [
    "lateg=community.induced_graph(latePART,lateH)\n",
    "create_corr_network_1(G=lateg)"
   ]
  },
  {
   "cell_type": "markdown",
   "metadata": {},
   "source": [
    "### Summmary of results so far... \n",
    "Looks like the obese have one less module compared to the overweight and the normal weight \n",
    "Need to assess what each node is comprised of  \n"
   ]
  },
  {
   "cell_type": "code",
   "execution_count": null,
   "metadata": {},
   "outputs": [],
   "source": [
    "# Coloring method\n",
    "color_by = 'strength'\n",
    "# Because we don't want to plot every connections, we only keep connections\n",
    "# above .7\n",
    "select = edges > .7\n",
    "# Define the connectivity object\n",
    "c_default = ConnectObj('default', nodes, edges, select=select, line_width=2.,\n",
    "                       cmap='Spectral_r', color_by=color_by)\n",
    "# Then, we define the sources\n",
    "s_obj = SourceObj('sources', nodes, color='#ab4642', radius_min=15.)\n",
    "sc.add_to_subplot(c_default, title='Color by connectivity strength')\n",
    "# And add connect, source and brain objects to the scene\n",
    "sc.add_to_subplot(s_obj)\n",
    "sc.add_to_subplot(BrainObj('B3'), use_this_cam=True)"
   ]
  },
  {
   "cell_type": "code",
   "execution_count": null,
   "metadata": {},
   "outputs": [],
   "source": [
    "# Coloring method\n",
    "color_by = 'count'\n",
    "# Weak connections -> alpha = .1 // strong connections -> alpha = 1.\n",
    "dynamic = (.1, 1.)\n",
    "# Define the connectivity and source object\n",
    "c_count = ConnectObj('default', nodes, edges, select=select, line_width=4.,\n",
    "                     color_by=color_by, antialias=True, dynamic=dynamic)\n",
    "s_obj_c = SourceObj('sources', nodes, color='olive', radius_min=10.,\n",
    "                    symbol='square')\n",
    "# And add connect, source and brain objects to the scene\n",
    "sc.add_to_subplot(c_count, row=0, col=1,\n",
    "                  title='Color by number of connections per node')\n",
    "sc.add_to_subplot(s_obj_c, use_this_cam=True, row=0, col=1)\n",
    "sc.add_to_subplot(BrainObj('B3'), use_this_cam=True, row=0, col=1)"
   ]
  },
  {
   "cell_type": "code",
   "execution_count": null,
   "metadata": {},
   "outputs": [],
   "source": [
    "# First, we take a copy of the connectivity array\n",
    "edges_copy = edges.copy()\n",
    "# Then, we force edges to take fixed values\n",
    "# ====================   =========  ===========\n",
    "# Condition              New value  Color\n",
    "# ====================   =========  ===========\n",
    "# edges >= 0.8              4.      red\n",
    "# edges in [.78, .8[        3.      orange\n",
    "# edges in [.74, .78[       2.      blue\n",
    "# Others                    -       lightgray\n",
    "# ====================   =========  ===========\n",
    "edges_copy[edges_copy >= .8] = 4.\n",
    "edges_copy[np.logical_and(edges_copy >= .78, edges_copy < .8)] = 3.\n",
    "edges_copy[np.logical_and(edges_copy >= .74, edges_copy < .78)] = 2.\n",
    "# Now we use a dctionary to set one color per value.\n",
    "ccol = {\n",
    "    None: 'lightgray',\n",
    "    2.: 'blue',\n",
    "    3.: 'orange',\n",
    "    4.: 'red'\n",
    "}\n",
    "\n",
    "# Define the connectivity and source objects\n",
    "c_cuscol = ConnectObj('default', nodes, edges_copy, select=edges > .7,\n",
    "                      custom_colors=ccol)\n",
    "s_obj_cu = SourceObj('sources', nodes, color='slategray', radius_min=10.,\n",
    "                     symbol='ring')\n",
    "# Add objects to the scene\n",
    "sc.add_to_subplot(c_cuscol, row=0, col=2, title='Custom colors')\n",
    "sc.add_to_subplot(s_obj_cu, row=0, col=2)\n",
    "sc.add_to_subplot(BrainObj('white'), use_this_cam=True, row=0, col=2)\n",
    "\n",
    "# Finally, display the scene\n",
    "sc.preview()\n",
    "sc.screenshot('/Users/gracer/Google Drive/ABCD/tmp/figlayout.png', dpi=600)"
   ]
  },
  {
   "cell_type": "markdown",
   "metadata": {},
   "source": [
    "## Saving the data"
   ]
  },
  {
   "cell_type": "code",
   "execution_count": null,
   "metadata": {},
   "outputs": [],
   "source": [
    "no_ROIs = list(noPART.keys())\n",
    "no_MODS = list(noPART.values())\n",
    "\n",
    "ov_ROIs = list(ovPART.keys())\n",
    "ov_MODS = list(ovPART.values())\n",
    "\n",
    "ob_ROIs = list(obPART.keys())\n",
    "ob_MODS = list(obPART.values())\n"
   ]
  },
  {
   "cell_type": "code",
   "execution_count": null,
   "metadata": {
    "scrolled": true
   },
   "outputs": [],
   "source": [
    "nodf = pd.DataFrame(no_MODS)\n",
    "nodf['ROI'] = no_ROIs\n",
    "# nodf.to_csv(\"/Users/gracer/Google Drive/ABCD/tmp/normal_Module.csv\", sep=',', index=False)"
   ]
  },
  {
   "cell_type": "code",
   "execution_count": null,
   "metadata": {
    "scrolled": true
   },
   "outputs": [],
   "source": [
    "ovdf = pd.DataFrame(ov_MODS)\n",
    "ovdf['ROI'] = ov_ROIs\n",
    "# ovdf.to_csv(\"/Users/gracer/Google Drive/ABCD/tmp/overweight_Module.csv\", sep=',', index=False)"
   ]
  },
  {
   "cell_type": "code",
   "execution_count": null,
   "metadata": {
    "scrolled": true
   },
   "outputs": [],
   "source": [
    "obdf = pd.DataFrame(ob_MODS)\n",
    "obdf['ROI'] = ob_ROIs\n",
    "# obdf.to_csv(\"/Users/gracer/Google Drive/ABCD/tmp/obese_Module.csv\", sep=',', index=False)"
   ]
  },
  {
   "cell_type": "code",
   "execution_count": null,
   "metadata": {},
   "outputs": [],
   "source": [
    "early_ROIs = list(earlyPART.keys())\n",
    "early_MODS = list(earlyPART.values())\n",
    "\n",
    "mid_ROIs = list(midPART.keys())\n",
    "mid_MODS = list(midPART.values())\n",
    "\n",
    "late_ROIs = list(latePART.keys())\n",
    "late_MODS = list(latePART.values())\n"
   ]
  },
  {
   "cell_type": "code",
   "execution_count": null,
   "metadata": {
    "scrolled": true
   },
   "outputs": [],
   "source": [
    "earlydf = pd.DataFrame(early_MODS)\n",
    "earlydf['ROI'] = early_ROIs\n",
    "earlydf.to_csv(\"/Users/gracer/Google Drive/ABCD/tmp/early_Module.csv\", sep=',', index=False)"
   ]
  },
  {
   "cell_type": "code",
   "execution_count": null,
   "metadata": {
    "scrolled": true
   },
   "outputs": [],
   "source": [
    "middf = pd.DataFrame(mid_MODS)\n",
    "middf['ROI'] = mid_ROIs\n",
    "middf.to_csv(\"/Users/gracer/Google Drive/ABCD/tmp/mid_Module.csv\", sep=',', index=False)"
   ]
  },
  {
   "cell_type": "code",
   "execution_count": null,
   "metadata": {
    "scrolled": true
   },
   "outputs": [],
   "source": [
    "latedf = pd.DataFrame(late_MODS)\n",
    "latedf['ROI'] = late_ROIs\n",
    "latedf.to_csv(\"/Users/gracer/Google Drive/ABCD/tmp/late_Module.csv\", sep=',', index=False)"
   ]
  },
  {
   "cell_type": "markdown",
   "metadata": {},
   "source": [
    "## Parcelation \n",
    "Through BIAC https://wiki.biac.duke.edu/biac:analysis:resting_pipeline"
   ]
  },
  {
   "cell_type": "markdown",
   "metadata": {},
   "source": [
    "## Individual and Group Matrices\n",
    "Network-level analysis will be performed with inividual correltion matrices"
   ]
  },
  {
   "cell_type": "markdown",
   "metadata": {},
   "source": [
    "## Thresholding\n",
    "In accordance with van den Heuvel et al. 2017, we will examine and test statistical differences in functional connectivity (FC) defined as the mean of the correlation matrix. FC will be included in statistical tests between groups."
   ]
  },
  {
   "cell_type": "markdown",
   "metadata": {},
   "source": [
    "## Partitioning\n",
    "Will partition full 264 connectome into modules using louvain algorithm. "
   ]
  },
  {
   "cell_type": "markdown",
   "metadata": {},
   "source": [
    "## Check the partition\n",
    "Will use normalized mutual information to assess similarity between network assignments. NMI measures information shared between two probability distribution functions, specifically measuring how much knowing one distribution leads to certainty ofthe other. Permuted the labels of individual matrices between contrasts 1,000 times to generate a null distribution of NMI values for each contrast. Matrices between groups were randomly shuffled and partitioned into functional networks, and NMI was calculated.   \n",
    "https://scikit-learn.org/stable/modules/generated/sklearn.metrics.normalized_mutual_info_score.html#sklearn.metrics.normalized_mutual_info_score"
   ]
  },
  {
   "cell_type": "markdown",
   "metadata": {},
   "source": [
    "## Connectivity Strength\n",
    "Caluclate Euclidean distance for each ROI-ROI pair. Linear regression with distance as a predictor of connectivity strength between groups."
   ]
  },
  {
   "cell_type": "markdown",
   "metadata": {},
   "source": [
    "### Within network changes\n",
    "All within network pairwise relationships were averaged per group. Two-tailed T-test to assess differences. Bonferroni corrections as needed."
   ]
  },
  {
   "cell_type": "markdown",
   "metadata": {},
   "source": [
    "### Between network changes\n",
    "Average connectivity is calculated per network. Compare the between network interactions. "
   ]
  },
  {
   "cell_type": "markdown",
   "metadata": {},
   "source": [
    "## Participation Coefficient\n",
    "Partition networks into the modules, calculate the PC per node within each group. Higher PC indicates more distributed between network connectivity, while a PC of 0 signifies a node’s links are completely within its home network (within network)."
   ]
  },
  {
   "cell_type": "markdown",
   "metadata": {},
   "source": [
    "## Pickling data to save it"
   ]
  },
  {
   "cell_type": "code",
   "execution_count": null,
   "metadata": {},
   "outputs": [],
   "source": [
    "# sfile = bz2.BZ2File('/Users/gracer/Google Drive/ABCD/tmp/smallerfile', 'w')\n",
    "# pickle.dump(GRAPHS, sfile)\n",
    "# GRAPHS['BIGdf'] = BIGdf\n",
    "# GRAPHS['maxes'] = maxes\n",
    "# pickle.dump(saveme, open('/Users/gracer/Google Drive/ABCD/tmp/just_mean', 'wb'), protocol=4)"
   ]
  }
 ],
 "metadata": {
  "kernelspec": {
   "display_name": "Python 3",
   "language": "python",
   "name": "python3"
  },
  "language_info": {
   "codemirror_mode": {
    "name": "ipython",
    "version": 3
   },
   "file_extension": ".py",
   "mimetype": "text/x-python",
   "name": "python",
   "nbconvert_exporter": "python",
   "pygments_lexer": "ipython3",
   "version": "3.6.5"
  }
 },
 "nbformat": 4,
 "nbformat_minor": 2
}
